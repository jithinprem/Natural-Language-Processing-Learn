{
 "cells": [
  {
   "cell_type": "code",
   "execution_count": 1,
   "id": "c59c52e1",
   "metadata": {},
   "outputs": [],
   "source": [
    "person = 'jason'"
   ]
  },
  {
   "cell_type": "code",
   "execution_count": 4,
   "id": "b9698a2c",
   "metadata": {},
   "outputs": [
    {
     "name": "stdout",
     "output_type": "stream",
     "text": [
      "myname is jason\n"
     ]
    }
   ],
   "source": [
    "print(f\"myname is {person}\")"
   ]
  },
  {
   "cell_type": "markdown",
   "id": "e77343cf",
   "metadata": {},
   "source": [
    "formatting string to correct spaces"
   ]
  },
  {
   "cell_type": "code",
   "execution_count": 5,
   "id": "9a4ed1ac",
   "metadata": {},
   "outputs": [],
   "source": [
    "mylist = [('person', 'stream', 'pass'),('jithin', 'computer science engineer', 2023), ('kiran', 'medi', 2028)]"
   ]
  },
  {
   "cell_type": "code",
   "execution_count": 6,
   "id": "56c9e4ac",
   "metadata": {},
   "outputs": [
    {
     "data": {
      "text/plain": [
       "[('person', 'stream', 'pass'),\n",
       " ('jithin', 'computer science engineer', 2023),\n",
       " ('kiran', 'medi', 2028)]"
      ]
     },
     "execution_count": 6,
     "metadata": {},
     "output_type": "execute_result"
    }
   ],
   "source": [
    "mylist"
   ]
  },
  {
   "cell_type": "code",
   "execution_count": 18,
   "id": "38b8130b",
   "metadata": {},
   "outputs": [
    {
     "name": "stdout",
     "output_type": "stream",
     "text": [
      "person     stream                               pass\n",
      "jithin     computer science engineer            2023\n",
      "kiran      medi                                 2028\n"
     ]
    }
   ],
   "source": [
    "for person, stream, passing in mylist:\n",
    "    print(f\"{person:{10}} {stream:{30}} {passing:>{10}}\")"
   ]
  },
  {
   "cell_type": "code",
   "execution_count": 19,
   "id": "ac80eb3f",
   "metadata": {},
   "outputs": [
    {
     "name": "stdout",
     "output_type": "stream",
     "text": [
      "person     stream                         ------pass\n",
      "jithin     computer science engineer      ------2023\n",
      "kiran      medi                           ------2028\n"
     ]
    }
   ],
   "source": [
    "for person, stream, passing in mylist:\n",
    "    print(f\"{person:{10}} {stream:{30}} {passing:->{10}}\")"
   ]
  },
  {
   "cell_type": "code",
   "execution_count": null,
   "id": "64581bf0",
   "metadata": {},
   "outputs": [],
   "source": []
  },
  {
   "cell_type": "markdown",
   "id": "bc8f7dc9",
   "metadata": {},
   "source": [
    "### Daytime"
   ]
  },
  {
   "cell_type": "code",
   "execution_count": 21,
   "id": "59e4d1ee",
   "metadata": {},
   "outputs": [],
   "source": [
    "from datetime import datetime"
   ]
  },
  {
   "cell_type": "code",
   "execution_count": 22,
   "id": "51f44344",
   "metadata": {},
   "outputs": [],
   "source": [
    "today = datetime(year=2009, month= 2, day = 14)"
   ]
  },
  {
   "cell_type": "code",
   "execution_count": 23,
   "id": "ecd3e956",
   "metadata": {},
   "outputs": [
    {
     "name": "stdout",
     "output_type": "stream",
     "text": [
      "2009-02-14 00:00:00\n"
     ]
    }
   ],
   "source": [
    "print(today)"
   ]
  },
  {
   "cell_type": "code",
   "execution_count": 25,
   "id": "23ada3f6",
   "metadata": {},
   "outputs": [],
   "source": [
    "# now you can also output this in specified format you want it to be\n",
    "# let's see it "
   ]
  },
  {
   "cell_type": "code",
   "execution_count": 27,
   "id": "6828ca39",
   "metadata": {},
   "outputs": [
    {
     "data": {
      "text/plain": [
       "2009"
      ]
     },
     "execution_count": 27,
     "metadata": {},
     "output_type": "execute_result"
    }
   ],
   "source": [
    "# 1) outputting the year:\n",
    "today.year"
   ]
  },
  {
   "cell_type": "code",
   "execution_count": 28,
   "id": "82bba558",
   "metadata": {},
   "outputs": [
    {
     "data": {
      "text/plain": [
       "2"
      ]
     },
     "execution_count": 28,
     "metadata": {},
     "output_type": "execute_result"
    }
   ],
   "source": [
    "# 2) outputting month\n",
    "today.month"
   ]
  },
  {
   "cell_type": "code",
   "execution_count": 30,
   "id": "95583db3",
   "metadata": {},
   "outputs": [
    {
     "data": {
      "text/plain": [
       "14"
      ]
     },
     "execution_count": 30,
     "metadata": {},
     "output_type": "execute_result"
    }
   ],
   "source": [
    "# 3) outputting day\n",
    "today.day"
   ]
  },
  {
   "cell_type": "code",
   "execution_count": 31,
   "id": "a359d403",
   "metadata": {},
   "outputs": [],
   "source": [
    "# using formatting you wish"
   ]
  },
  {
   "cell_type": "markdown",
   "id": "50923546",
   "metadata": {},
   "source": [
    "#### go to strftime.org to find the corresponding string"
   ]
  },
  {
   "cell_type": "code",
   "execution_count": 35,
   "id": "ac9fb755",
   "metadata": {},
   "outputs": [
    {
     "name": "stdout",
     "output_type": "stream",
     "text": [
      "14 February 2009\n"
     ]
    }
   ],
   "source": [
    "# points\n",
    "# use fstring\n",
    "# used inside curly braces\n",
    "# see strftime for looking for correspoinding values\n",
    "# use colon ':' to specify the shortvalues\n",
    "\n",
    "print(f\"{today:%d %B %Y}\")"
   ]
  },
  {
   "cell_type": "code",
   "execution_count": null,
   "id": "b57aabd2",
   "metadata": {},
   "outputs": [],
   "source": []
  },
  {
   "cell_type": "code",
   "execution_count": null,
   "id": "892cc47a",
   "metadata": {},
   "outputs": [],
   "source": []
  },
  {
   "cell_type": "markdown",
   "id": "28098a48",
   "metadata": {},
   "source": [
    "### Tutorial 2 :"
   ]
  },
  {
   "cell_type": "markdown",
   "id": "264a754b",
   "metadata": {},
   "source": []
  },
  {
   "cell_type": "code",
   "execution_count": 36,
   "id": "2b91e0cf",
   "metadata": {},
   "outputs": [
    {
     "name": "stdout",
     "output_type": "stream",
     "text": [
      "Writing test.txt\n"
     ]
    }
   ],
   "source": [
    "# Create a file shortcut for jupyter notebook\n",
    "# use the first line and create the textfile\n",
    "\n",
    "%%writefile test.txt\n",
    "hello this is a quick text\n",
    "this works only on jupyter notebook"
   ]
  },
  {
   "cell_type": "markdown",
   "id": "52553883",
   "metadata": {},
   "source": [
    "#### Reading from a file"
   ]
  },
  {
   "cell_type": "code",
   "execution_count": 50,
   "id": "e28323f7",
   "metadata": {},
   "outputs": [],
   "source": [
    "# note : if you find any error 2 it would probably because of wrong file path, or file don't exist\n",
    "# if you wanna open an file in some other file path you can type in the exact path\n",
    "myfile = open('test.txt')"
   ]
  },
  {
   "cell_type": "code",
   "execution_count": 51,
   "id": "0af1c62f",
   "metadata": {},
   "outputs": [],
   "source": [
    "# to find the current file path"
   ]
  },
  {
   "cell_type": "code",
   "execution_count": 52,
   "id": "487d2213",
   "metadata": {},
   "outputs": [
    {
     "data": {
      "text/plain": [
       "'C:\\\\Users\\\\LENOVO\\\\Natural Lang Processing (learning)'"
      ]
     },
     "execution_count": 52,
     "metadata": {},
     "output_type": "execute_result"
    }
   ],
   "source": [
    "pwd"
   ]
  },
  {
   "cell_type": "code",
   "execution_count": 53,
   "id": "ba03c672",
   "metadata": {},
   "outputs": [
    {
     "data": {
      "text/plain": [
       "<_io.TextIOWrapper name='test.txt' mode='r' encoding='cp1252'>"
      ]
     },
     "execution_count": 53,
     "metadata": {},
     "output_type": "execute_result"
    }
   ],
   "source": [
    "myfile"
   ]
  },
  {
   "cell_type": "code",
   "execution_count": 54,
   "id": "235a6165",
   "metadata": {},
   "outputs": [
    {
     "data": {
      "text/plain": [
       "'hello this is a quick text\\nthis works only on jupyter notebook\\n'"
      ]
     },
     "execution_count": 54,
     "metadata": {},
     "output_type": "execute_result"
    }
   ],
   "source": [
    "myfile.read()"
   ]
  },
  {
   "cell_type": "code",
   "execution_count": 55,
   "id": "1a9d278b",
   "metadata": {},
   "outputs": [
    {
     "data": {
      "text/plain": [
       "''"
      ]
     },
     "execution_count": 55,
     "metadata": {},
     "output_type": "execute_result"
    }
   ],
   "source": [
    "myfile.read()"
   ]
  },
  {
   "cell_type": "code",
   "execution_count": 56,
   "id": "13f40335",
   "metadata": {},
   "outputs": [],
   "source": [
    "# observe : the first time you read the file the file is read and the cursor is\n",
    "# placed at the end.. therefore the next time it is read , it shows empty string\n",
    "# now if you wanna fix this reset the cursor to the beginning"
   ]
  },
  {
   "cell_type": "code",
   "execution_count": 57,
   "id": "fcb55ba5",
   "metadata": {},
   "outputs": [
    {
     "data": {
      "text/plain": [
       "0"
      ]
     },
     "execution_count": 57,
     "metadata": {},
     "output_type": "execute_result"
    }
   ],
   "source": [
    "myfile.seek(0)"
   ]
  },
  {
   "cell_type": "code",
   "execution_count": 58,
   "id": "5875b59a",
   "metadata": {},
   "outputs": [
    {
     "data": {
      "text/plain": [
       "'hello this is a quick text\\nthis works only on jupyter notebook\\n'"
      ]
     },
     "execution_count": 58,
     "metadata": {},
     "output_type": "execute_result"
    }
   ],
   "source": [
    "myfile.read()"
   ]
  },
  {
   "cell_type": "code",
   "execution_count": 66,
   "id": "a83ba4a7",
   "metadata": {},
   "outputs": [
    {
     "data": {
      "text/plain": [
       "0"
      ]
     },
     "execution_count": 66,
     "metadata": {},
     "output_type": "execute_result"
    }
   ],
   "source": [
    "myfile.seek(0)"
   ]
  },
  {
   "cell_type": "code",
   "execution_count": 67,
   "id": "558149dc",
   "metadata": {},
   "outputs": [],
   "source": [
    "# to avoid this seek headache you can save the read file into something \n",
    "content = myfile.read()"
   ]
  },
  {
   "cell_type": "code",
   "execution_count": 68,
   "id": "e576a024",
   "metadata": {},
   "outputs": [
    {
     "name": "stdout",
     "output_type": "stream",
     "text": [
      "hello this is a quick text\n",
      "this works only on jupyter notebook\n",
      "\n"
     ]
    }
   ],
   "source": [
    "print(content)"
   ]
  },
  {
   "cell_type": "code",
   "execution_count": 71,
   "id": "0af21f06",
   "metadata": {},
   "outputs": [],
   "source": [
    "# always close the file object\n",
    "myfile.close()"
   ]
  },
  {
   "cell_type": "code",
   "execution_count": 77,
   "id": "ce7a13c6",
   "metadata": {},
   "outputs": [],
   "source": [
    "myfile = open('test.txt')"
   ]
  },
  {
   "cell_type": "code",
   "execution_count": 78,
   "id": "104a4db0",
   "metadata": {},
   "outputs": [],
   "source": [
    "mylines = myfile.readlines()"
   ]
  },
  {
   "cell_type": "code",
   "execution_count": 79,
   "id": "910e5895",
   "metadata": {},
   "outputs": [
    {
     "data": {
      "text/plain": [
       "['hello this is a quick text\\n', 'this works only on jupyter notebook\\n']"
      ]
     },
     "execution_count": 79,
     "metadata": {},
     "output_type": "execute_result"
    }
   ],
   "source": [
    "mylines"
   ]
  },
  {
   "cell_type": "code",
   "execution_count": 80,
   "id": "ee52b311",
   "metadata": {},
   "outputs": [
    {
     "data": {
      "text/plain": [
       "'hello this is a quick text\\n'"
      ]
     },
     "execution_count": 80,
     "metadata": {},
     "output_type": "execute_result"
    }
   ],
   "source": [
    "mylines[0]"
   ]
  },
  {
   "cell_type": "markdown",
   "id": "21d9f174",
   "metadata": {},
   "source": [
    "#### writing into a file"
   ]
  },
  {
   "cell_type": "code",
   "execution_count": 81,
   "id": "0e54ac90",
   "metadata": {},
   "outputs": [],
   "source": [
    "# so far we have looked at reading from a file, now let's see about writing into file"
   ]
  },
  {
   "cell_type": "code",
   "execution_count": 83,
   "id": "797368a6",
   "metadata": {},
   "outputs": [],
   "source": [
    "myfile = open('test.txt','w+')"
   ]
  },
  {
   "cell_type": "markdown",
   "id": "ab107517",
   "metadata": {},
   "source": [
    "### CAUTION : \n",
    "#### when you open a file in w+ mode it will overwrite the file and clear everything as soon as you open it"
   ]
  },
  {
   "cell_type": "code",
   "execution_count": 85,
   "id": "b47bc173",
   "metadata": {},
   "outputs": [
    {
     "data": {
      "text/plain": [
       "''"
      ]
     },
     "execution_count": 85,
     "metadata": {},
     "output_type": "execute_result"
    }
   ],
   "source": [
    "myfile.read()"
   ]
  },
  {
   "cell_type": "code",
   "execution_count": 87,
   "id": "0b390549",
   "metadata": {},
   "outputs": [],
   "source": [
    "# see the empty string above, so be cautious"
   ]
  },
  {
   "cell_type": "code",
   "execution_count": 88,
   "id": "dcebcc99",
   "metadata": {},
   "outputs": [
    {
     "data": {
      "text/plain": [
       "12"
      ]
     },
     "execution_count": 88,
     "metadata": {},
     "output_type": "execute_result"
    }
   ],
   "source": [
    "myfile.write('My dear file')"
   ]
  },
  {
   "cell_type": "code",
   "execution_count": 91,
   "id": "1b70d716",
   "metadata": {},
   "outputs": [
    {
     "data": {
      "text/plain": [
       "0"
      ]
     },
     "execution_count": 91,
     "metadata": {},
     "output_type": "execute_result"
    }
   ],
   "source": [
    "myfile.seek(0)"
   ]
  },
  {
   "cell_type": "markdown",
   "id": "e2e9b490",
   "metadata": {},
   "source": [
    " "
   ]
  },
  {
   "cell_type": "code",
   "execution_count": 92,
   "id": "ed888cfa",
   "metadata": {},
   "outputs": [
    {
     "data": {
      "text/plain": [
       "'My dear file'"
      ]
     },
     "execution_count": 92,
     "metadata": {},
     "output_type": "execute_result"
    }
   ],
   "source": [
    "myfile.read()"
   ]
  },
  {
   "cell_type": "markdown",
   "id": "488d9837",
   "metadata": {},
   "source": [
    "#### now let's see how to append to a file"
   ]
  },
  {
   "cell_type": "code",
   "execution_count": 94,
   "id": "565ff381",
   "metadata": {},
   "outputs": [],
   "source": [
    "# if there is no file with this name, it will actually create a new file\n",
    "\n",
    "myfile = open('test.txt', 'a+')"
   ]
  },
  {
   "cell_type": "code",
   "execution_count": 95,
   "id": "916b9995",
   "metadata": {},
   "outputs": [
    {
     "data": {
      "text/plain": [
       "40"
      ]
     },
     "execution_count": 95,
     "metadata": {},
     "output_type": "execute_result"
    }
   ],
   "source": [
    "myfile.write('this is appended information to the file')"
   ]
  },
  {
   "cell_type": "code",
   "execution_count": null,
   "id": "9327464e",
   "metadata": {},
   "outputs": [],
   "source": []
  },
  {
   "cell_type": "code",
   "execution_count": 99,
   "id": "f3ac26eb",
   "metadata": {},
   "outputs": [
    {
     "data": {
      "text/plain": [
       "0"
      ]
     },
     "execution_count": 99,
     "metadata": {},
     "output_type": "execute_result"
    }
   ],
   "source": [
    "myfile.seek(0)"
   ]
  },
  {
   "cell_type": "code",
   "execution_count": 100,
   "id": "928df1a4",
   "metadata": {},
   "outputs": [],
   "source": [
    "new_file = myfile.read()"
   ]
  },
  {
   "cell_type": "code",
   "execution_count": 101,
   "id": "8737ba00",
   "metadata": {},
   "outputs": [
    {
     "data": {
      "text/plain": [
       "'My dear filethis is appended information to the file'"
      ]
     },
     "execution_count": 101,
     "metadata": {},
     "output_type": "execute_result"
    }
   ],
   "source": [
    "new_file"
   ]
  },
  {
   "cell_type": "code",
   "execution_count": 102,
   "id": "fc0c0785",
   "metadata": {},
   "outputs": [],
   "source": [
    "# so we have appended info to the previous file, forgot to put a space ;)"
   ]
  },
  {
   "cell_type": "code",
   "execution_count": 103,
   "id": "4e55f023",
   "metadata": {},
   "outputs": [],
   "source": [
    "myfile.close()"
   ]
  },
  {
   "cell_type": "markdown",
   "id": "dd05bca6",
   "metadata": {},
   "source": []
  },
  {
   "cell_type": "markdown",
   "id": "73df7da1",
   "metadata": {},
   "source": [
    "### Betterway to open file\n",
    "when you open the file the normal way it is likely that you forget to close it so preferably open it with command 'with'"
   ]
  },
  {
   "cell_type": "code",
   "execution_count": 105,
   "id": "da3eb909",
   "metadata": {},
   "outputs": [
    {
     "name": "stdout",
     "output_type": "stream",
     "text": [
      "My dear filethis is appended information to the file\n"
     ]
    }
   ],
   "source": [
    "# this statement will automatically close the file as we move out of the scope\n",
    "\n",
    "with open('test.txt') as myfile:\n",
    "    myfile.seek(0)\n",
    "    print(myfile.read())"
   ]
  },
  {
   "cell_type": "code",
   "execution_count": null,
   "id": "f10863b0",
   "metadata": {},
   "outputs": [],
   "source": []
  },
  {
   "cell_type": "code",
   "execution_count": null,
   "id": "e12647f3",
   "metadata": {},
   "outputs": [],
   "source": []
  },
  {
   "cell_type": "markdown",
   "id": "9edbba7d",
   "metadata": {},
   "source": [
    "## Reading Pdf Files"
   ]
  },
  {
   "cell_type": "markdown",
   "id": "9d72b766",
   "metadata": {},
   "source": [
    "note:\n",
    "some pdf files are like images(scanned copy), they can't be read with mentioned metod, search how to open those if you need to, they always don't open correct\n",
    "\n",
    "pip install PyPDF2 is the file to import\n",
    "\n",
    "import PyPDF2"
   ]
  },
  {
   "cell_type": "code",
   "execution_count": 108,
   "id": "cf1c81ed",
   "metadata": {},
   "outputs": [],
   "source": [
    "import PyPDF2"
   ]
  },
  {
   "cell_type": "code",
   "execution_count": 109,
   "id": "e8ce8b22",
   "metadata": {},
   "outputs": [],
   "source": [
    "# read a pdf, just like file\n",
    "# now instead of using the naive methods of the opened file create a PyPDF2.PdfFileReader(your_file)\n",
    "# there are methods defined for this object, use them, some of them are like numPages, we will see some\n",
    "#"
   ]
  },
  {
   "cell_type": "code",
   "execution_count": 119,
   "id": "b3d2c194",
   "metadata": {},
   "outputs": [],
   "source": [
    "myfile = open('resources/US_Declaration.pdf', mode = 'rb')"
   ]
  },
  {
   "cell_type": "code",
   "execution_count": 120,
   "id": "f179e057",
   "metadata": {},
   "outputs": [],
   "source": [
    "pdf_reader = PyPDF2.PdfFileReader(myfile)"
   ]
  },
  {
   "cell_type": "code",
   "execution_count": 121,
   "id": "fe107ca4",
   "metadata": {},
   "outputs": [
    {
     "data": {
      "text/plain": [
       "5"
      ]
     },
     "execution_count": 121,
     "metadata": {},
     "output_type": "execute_result"
    }
   ],
   "source": [
    "# let's see some of the functions in this module\n",
    "\n",
    "pdf_reader.numPages"
   ]
  },
  {
   "cell_type": "code",
   "execution_count": 122,
   "id": "f132b8af",
   "metadata": {},
   "outputs": [],
   "source": [
    "page_one = pdf_reader.getPage(0)\n",
    "pageone_txt = page_one.extract_text()"
   ]
  },
  {
   "cell_type": "code",
   "execution_count": 124,
   "id": "b1462d0e",
   "metadata": {},
   "outputs": [
    {
     "name": "stdout",
     "output_type": "stream",
     "text": [
      "Declaration of Independence\n",
      "IN CONGRESS, July 4, 1776.  The unanimous Declaration of the thirteen united States of America,  When in the Course of human events, it becomes necessary for one people to dissolve thepolitical bands which have connected them with another, and to assume among the powers of theearth, the separate and equal station to which the Laws of Nature and of Nature's God entitlethem, a decent respect to the opinions of mankind requires that they should declare the causeswhich impel them to the separation. We hold these truths to be self-evident, that all men are created equal, that they are endowed bytheir Creator with certain unalienable Rights, that among these are Life, Liberty and the pursuitof Happiness.— \u0014That to secure these rights, Governments are instituted among Men, derivingtheir just powers from the consent of the governed,—  \u0014That whenever any Form of Governmentbecomes destructive of these ends, it is the Right of the People to alter or to abolish it, and toinstitute new Government, laying its foundation on such principles and organizing its powers insuch form, as to them shall seem most likely to effect their Safety and Happiness. Prudence,indeed, will dictate that Governments long established should not be changed for light andtransient causes; and accordingly all experience hath shewn, that mankind are more disposed tosuffer, while evils are sufferable, than to right themselves by abolishing the forms to which theyare accustomed. But when a long train of abuses and usurpations, pursuing invariably the sameObject evinces a design to reduce them under absolute Despotism, it is their right, it is their duty,to throw off such Government, and to provide new Guards for their future securit y.— \u0014Such has been the patient sufferance of these Colonies; and such is now the necessity which constrainsthem to alter their former Systems of Government. The history of the present King of GreatBritain is a history of repeated injuries and usurpations, all having in direct object theestablishment of an absolute Tyranny over these States. To prove this, let Facts be submitted to acandid world. He has refused his Assent to Laws, the most wholesome and necessary for thepublic good.He has forbidden his Governors to pass Laws of immediate and pressingimportance, unless suspended in their operation till his Assent should be obtained;and when so suspended, he has utterly neglected to attend to them.He has refused to pass other Laws for the accommodation of large districts ofpeople, unless those people would relinquish the right of Representation in theLegislature, a right inestimable to them and formidable to tyrants only. He has called together legislative bodies at places unusual, uncomfortable, and distantfrom the depository of their public Records, for the sole purpose of fatiguing them intocompliance with his measures.\n"
     ]
    }
   ],
   "source": [
    "print(pageone_txt)"
   ]
  },
  {
   "cell_type": "markdown",
   "id": "62be650d",
   "metadata": {},
   "source": [
    "### Note: \n",
    "- you cannot add text to pdf directly, the pdf involves more than just a text\n",
    "- but you can copy pages of another pdf and paste it"
   ]
  },
  {
   "cell_type": "code",
   "execution_count": 125,
   "id": "cdff37e8",
   "metadata": {},
   "outputs": [],
   "source": [
    "myfile.close()"
   ]
  },
  {
   "cell_type": "markdown",
   "id": "0dcbc24b",
   "metadata": {},
   "source": [
    "### Let's add a pdf page to our file\n",
    "#### Steps:\n",
    "- open file on which copy operation is to be performed\n",
    "- now open the pdf file on which write is to be performed\n",
    "- we open a new pdf with 'wb' , so if the file did'nt exist a new file is created\n",
    "- and create PyPDF2.PdfFileReader(your_file)\n",
    "- create a PyPDF2.PdfFileWriter()\n",
    "- the pdf_reader object used to call getPage() func to get the preferred page\n",
    "- add page to the object by pdf_writer.addPage(your_page)\n",
    "- use write of pdf_writer object pdf_writer.write(opened_pdf)"
   ]
  },
  {
   "cell_type": "code",
   "execution_count": 135,
   "id": "c13ad3a3",
   "metadata": {},
   "outputs": [],
   "source": [
    "myfile = open('resources/US_Declaration.pdf', mode = 'rb')\n",
    "output_file = open('resources/MY_OUT.pdf', mode= 'wb')"
   ]
  },
  {
   "cell_type": "code",
   "execution_count": 136,
   "id": "cdd9433a",
   "metadata": {},
   "outputs": [],
   "source": [
    "pdf_reader = PyPDF2.PdfFileReader(myfile)\n",
    "pdf_writer = PyPDF2.PdfFileWriter()"
   ]
  },
  {
   "cell_type": "code",
   "execution_count": 137,
   "id": "42f27247",
   "metadata": {},
   "outputs": [],
   "source": [
    "first_page = pdf_reader.getPage(0)"
   ]
  },
  {
   "cell_type": "code",
   "execution_count": 138,
   "id": "90b7bdbb",
   "metadata": {},
   "outputs": [],
   "source": [
    "pdf_writer.addPage(first_page)\n",
    "# we are adding the page to our object and next we need to write it to pdf using the created object"
   ]
  },
  {
   "cell_type": "code",
   "execution_count": 139,
   "id": "527d67e5",
   "metadata": {},
   "outputs": [
    {
     "data": {
      "text/plain": [
       "(False, <_io.BufferedWriter name='resources/MY_OUT.pdf'>)"
      ]
     },
     "execution_count": 139,
     "metadata": {},
     "output_type": "execute_result"
    }
   ],
   "source": [
    "pdf_writer.write(output_file)"
   ]
  },
  {
   "cell_type": "code",
   "execution_count": 140,
   "id": "46054f02",
   "metadata": {},
   "outputs": [],
   "source": [
    "# remember to close or else it won't work\n",
    "\n",
    "myfile.close()\n",
    "output_file.close()"
   ]
  },
  {
   "cell_type": "code",
   "execution_count": 141,
   "id": "2c989304",
   "metadata": {},
   "outputs": [],
   "source": [
    "f = open('resources/US_Declaration.pdf', 'rb')\n",
    "pdf_text = []\n",
    "pdf_reader = PyPDF2.PdfFileReader(f)\n",
    "\n",
    "for p in range(pdf_reader.numPages):\n",
    "    page = pdf_reader.getPage(p)\n",
    "    pdf_text.append(page.extractText())"
   ]
  },
  {
   "cell_type": "code",
   "execution_count": 142,
   "id": "9748d8fc",
   "metadata": {},
   "outputs": [],
   "source": [
    "f.close()"
   ]
  },
  {
   "cell_type": "code",
   "execution_count": 145,
   "id": "bad093cf",
   "metadata": {},
   "outputs": [
    {
     "name": "stdout",
     "output_type": "stream",
     "text": [
      "Declaration of Independence\n",
      "IN CONGRESS, July 4, 1776.  The unanimous Declaration of the thirteen united States of America,  When in the Course of human events, it becomes necessary for one people to dissolve thepolitical bands which have connected them with another, and to assume among the powers of theearth, the separate and equal station to which the Laws of Nature and of Nature's God entitlethem, a decent respect to the opinions of mankind requires that they should declare the causeswhich impel them to the separation. We hold these truths to be self-evident, that all men are created equal, that they are endowed bytheir Creator with certain unalienable Rights, that among these are Life, Liberty and the pursuitof Happiness.— \u0014That to secure these rights, Governments are instituted among Men, derivingtheir just powers from the consent of the governed,—  \u0014That whenever any Form of Governmentbecomes destructive of these ends, it is the Right of the People to alter or to abolish it, and toinstitute new Government, laying its foundation on such principles and organizing its powers insuch form, as to them shall seem most likely to effect their Safety and Happiness. Prudence,indeed, will dictate that Governments long established should not be changed for light andtransient causes; and accordingly all experience hath shewn, that mankind are more disposed tosuffer, while evils are sufferable, than to right themselves by abolishing the forms to which theyare accustomed. But when a long train of abuses and usurpations, pursuing invariably the sameObject evinces a design to reduce them under absolute Despotism, it is their right, it is their duty,to throw off such Government, and to provide new Guards for their future securit y.— \u0014Such has been the patient sufferance of these Colonies; and such is now the necessity which constrainsthem to alter their former Systems of Government. The history of the present King of GreatBritain is a history of repeated injuries and usurpations, all having in direct object theestablishment of an absolute Tyranny over these States. To prove this, let Facts be submitted to acandid world. He has refused his Assent to Laws, the most wholesome and necessary for thepublic good.He has forbidden his Governors to pass Laws of immediate and pressingimportance, unless suspended in their operation till his Assent should be obtained;and when so suspended, he has utterly neglected to attend to them.He has refused to pass other Laws for the accommodation of large districts ofpeople, unless those people would relinquish the right of Representation in theLegislature, a right inestimable to them and formidable to tyrants only. He has called together legislative bodies at places unusual, uncomfortable, and distantfrom the depository of their public Records, for the sole purpose of fatiguing them intocompliance with his measures.\n",
      "\n",
      "\n",
      "\n",
      "\n",
      "\n",
      "He has dissolved Re presentative Ho uses repeatedly , for opposing wit h manly\n",
      "firmness his invasions on the rights of the people.\n",
      "He has refused for a long time, after such dissolutions, to cause others to be\n",
      "elected; whereby the Leg islative powers, incapable of Annihilation, have returned\n",
      "to the People at lar ge for their exe rcise; the State r emaining in the me an time\n",
      "exposed to all the dangers of invasion from without, and convulsions within.\n",
      "He has endeavou red to prevent the  population of these  States; for that pur pose\n",
      "obstructing the L aws for Natural ization of Foreig ners; refusing  to pass others to\n",
      "encourage their migrations hither, and raising the conditions of new\n",
      "Appropriations of  Lands.\n",
      "He has obstructed the Administration of Justice, by refusing his Assent to Laws\n",
      "for establishing  Judiciary pow ers.\n",
      "He has made Judge s dependent on his Wil l alone, for the te nure of their off ices,\n",
      "and the amount and  payment of t heir salaries.\n",
      "He has erected  a multitude of New  Offices, and se nt hither swarms of  Officers to\n",
      "harrass our people, and eat out their substance.\n",
      "He has kept among us, in times of peace, Standing Armies without the Consent of\n",
      "our legislature s.\n",
      "He has affected to render the Military independent of a nd superior to the Civil power.\n",
      "He has combined with others to subject us to a jurisdiction foreign to our\n",
      "constitution, and unacknowledged by our laws; giving his Assent to their Acts of\n",
      "pretended Legislation:\n",
      "For Quartering  large bodies of  armed troops amon g us:\n",
      "For protecting them, by a mock Trial, from punishment for any  Murders which\n",
      "they should c ommit on the Inha bitants of these Sta tes:\n",
      "For cutting off our Trade with all parts of the world:\n",
      "For imposing Taxe s on us without our Con sent: For deprivi ng us in many  cases,\n",
      "of t he b enef its of T rial by J ury:\n",
      "For transporting us beyond Seas to be tried for pretended of fences\n",
      "For abolishing the free System of English L aws in a neighbouring Province,\n",
      "establishing therein an Arbitrary government, and e nlarging its Boundaries so as\n",
      "\n",
      "\n",
      "\n",
      "\n",
      "\n",
      "to render it at onc e an example and fi t instrument for intr oducing the same\n",
      "absolute rule into  these Colonies:\n",
      "For taking away our Charters, abolishing our most valuable L aws, and altering\n",
      "fundamentally  the Forms of our G overnments:\n",
      "For suspending  our own Leg islatures, and de claring themse lves invested with\n",
      "power to legislate for us in all cases whatsoever.\n",
      "He has abdicated Government here, by declar ing us out of his Protection and\n",
      "waging War ag ainst us.\n",
      "He has plundered our seas, ravaged our Coasts, burnt our towns, and destroy ed the\n",
      "lives of our people.\n",
      "He is at this time transporting large Armies of foreign Mercenaries to compleat\n",
      "the works of death, desolation and tyranny , already begun with circumstances of\n",
      "Cruelty & pe rfidy scar cely para lleled in the most ba rbarous ages,  and totally\n",
      "unworthy of the Head of a civilized nation.\n",
      "He has constrained our fellow Citizens taken Captive on the high Seas to bear\n",
      "Arms against their Country, to become the executioners of their friends and\n",
      "Brethren, or to  fall themselves by  their Hands.\n",
      "He has excited domestic insurrections amongst us, and has endeavoured to bring\n",
      "on the inhabitants of our frontiers, the merciless Indian Savages, whose known\n",
      "rule of warfare, is an undistinguished destruction of all ages, sexes and conditions. \n",
      "In every  stage of these O ppressions We have  Petitioned for Redr ess in the most humble  terms:\n",
      "Our repeated Pe titions have been a nswered only  by repeate d injury. A Pr ince whose char acter is\n",
      "thus marked by every ac t which may define a Tyra nt, is unfit to be the ruler of a free people. \n",
      "Nor have We been wanting in attentions to our Brittish brethren. We have warned them from\n",
      "time to time  of attemp ts by th eir legi slature t o extend an  unwarra ntable jur isdiction  over us. We\n",
      "have reminded them of the circumstances of our emigration and settlement here. We have\n",
      "appealed to their native justice and magnanimity, and we have c onjured them by the ties of our\n",
      "common kindred to disavow these usurpations, which, would inevitably interrupt our\n",
      "connections and correspondence. They too have bee n deaf to the voice of justice and of\n",
      "consanguinity. We must, therefore, acquiesce in the necessity , which denounces our Separation,\n",
      "and hold them, as we hold the rest of mankind, Enemies in War, in Peace Friends. \n",
      "We, therefore, t he Representativ es of the united Sta tes of America, i n General Congr ess,\n",
      "Assembled, appealing to the Supreme Judge of the world for the rectitude of our intentions, do,\n",
      "in the Name, and by Authority of the g ood People of these Colonies, solemnly publish and\n",
      "declare, That th ese United Colonie s are, and of Rig ht ought to be Fre e and Indepe ndent States;\n",
      "that they are Absolved from all Allegiance to the British Crown, and that a ll political connection\n",
      "\n",
      "\n",
      "\n",
      "\n",
      "\n",
      "between them and the State of Great Britain, is and ought to be totally dissolved; and that as Freeand Independent States, they have full Power to levy War, conclude Peace, contract Alliances,establish Commerce, and to do all other Acts and Things which Independent States may of rightdo. And for the support of this Declaration, with a firm reliance on the protection of divineProvidence, we mutually pledge to each other our Lives, our Fortunes and our sacred Honor.[The 56 signatures on the Declaration were arranged in six columns: ] [Column 1] Georgia:   Button Gwinnett   Lyman Hall   George Walton [Column 2] North Carolina:   William Hooper   Joseph Hewes   John Penn South Carolina:   Edward Rutledge   Thomas Heyward, Jr.  Thomas Lynch, Jr.  Arthur Middleton [Column 3] Massachusetts:   John Hancock Maryland:   Samuel Chase   William Paca   Thomas Stone   Charles Carroll of Carrollton Virginia:   George Wythe   Richard Henry Lee   Thomas Jefferson   Benjamin Harrison   Thomas Nelson, Jr.   Francis Lightfoot Lee   Carter Braxton [Column 4] Pennsylvania:  Robert Morris   Benjamin Rush   Benjamin Franklin   John Morton\n",
      "\n",
      "\n",
      "\n",
      "\n",
      "\n",
      "   George Clymer   James Smith   George Taylor   James Wilson   George Ross Delaware:   Caesar Rodney   George Read   Thomas McKean [Column 5] New York:   William Floyd   Philip Livingston   Francis Lewis   Lewis Morris New Jersey:   Richard Stockton   John Witherspoon   Francis Hopkinson   John Hart   Abraham Clark [Column 6] New Hampshire:   Josiah Bartlett   William Whipple Massachusetts:   Samuel Adams   John Adams   Robert Treat Paine   Elbridge Gerry Rhode Island:   Stephen Hopkins   William Ellery Connecticut:   Roger Sherman   Samuel Huntington   William Williams   Oliver Wolcott New Hampshire: Matthew Thornton \n",
      "\n",
      "\n",
      "\n",
      "\n",
      "\n"
     ]
    }
   ],
   "source": [
    "for x in pdf_text:\n",
    "    print(x)\n",
    "    print('\\n\\n\\n\\n')"
   ]
  },
  {
   "cell_type": "code",
   "execution_count": null,
   "id": "d14705f2",
   "metadata": {},
   "outputs": [],
   "source": []
  },
  {
   "cell_type": "code",
   "execution_count": null,
   "id": "bf8aadae",
   "metadata": {},
   "outputs": [],
   "source": []
  },
  {
   "cell_type": "code",
   "execution_count": null,
   "id": "65bcbaa1",
   "metadata": {},
   "outputs": [],
   "source": []
  },
  {
   "cell_type": "markdown",
   "id": "4808ed34",
   "metadata": {},
   "source": [
    "# Regular Expressions:"
   ]
  },
  {
   "cell_type": "markdown",
   "id": "246f3d83",
   "metadata": {},
   "source": [
    "- used for pattern\n",
    "- allows to specify:\n",
    " - number of digits\n",
    " - start with something, end with something\n",
    "- Help in \n",
    " - tables for things refrence\n",
    " - quantifiers\n",
    " - groups \n",
    " - additional Regex syntax, or operator, wildcard etc\n"
   ]
  },
  {
   "cell_type": "markdown",
   "id": "98031938",
   "metadata": {},
   "source": [
    "### Steps for specifying :\n",
    "- import re module\n",
    "- re.search used to find the first occourance, re.findall used to find multiple\n",
    "- some methods include : span, start, end\n",
    "- to iterate through the occourance:\n",
    " - use re.finditer inside a for loop\n",
    " - match.span()\n",
    "- group() :  tells what's found"
   ]
  },
  {
   "cell_type": "code",
   "execution_count": 147,
   "id": "b5855f94",
   "metadata": {},
   "outputs": [],
   "source": [
    "pattern ='phone'"
   ]
  },
  {
   "cell_type": "code",
   "execution_count": 148,
   "id": "daea876e",
   "metadata": {},
   "outputs": [
    {
     "data": {
      "text/plain": [
       "<re.Match object; span=(6, 11), match='phone'>"
      ]
     },
     "execution_count": 148,
     "metadata": {},
     "output_type": "execute_result"
    }
   ],
   "source": [
    "text = \"hello phone you are a very good phone\"\n",
    "my_match = re.search(pattern, text)\n",
    "my_match"
   ]
  },
  {
   "cell_type": "code",
   "execution_count": 149,
   "id": "56227a39",
   "metadata": {},
   "outputs": [
    {
     "data": {
      "text/plain": [
       "(6, 11)"
      ]
     },
     "execution_count": 149,
     "metadata": {},
     "output_type": "execute_result"
    }
   ],
   "source": [
    "my_match.span()"
   ]
  },
  {
   "cell_type": "code",
   "execution_count": 150,
   "id": "f9ac1dcc",
   "metadata": {},
   "outputs": [
    {
     "data": {
      "text/plain": [
       "11"
      ]
     },
     "execution_count": 150,
     "metadata": {},
     "output_type": "execute_result"
    }
   ],
   "source": [
    "my_match.end()"
   ]
  },
  {
   "cell_type": "code",
   "execution_count": 151,
   "id": "a79669f5",
   "metadata": {},
   "outputs": [
    {
     "data": {
      "text/plain": [
       "6"
      ]
     },
     "execution_count": 151,
     "metadata": {},
     "output_type": "execute_result"
    }
   ],
   "source": [
    "my_match.start()"
   ]
  },
  {
   "cell_type": "code",
   "execution_count": 152,
   "id": "17f5164b",
   "metadata": {},
   "outputs": [],
   "source": [
    "# the above match is only used for one match, to get multiple matches we need:\n",
    "# use: re.findall(\"phone\", text)"
   ]
  },
  {
   "cell_type": "code",
   "execution_count": 153,
   "id": "f52d33f4",
   "metadata": {},
   "outputs": [
    {
     "data": {
      "text/plain": [
       "2"
      ]
     },
     "execution_count": 153,
     "metadata": {},
     "output_type": "execute_result"
    }
   ],
   "source": [
    "all_matches = re.findall(\"phone\", text)\n",
    "len(all_matches)"
   ]
  },
  {
   "cell_type": "code",
   "execution_count": 157,
   "id": "b824fe53",
   "metadata": {},
   "outputs": [
    {
     "name": "stdout",
     "output_type": "stream",
     "text": [
      "(6, 11)\n",
      "(32, 37)\n"
     ]
    }
   ],
   "source": [
    "# to find multiple occourance use a for loop and use re.finditer(\"phone\", text)\n",
    "\n",
    "for match in re.finditer(\"phone\", text):\n",
    "    print(match.span())"
   ]
  },
  {
   "cell_type": "markdown",
   "id": "91c2539e",
   "metadata": {},
   "source": [
    "#### Examples\n",
    "- \\d -  digit\n",
    "- \\w -  alphanumeric   \\w-\\w\\w\\w  -> A-b_1\n",
    "- \\s -  white space    a\\sb\\sc    -> a b c\n",
    "- \\D -  A non Digit    \\D\\D\\D\n",
    "- \\W -  Non-alphanumeric  \\W\\W\\W\\W -> *-+)\n",
    "- \\S -  Non-Whitespace  \\S\\S\\S     -> Yoy"
   ]
  },
  {
   "cell_type": "code",
   "execution_count": 166,
   "id": "bb74253d",
   "metadata": {},
   "outputs": [],
   "source": [
    "text = \"can you find my phone number in 999-333-2222 and 1234674\""
   ]
  },
  {
   "cell_type": "code",
   "execution_count": 171,
   "id": "b1e86cb3",
   "metadata": {},
   "outputs": [],
   "source": [
    "pattern = r\"\\d\\d\\d-\\d\\d\\d-\\d\\d\\d\\d\"\n",
    "phone_number = re.search(pattern, text)"
   ]
  },
  {
   "cell_type": "code",
   "execution_count": 172,
   "id": "0320d2e4",
   "metadata": {},
   "outputs": [
    {
     "data": {
      "text/plain": [
       "'999-333-2222'"
      ]
     },
     "execution_count": 172,
     "metadata": {},
     "output_type": "execute_result"
    }
   ],
   "source": [
    "phone_number.group()"
   ]
  },
  {
   "cell_type": "code",
   "execution_count": 173,
   "id": "d4895a4a",
   "metadata": {},
   "outputs": [],
   "source": [
    "# you can use findall to find all occournces of the string"
   ]
  },
  {
   "cell_type": "markdown",
   "id": "8e6931b0",
   "metadata": {},
   "source": [
    "### Quantifiers\n",
    "- now you can specify the number of occourances of stuff\n",
    "- table\n",
    " - \\+ occours one or moretimes\n",
    " - {3} occours 3 times\n",
    " - {2, 4} occours 2 to 4 times\n",
    " - {3,} occours 3 or more times\n",
    " - \\* occours 0 or more times\n",
    " - ? occours once or none    plurals?    eg_match : plural"
   ]
  },
  {
   "cell_type": "code",
   "execution_count": 175,
   "id": "1050505f",
   "metadata": {},
   "outputs": [],
   "source": [
    "# rewrite using quantifiers\n",
    "pattern = r'\\d{3}-\\d{3}-\\d{4}'\n",
    "phone_search = re.search(pattern, text)"
   ]
  },
  {
   "cell_type": "markdown",
   "id": "8406e8ee",
   "metadata": {},
   "source": [
    "you can use group to find the match"
   ]
  },
  {
   "cell_type": "code",
   "execution_count": 176,
   "id": "f786ea31",
   "metadata": {},
   "outputs": [
    {
     "data": {
      "text/plain": [
       "'999-333-2222'"
      ]
     },
     "execution_count": 176,
     "metadata": {},
     "output_type": "execute_result"
    }
   ],
   "source": [
    "phone_search.group()"
   ]
  },
  {
   "cell_type": "code",
   "execution_count": null,
   "id": "0915ba36",
   "metadata": {},
   "outputs": [],
   "source": []
  },
  {
   "cell_type": "markdown",
   "id": "ed85baef",
   "metadata": {},
   "source": [
    "### Regular exp . part 2"
   ]
  },
  {
   "cell_type": "markdown",
   "id": "08f388e3",
   "metadata": {},
   "source": [
    "you can use braces to group the substring inside the pattern"
   ]
  },
  {
   "cell_type": "code",
   "execution_count": 177,
   "id": "19896a52",
   "metadata": {},
   "outputs": [],
   "source": [
    "# the braces allow to identify the parts of the string that we got match\n",
    "# we can call the match using the index\n",
    "\n",
    "pattern = r'(\\d{3})-(\\d{3})-(\\d{4})'\n",
    "search_res = re.search(pattern, text)"
   ]
  },
  {
   "cell_type": "code",
   "execution_count": 179,
   "id": "abbc91e9",
   "metadata": {},
   "outputs": [
    {
     "data": {
      "text/plain": [
       "'333'"
      ]
     },
     "execution_count": 179,
     "metadata": {},
     "output_type": "execute_result"
    }
   ],
   "source": [
    "search_res.group(2)"
   ]
  },
  {
   "cell_type": "code",
   "execution_count": 180,
   "id": "b67e8e69",
   "metadata": {},
   "outputs": [
    {
     "data": {
      "text/plain": [
       "'999-333-2222'"
      ]
     },
     "execution_count": 180,
     "metadata": {},
     "output_type": "execute_result"
    }
   ],
   "source": [
    "search_res.group()"
   ]
  },
  {
   "cell_type": "code",
   "execution_count": 181,
   "id": "d4798c40",
   "metadata": {},
   "outputs": [],
   "source": [
    "# look above, how it was able to select the second set of matched string according to the braces"
   ]
  },
  {
   "cell_type": "markdown",
   "id": "6474bea5",
   "metadata": {},
   "source": [
    "#### OR\n",
    "- the or oprator can be used to search any of the given patterns.\n",
    "- if any one occours, it shows up\n",
    "- | operator used"
   ]
  },
  {
   "cell_type": "code",
   "execution_count": 183,
   "id": "34ee5ea0",
   "metadata": {},
   "outputs": [
    {
     "data": {
      "text/plain": [
       "<re.Match object; span=(4, 7), match='man'>"
      ]
     },
     "execution_count": 183,
     "metadata": {},
     "output_type": "execute_result"
    }
   ],
   "source": [
    "text1 = \"the man was here\"\n",
    "pattern = r'man|women'\n",
    "re.search(pattern, text1)"
   ]
  },
  {
   "cell_type": "code",
   "execution_count": 184,
   "id": "72aae88f",
   "metadata": {},
   "outputs": [
    {
     "data": {
      "text/plain": [
       "<re.Match object; span=(4, 9), match='women'>"
      ]
     },
     "execution_count": 184,
     "metadata": {},
     "output_type": "execute_result"
    }
   ],
   "source": [
    "text2 = 'the women was here'\n",
    "re.search(pattern, text2)"
   ]
  },
  {
   "cell_type": "code",
   "execution_count": null,
   "id": "9beaf99d",
   "metadata": {},
   "outputs": [],
   "source": []
  },
  {
   "cell_type": "markdown",
   "id": "52600b3e",
   "metadata": {},
   "source": [
    "#### WildCard\n",
    "- wild card can be used to replace that place with anything\n",
    "- note: it only outputs the specified number of character see slat in the eg"
   ]
  },
  {
   "cell_type": "code",
   "execution_count": 185,
   "id": "925cbfe1",
   "metadata": {},
   "outputs": [
    {
     "data": {
      "text/plain": [
       "['cat', 'sat', 'hat', 'lat']"
      ]
     },
     "execution_count": 185,
     "metadata": {},
     "output_type": "execute_result"
    }
   ],
   "source": [
    "re.findall(r'.at', \"the cat sat on the hat in slat\")"
   ]
  },
  {
   "cell_type": "code",
   "execution_count": 186,
   "id": "5df753f0",
   "metadata": {},
   "outputs": [
    {
     "data": {
      "text/plain": [
       "[' cat', ' sat', ' hat', 'slat']"
      ]
     },
     "execution_count": 186,
     "metadata": {},
     "output_type": "execute_result"
    }
   ],
   "source": [
    "re.findall(r'..at', \"the cat sat on the hat in slat\")"
   ]
  },
  {
   "cell_type": "code",
   "execution_count": null,
   "id": "828597fd",
   "metadata": {},
   "outputs": [],
   "source": []
  },
  {
   "cell_type": "markdown",
   "id": "0b1acc59",
   "metadata": {},
   "source": [
    "#### To specify what to start with and what to end with\n",
    "- \\$ used to deonte what it end with\n",
    "- ^ used to denote what it start with"
   ]
  },
  {
   "cell_type": "code",
   "execution_count": 191,
   "id": "33550ea5",
   "metadata": {},
   "outputs": [
    {
     "data": {
      "text/plain": [
       "['2']"
      ]
     },
     "execution_count": 191,
     "metadata": {},
     "output_type": "execute_result"
    }
   ],
   "source": [
    "# $ can be used to denote the ends with...\n",
    "re.findall(r'\\d$', 'this3 string ends2')"
   ]
  },
  {
   "cell_type": "code",
   "execution_count": 199,
   "id": "c4353452",
   "metadata": {},
   "outputs": [
    {
     "data": {
      "text/plain": [
       "['1']"
      ]
     },
     "execution_count": 199,
     "metadata": {},
     "output_type": "execute_result"
    }
   ],
   "source": [
    "# ^ used to show starts with\n",
    "re.findall(r'^\\d', '100thi3s 8ends with number 2')"
   ]
  },
  {
   "cell_type": "code",
   "execution_count": 201,
   "id": "4488b66e",
   "metadata": {},
   "outputs": [
    {
     "data": {
      "text/plain": [
       "['there are ', ' numsbers inside ', ' of the sentences']"
      ]
     },
     "execution_count": 201,
     "metadata": {},
     "output_type": "execute_result"
    }
   ],
   "source": [
    "# [] DENOTE EXCLUSION\n",
    "phrase = \"there are 34 numsbers inside 3 of the sentences\"\n",
    "re.findall(r'[^\\d]+', phrase)  # here we exclude any digits"
   ]
  },
  {
   "cell_type": "code",
   "execution_count": 206,
   "id": "a5fdd576",
   "metadata": {},
   "outputs": [
    {
     "data": {
      "text/plain": [
       "'there are '"
      ]
     },
     "execution_count": 206,
     "metadata": {},
     "output_type": "execute_result"
    }
   ],
   "source": [
    "# + denotes one or more characters, and search method returns only the first match\n",
    "re.search(r'[^\\d]+', phrase).group()  "
   ]
  },
  {
   "cell_type": "markdown",
   "id": "202995ab",
   "metadata": {},
   "source": [
    "#### remove punchuation example **"
   ]
  },
  {
   "cell_type": "code",
   "execution_count": 211,
   "id": "f63a5d31",
   "metadata": {},
   "outputs": [],
   "source": [
    "test_phrase = 'how.to remove? all the ! puncuation, in it'\n",
    "mylist = re.findall('[^\\.,!?]+', test_phrase)"
   ]
  },
  {
   "cell_type": "code",
   "execution_count": 212,
   "id": "9089ee3d",
   "metadata": {},
   "outputs": [
    {
     "data": {
      "text/plain": [
       "['how', 'to remove', ' all the ', ' puncuation', ' in it']"
      ]
     },
     "execution_count": 212,
     "metadata": {},
     "output_type": "execute_result"
    }
   ],
   "source": [
    "mylist"
   ]
  },
  {
   "cell_type": "code",
   "execution_count": 213,
   "id": "d2e66ad6",
   "metadata": {},
   "outputs": [
    {
     "data": {
      "text/plain": [
       "'how to remove  all the   puncuation  in it'"
      ]
     },
     "execution_count": 213,
     "metadata": {},
     "output_type": "execute_result"
    }
   ],
   "source": [
    "' '.join(mylist)"
   ]
  },
  {
   "cell_type": "code",
   "execution_count": 214,
   "id": "592a9ae0",
   "metadata": {},
   "outputs": [],
   "source": [
    "text = 'Only find the hypen-words, Were are the long-is dash words ?'"
   ]
  },
  {
   "cell_type": "code",
   "execution_count": 216,
   "id": "cda25762",
   "metadata": {},
   "outputs": [],
   "source": [
    "mylist = re.findall(r'[\\w]+-[\\w]+', text)"
   ]
  },
  {
   "cell_type": "code",
   "execution_count": 217,
   "id": "694180c6",
   "metadata": {},
   "outputs": [
    {
     "data": {
      "text/plain": [
       "['hypen-words', 'long-is']"
      ]
     },
     "execution_count": 217,
     "metadata": {},
     "output_type": "execute_result"
    }
   ],
   "source": [
    "mylist"
   ]
  },
  {
   "cell_type": "code",
   "execution_count": null,
   "id": "cca91088",
   "metadata": {},
   "outputs": [],
   "source": [
    "\n",
    "\n",
    "\n"
   ]
  },
  {
   "cell_type": "markdown",
   "id": "c5e83bff",
   "metadata": {},
   "source": [
    "# Assesment"
   ]
  },
  {
   "cell_type": "code",
   "execution_count": 218,
   "id": "f69f11be",
   "metadata": {},
   "outputs": [
    {
     "name": "stdout",
     "output_type": "stream",
     "text": [
      "NLP stands for Natural language Processing\n"
     ]
    }
   ],
   "source": [
    "# fstring\n",
    "abbr = 'NLP'\n",
    "full_text = 'Natural language Processing'\n",
    "\n",
    "print(f'{abbr} stands for {full_text}')"
   ]
  },
  {
   "cell_type": "code",
   "execution_count": 221,
   "id": "ff02d4d9",
   "metadata": {},
   "outputs": [],
   "source": [
    "#files"
   ]
  },
  {
   "cell_type": "code",
   "execution_count": 220,
   "id": "b2d515eb",
   "metadata": {},
   "outputs": [
    {
     "name": "stdout",
     "output_type": "stream",
     "text": [
      "Writing contacts.txt\n"
     ]
    }
   ],
   "source": [
    "%%writefile contacts.txt\n",
    "First_name Last_name, title, extension, Email"
   ]
  },
  {
   "cell_type": "code",
   "execution_count": 223,
   "id": "0f3470d8",
   "metadata": {},
   "outputs": [
    {
     "data": {
      "text/plain": [
       "'First_name Last_name, title, extension, Email\\n'"
      ]
     },
     "execution_count": 223,
     "metadata": {},
     "output_type": "execute_result"
    }
   ],
   "source": [
    "# print\n",
    "myfile = open('contacts.txt')\n",
    "read_file = myfile.read()\n",
    "read_file"
   ]
  },
  {
   "cell_type": "code",
   "execution_count": 227,
   "id": "0f59da70",
   "metadata": {},
   "outputs": [
    {
     "data": {
      "text/plain": [
       "0"
      ]
     },
     "execution_count": 227,
     "metadata": {},
     "output_type": "execute_result"
    }
   ],
   "source": [
    "myfile.seek(0)"
   ]
  },
  {
   "cell_type": "markdown",
   "id": "96fcf591",
   "metadata": {},
   "source": []
  },
  {
   "cell_type": "code",
   "execution_count": 229,
   "id": "84a6e4a2",
   "metadata": {},
   "outputs": [],
   "source": [
    "# working with pdf\n",
    "## extract the text of page2"
   ]
  },
  {
   "cell_type": "code",
   "execution_count": 232,
   "id": "4edeefb0",
   "metadata": {},
   "outputs": [],
   "source": [
    "import PyPDF2"
   ]
  },
  {
   "cell_type": "code",
   "execution_count": 236,
   "id": "2a0baaf0",
   "metadata": {},
   "outputs": [],
   "source": [
    "myfile = open('resources/Business_Proposal.pdf', mode='rb')"
   ]
  },
  {
   "cell_type": "code",
   "execution_count": 237,
   "id": "4d51433a",
   "metadata": {},
   "outputs": [],
   "source": [
    "reader = PyPDF2.PdfFileReader(myfile)"
   ]
  },
  {
   "cell_type": "code",
   "execution_count": 239,
   "id": "d846c7b8",
   "metadata": {},
   "outputs": [],
   "source": [
    "sec_page = reader.getPage(1)"
   ]
  },
  {
   "cell_type": "code",
   "execution_count": 243,
   "id": "0a635a3d",
   "metadata": {},
   "outputs": [],
   "source": [
    "sec_page_text = sec_page.extractText()"
   ]
  },
  {
   "cell_type": "code",
   "execution_count": 244,
   "id": "9ac178c2",
   "metadata": {},
   "outputs": [
    {
     "data": {
      "text/plain": [
       "'AUTHORS:  \\nAmy Baker, Finance Chair, x345, abaker@ourcompany.com  \\nChris Donaldson, Accounting Dir., x621, cdonaldson@ourcompany.com  \\nErin Freeman, Sr. VP, x879, efreeman@ourcompany.com  '"
      ]
     },
     "execution_count": 244,
     "metadata": {},
     "output_type": "execute_result"
    }
   ],
   "source": [
    "sec_page_text"
   ]
  },
  {
   "cell_type": "code",
   "execution_count": null,
   "id": "1c548431",
   "metadata": {},
   "outputs": [],
   "source": []
  },
  {
   "cell_type": "code",
   "execution_count": 241,
   "id": "0b630694",
   "metadata": {},
   "outputs": [],
   "source": [
    "# contacts.txt in append and add text from above"
   ]
  },
  {
   "cell_type": "code",
   "execution_count": 242,
   "id": "1c366028",
   "metadata": {},
   "outputs": [],
   "source": [
    "output_file = open('resources/contacts.txt', 'w+')"
   ]
  },
  {
   "cell_type": "code",
   "execution_count": 247,
   "id": "6b0b89fe",
   "metadata": {},
   "outputs": [
    {
     "data": {
      "text/plain": [
       "188"
      ]
     },
     "execution_count": 247,
     "metadata": {},
     "output_type": "execute_result"
    }
   ],
   "source": [
    "output_file.write(sec_page_text)"
   ]
  },
  {
   "cell_type": "code",
   "execution_count": 251,
   "id": "459999c7",
   "metadata": {},
   "outputs": [
    {
     "data": {
      "text/plain": [
       "0"
      ]
     },
     "execution_count": 251,
     "metadata": {},
     "output_type": "execute_result"
    }
   ],
   "source": [
    "output_file.seek(0)"
   ]
  },
  {
   "cell_type": "code",
   "execution_count": 252,
   "id": "f814bf05",
   "metadata": {},
   "outputs": [
    {
     "name": "stdout",
     "output_type": "stream",
     "text": [
      "AUTHORS:  \n",
      "Amy Baker, Finance Chair, x345, abaker@ourcompany.com  \n",
      "Chris Donaldson, Accounting Dir., x621, cdonaldson@ourcompany.com  \n",
      "Erin Freeman, Sr. VP, x879, efreeman@ourcompany.com  \n"
     ]
    }
   ],
   "source": [
    "print(output_file.read())"
   ]
  },
  {
   "cell_type": "code",
   "execution_count": 256,
   "id": "68b4d65b",
   "metadata": {},
   "outputs": [],
   "source": [
    "output_file.close()\n",
    "myfile.close()"
   ]
  },
  {
   "cell_type": "code",
   "execution_count": null,
   "id": "500c7a4a",
   "metadata": {},
   "outputs": [],
   "source": []
  },
  {
   "cell_type": "code",
   "execution_count": 257,
   "id": "8049c583",
   "metadata": {},
   "outputs": [],
   "source": [
    "# Regular expression"
   ]
  },
  {
   "cell_type": "code",
   "execution_count": 258,
   "id": "238f2aea",
   "metadata": {},
   "outputs": [],
   "source": [
    "import re"
   ]
  },
  {
   "cell_type": "code",
   "execution_count": 263,
   "id": "75264f7e",
   "metadata": {},
   "outputs": [],
   "source": [
    "pattern = r'\\w+@\\w+.com'"
   ]
  },
  {
   "cell_type": "code",
   "execution_count": 264,
   "id": "5ed18cb8",
   "metadata": {},
   "outputs": [],
   "source": [
    "text = sec_page_text"
   ]
  },
  {
   "cell_type": "code",
   "execution_count": 265,
   "id": "ab7199a1",
   "metadata": {},
   "outputs": [
    {
     "data": {
      "text/plain": [
       "['abaker@ourcompany.com',\n",
       " 'cdonaldson@ourcompany.com',\n",
       " 'efreeman@ourcompany.com']"
      ]
     },
     "execution_count": 265,
     "metadata": {},
     "output_type": "execute_result"
    }
   ],
   "source": [
    "re.findall(pattern, text)"
   ]
  },
  {
   "cell_type": "code",
   "execution_count": null,
   "id": "01a35abb",
   "metadata": {},
   "outputs": [],
   "source": []
  },
  {
   "cell_type": "code",
   "execution_count": null,
   "id": "19165d7a",
   "metadata": {},
   "outputs": [],
   "source": []
  }
 ],
 "metadata": {
  "kernelspec": {
   "display_name": "Python 3",
   "language": "python",
   "name": "python3"
  },
  "language_info": {
   "codemirror_mode": {
    "name": "ipython",
    "version": 3
   },
   "file_extension": ".py",
   "mimetype": "text/x-python",
   "name": "python",
   "nbconvert_exporter": "python",
   "pygments_lexer": "ipython3",
   "version": "3.8.8"
  }
 },
 "nbformat": 4,
 "nbformat_minor": 5
}
