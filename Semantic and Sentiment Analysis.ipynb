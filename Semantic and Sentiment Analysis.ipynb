{
 "cells": [
  {
   "cell_type": "markdown",
   "id": "1ab518ee",
   "metadata": {},
   "source": [
    "# Semantic and Sentiment analysis"
   ]
  },
  {
   "cell_type": "markdown",
   "id": "985f1e7d",
   "metadata": {},
   "source": [
    "- understand semantic word vectors\n",
    "- understand sentiment analysis\n",
    "- leverage Sentiment analysis for txt classification "
   ]
  },
  {
   "cell_type": "code",
   "execution_count": null,
   "id": "e72f3267",
   "metadata": {},
   "outputs": [],
   "source": [
    "\n"
   ]
  },
  {
   "cell_type": "code",
   "execution_count": 1,
   "id": "7e129f83",
   "metadata": {},
   "outputs": [],
   "source": [
    "# inorder to use Spacy's embedded word vectors we must download the larger \n",
    "# spacy english models \n",
    "# full details @ https://spacy.io/usage/models"
   ]
  },
  {
   "cell_type": "code",
   "execution_count": null,
   "id": "c0b8828f",
   "metadata": {},
   "outputs": [],
   "source": []
  },
  {
   "cell_type": "markdown",
   "id": "2a03b587",
   "metadata": {},
   "source": [
    "- how word vectors are created\n",
    "- word2vec is a two layer neural net that processes text\n",
    "- input is text corpus and output is set of vectors\n",
    "- purpose : group similar words together in the vecotr space"
   ]
  },
  {
   "cell_type": "markdown",
   "id": "88ee8e0e",
   "metadata": {},
   "source": [
    "- trains words aganist neighbor words\n",
    "- either use context to predict a target word (CBOW)\n",
    "- or user word to predict a target context"
   ]
  },
  {
   "cell_type": "markdown",
   "id": "dcf74ff3",
   "metadata": {},
   "source": [
    "- cosine similarity used to see the similarity\n",
    "- we can perform vector arthemetic with word vectors- (new_vector = king -man + woman)\n",
    "- new vector closest to queen"
   ]
  },
  {
   "cell_type": "code",
   "execution_count": null,
   "id": "e4ce911a",
   "metadata": {},
   "outputs": [],
   "source": []
  },
  {
   "cell_type": "markdown",
   "id": "6e15dfa3",
   "metadata": {},
   "source": [
    "## Word vectors with Spacy and python"
   ]
  },
  {
   "cell_type": "code",
   "execution_count": 2,
   "id": "48064ec8",
   "metadata": {},
   "outputs": [],
   "source": [
    "import spacy"
   ]
  },
  {
   "cell_type": "code",
   "execution_count": 4,
   "id": "262c1f57",
   "metadata": {},
   "outputs": [],
   "source": [
    "nlp = spacy.load('en_core_web_lg')"
   ]
  },
  {
   "cell_type": "code",
   "execution_count": 5,
   "id": "09c4ae73",
   "metadata": {},
   "outputs": [
    {
     "data": {
      "text/plain": [
       "array([  1.2746  ,   0.46242 ,  -1.1829  ,  -5.2661  ,  -2.7128  ,\n",
       "         1.8521  ,  -0.94273 ,   2.1865  ,   6.503   ,   0.6704  ,\n",
       "         1.5361  ,   2.5992  ,  -0.36233 ,   4.3965  ,  -6.5644  ,\n",
       "         1.6141  ,  -1.2897  ,   2.1184  ,  -0.63654 ,  -3.4572  ,\n",
       "        -4.3771  ,   4.2074  ,  -3.6411  ,  -0.97214 ,   1.3253  ,\n",
       "        -2.3125  ,  -3.6531  ,  -2.8398  ,   2.7913  ,  -1.53    ,\n",
       "        -2.9984  ,  -2.6357  ,   0.50615 ,  -2.6925  ,   4.3401  ,\n",
       "        -5.6017  ,   0.045691,   4.3832  ,  -0.19535 ,  -1.0751  ,\n",
       "         0.32172 ,   2.4395  ,   4.6638  ,   3.4471  ,  -3.3847  ,\n",
       "        -1.8238  ,   0.70212 ,   0.58557 ,   5.0032  ,  -3.1072  ,\n",
       "         1.2364  ,   7.4595  ,   0.057368,   1.0111  ,  -1.0827  ,\n",
       "         0.69113 ,   2.8009  ,  -3.4383  ,  -1.0599  ,  -2.2627  ,\n",
       "        -5.149   ,  -5.0636  ,   3.1405  ,   1.0793  ,  -0.72892 ,\n",
       "        -3.9939  ,  -0.69551 ,  -0.55767 ,   3.2555  ,  -2.9449  ,\n",
       "         4.7114  ,   1.6388  ,   1.3828  ,   1.4255  ,  -3.2334  ,\n",
       "        -2.274   ,  -1.8136  ,   2.2966  ,   2.5462  ,   1.0722  ,\n",
       "        -0.73447 ,   1.2148  ,  -0.9196  ,  -0.065012,   2.088   ,\n",
       "         0.57002 ,   3.5746  ,   1.7192  ,  -8.335   ,   0.71079 ,\n",
       "         0.91314 ,  -5.0107  ,   1.899   ,  -4.4658  ,   4.7993  ,\n",
       "        -0.39899 ,  -2.673   ,  -2.9354  ,   4.304   ,   1.4336  ,\n",
       "         3.7121  ,   0.34882 ,   4.6512  ,  -4.5731  ,  -4.5665  ,\n",
       "         1.5988  ,  -0.50383 ,   0.95857 ,   0.68728 ,  -0.39976 ,\n",
       "        -3.1922  ,   4.4363  ,  -0.69479 ,  -1.9528  ,   4.9376  ,\n",
       "         2.7259  ,   2.2485  ,   5.5734  ,   2.5842  ,   4.7836  ,\n",
       "        -1.0274  ,   2.2703  ,  -2.0696  ,  -1.0642  ,  -4.932   ,\n",
       "        -2.274   ,   4.1409  ,   0.73313 ,   2.1889  ,  -0.098888,\n",
       "         1.6472  ,  -2.3985  ,   2.5911  ,   3.6026  ,   1.885   ,\n",
       "         5.7822  ,  -1.4481  ,   1.8914  , -10.044   ,  -5.7452  ,\n",
       "        -4.3224  ,  -3.854   ,   2.3084  ,  -0.84018 ,  -0.40526 ,\n",
       "         4.7741  ,  -2.3271  ,   7.064   ,   0.95753 ,  -2.356   ,\n",
       "         0.83953 ,   0.40004 ,   0.33743 ,   0.8376  ,   3.9285  ,\n",
       "         0.05955 ,   2.4422  ,   4.3492  ,   3.9861  ,   2.1043  ,\n",
       "        -1.0197  ,  -0.61752 ,  -0.42999 ,  -0.1014  ,  -5.9571  ,\n",
       "        -0.53818 ,  -1.7797  ,   1.7446  ,   2.3934  ,  -0.50263 ,\n",
       "        -1.6222  ,  -0.37372 ,  -6.8938  ,   0.55018 ,  -2.267   ,\n",
       "         0.64912 ,   3.1525  ,  -2.2541  ,  -4.0384  ,   3.206   ,\n",
       "         0.14962 ,  -2.6662  ,   0.18167 ,   5.0028  ,   2.1521  ,\n",
       "         0.92419 ,   5.4163  ,  -2.2408  ,   1.6585  ,  -5.1625  ,\n",
       "         5.029   ,   0.1026  ,  -0.44542 ,   2.0557  ,   3.7778  ,\n",
       "         3.8679  ,  -2.7135  ,   5.3242  ,  -3.2916  ,   5.6421  ,\n",
       "         5.0466  ,   1.6072  ,  -1.3206  ,   4.2044  ,  -0.33793 ,\n",
       "        -3.1139  ,   2.8841  ,  -3.1565  ,  -2.9832  ,  -0.23235 ,\n",
       "         2.3259  ,   3.5477  ,  -2.1299  ,  -1.8344  ,   2.7271  ,\n",
       "         1.5568  ,   5.6865  ,   0.9412  ,  -2.6412  ,  -5.3254  ,\n",
       "         1.3494  ,  -0.47159 ,   2.4979  ,  -1.5568  ,  -1.6911  ,\n",
       "        -2.1842  ,   6.0319  ,   0.022573,   2.3824  ,  -1.1002  ,\n",
       "         0.90216 ,  -1.9113  ,   1.5527  ,   5.7413  ,  -3.1956  ,\n",
       "         0.68655 ,  -1.6068  ,   1.7404  ,  -3.2142  ,   6.4783  ,\n",
       "         1.7548  ,  -2.9795  ,   0.97631 ,  -0.018354,  -0.6379  ,\n",
       "         0.80559 ,   3.1923  ,   3.3335  ,   4.3068  ,  -1.0819  ,\n",
       "        -1.3839  ,  -4.7626  ,  -4.6637  ,  -1.2201  ,  -3.2741  ,\n",
       "         1.5204  ,   0.78119 ,   8.7339  ,   1.6009  ,  -0.79332 ,\n",
       "         5.8416  ,  -1.485   ,   1.5978  ,   2.9746  ,  -0.30759 ,\n",
       "        -1.8023  ,  -4.8344  ,   1.2817  ,  -2.5469  ,   2.6517  ,\n",
       "         1.4881  ,   2.1952  ,  -0.12652 ,   1.2223  ,   0.44763 ,\n",
       "        -3.1445  ,  -2.2051  ,  -4.1785  ,  -3.6539  ,   5.1929  ,\n",
       "         0.78457 ,  -1.2312  ,   5.5624  ,  -1.8462  ,   6.1262  ,\n",
       "        -1.6653  ,  -2.7557  ,  -0.066465,  -3.6362  ,   5.2005  ,\n",
       "        -1.2865  ,   2.8855  ,   6.1219  ,   1.7824  ,   1.4264  ,\n",
       "        10.628   ,  -0.36028 ,   1.9268  ,  -7.835   ,   0.57865 ],\n",
       "      dtype=float32)"
      ]
     },
     "execution_count": 5,
     "metadata": {},
     "output_type": "execute_result"
    }
   ],
   "source": [
    "nlp(u'lion').vector"
   ]
  },
  {
   "cell_type": "code",
   "execution_count": 6,
   "id": "d64ad4ae",
   "metadata": {},
   "outputs": [],
   "source": [
    "# doc and span objects also have vectors, they are derived from avg of token\n",
    "# vectors\n",
    "# document to vector"
   ]
  },
  {
   "cell_type": "code",
   "execution_count": 8,
   "id": "1dcff0f6",
   "metadata": {},
   "outputs": [
    {
     "data": {
      "text/plain": [
       "(300,)"
      ]
     },
     "execution_count": 8,
     "metadata": {},
     "output_type": "execute_result"
    }
   ],
   "source": [
    "nlp('The qucick box fox jumped').vector.shape"
   ]
  },
  {
   "cell_type": "code",
   "execution_count": null,
   "id": "198a65a4",
   "metadata": {},
   "outputs": [],
   "source": []
  },
  {
   "cell_type": "code",
   "execution_count": 17,
   "id": "972c15b5",
   "metadata": {},
   "outputs": [],
   "source": [
    "tokens = nlp(u'lion cat pet')"
   ]
  },
  {
   "cell_type": "code",
   "execution_count": 18,
   "id": "6e426ad1",
   "metadata": {},
   "outputs": [
    {
     "name": "stdout",
     "output_type": "stream",
     "text": [
      "lion lion 1.0\n",
      "lion cat 0.3854507803916931\n",
      "lion pet 0.20031584799289703\n",
      "cat lion 0.3854507803916931\n",
      "cat cat 1.0\n",
      "cat pet 0.732966423034668\n",
      "pet lion 0.20031584799289703\n",
      "pet cat 0.732966423034668\n",
      "pet pet 1.0\n"
     ]
    }
   ],
   "source": [
    "for token1 in tokens:\n",
    "    for token2 in tokens:\n",
    "        print(token1.text, token2.text, token1.similarity(token2))"
   ]
  },
  {
   "cell_type": "code",
   "execution_count": 19,
   "id": "620100c5",
   "metadata": {},
   "outputs": [
    {
     "name": "stdout",
     "output_type": "stream",
     "text": [
      "like like 1.0\n",
      "like love 0.5212638974189758\n",
      "like hate 0.5065141320228577\n",
      "love like 0.5212638974189758\n",
      "love love 1.0\n",
      "love hate 0.5708349943161011\n",
      "hate like 0.5065141320228577\n",
      "hate love 0.5708349943161011\n",
      "hate hate 1.0\n"
     ]
    }
   ],
   "source": [
    "tokens = nlp(u'like love hate')\n",
    "for token1 in tokens:\n",
    "    for token2 in tokens:\n",
    "        print(token1.text, token2.text, token1.similarity(token2))"
   ]
  },
  {
   "cell_type": "code",
   "execution_count": 20,
   "id": "993dd868",
   "metadata": {},
   "outputs": [],
   "source": [
    "# sometimes it's good to represent the dimension as eucledian norm \n",
    "# vector.norm"
   ]
  },
  {
   "cell_type": "code",
   "execution_count": 22,
   "id": "96bd043c",
   "metadata": {},
   "outputs": [
    {
     "data": {
      "text/plain": [
       "(514157, 300)"
      ]
     },
     "execution_count": 22,
     "metadata": {},
     "output_type": "execute_result"
    }
   ],
   "source": [
    "nlp.vocab.vectors.shape"
   ]
  },
  {
   "cell_type": "code",
   "execution_count": 50,
   "id": "e0a40275",
   "metadata": {},
   "outputs": [],
   "source": [
    "tokens = nlp(u\"dog cat nargle Arun\")"
   ]
  },
  {
   "cell_type": "code",
   "execution_count": 51,
   "id": "7628a5df",
   "metadata": {},
   "outputs": [
    {
     "name": "stdout",
     "output_type": "stream",
     "text": [
      "dog True 75.254234 False\n",
      "cat True 63.188496 False\n",
      "nargle False 0.0 True\n",
      "Arun True 40.841415 False\n"
     ]
    }
   ],
   "source": [
    "# OOV stands for out of vocabulary\n",
    "\n",
    "for token in tokens:\n",
    "    print(token.text, token.has_vector, token.vector_norm, token.is_oov)"
   ]
  },
  {
   "cell_type": "code",
   "execution_count": null,
   "id": "3bfe97b6",
   "metadata": {},
   "outputs": [],
   "source": []
  },
  {
   "cell_type": "code",
   "execution_count": 61,
   "id": "f3e5328e",
   "metadata": {},
   "outputs": [],
   "source": [
    "from scipy import spatial"
   ]
  },
  {
   "cell_type": "code",
   "execution_count": 62,
   "id": "618c4f48",
   "metadata": {},
   "outputs": [],
   "source": [
    "cosine_similarity = lambda vec1, vec2: 1 - spatial.distance.cosine(vec1, vec2)"
   ]
  },
  {
   "cell_type": "code",
   "execution_count": 63,
   "id": "d5dad487",
   "metadata": {},
   "outputs": [],
   "source": [
    "king = nlp.vocab['king'].vector\n",
    "man = nlp.vocab['man'].vector\n",
    "woman = nlp.vocab['woman'].vector"
   ]
  },
  {
   "cell_type": "code",
   "execution_count": 64,
   "id": "48cd1bc9",
   "metadata": {},
   "outputs": [],
   "source": [
    "# king - man + woman ---> new vector similar to queen, princess, highness"
   ]
  },
  {
   "cell_type": "code",
   "execution_count": 65,
   "id": "3a933770",
   "metadata": {},
   "outputs": [],
   "source": [
    "new_vector = king-man+woman"
   ]
  },
  {
   "cell_type": "code",
   "execution_count": 85,
   "id": "6b2d3d16",
   "metadata": {},
   "outputs": [],
   "source": [
    "computed_similarity = []\n",
    "vect = []\n",
    "for s in nlp.vocab.vectors:\n",
    "    vocab = nlp.vocab[s]\n",
    "\n",
    "for word in nlp.vocab:\n",
    "        if word.is_lower:\n",
    "            if word.is_alpha:\n",
    "                similarity = cosine_similarity(new_vector, word.vector)\n",
    "                computed_similarity.append((word, similarity))"
   ]
  },
  {
   "cell_type": "code",
   "execution_count": 86,
   "id": "f5af01a2",
   "metadata": {},
   "outputs": [],
   "source": [
    "computed_similarity = sorted(computed_similarity, key = lambda item: -item[1])"
   ]
  },
  {
   "cell_type": "code",
   "execution_count": null,
   "id": "54758ce7",
   "metadata": {},
   "outputs": [],
   "source": []
  },
  {
   "cell_type": "code",
   "execution_count": 87,
   "id": "37a5c739",
   "metadata": {},
   "outputs": [
    {
     "name": "stdout",
     "output_type": "stream",
     "text": [
      "['king', 'kings', 'princes', 'consort', 'monarch', 'princesses', 'princess', 'ruler', 'consorts', 'rulers']\n"
     ]
    }
   ],
   "source": [
    "print([t[0].text for t in computed_similarity[:10]])"
   ]
  },
  {
   "cell_type": "markdown",
   "id": "50e2b369",
   "metadata": {},
   "source": [
    "### we are getting wrong ans because of the updated version does not check with all\n",
    "### correct it by:\n",
    " for s in nlp.vocab.vectors:\n",
    "    \n",
    "    vocab = nlp.vocab[s]"
   ]
  },
  {
   "cell_type": "code",
   "execution_count": null,
   "id": "f2e5ffaa",
   "metadata": {},
   "outputs": [],
   "source": []
  },
  {
   "cell_type": "markdown",
   "id": "e5c923b7",
   "metadata": {},
   "source": [
    "## Sentiment Analysis"
   ]
  },
  {
   "cell_type": "markdown",
   "id": "41b8714c",
   "metadata": {},
   "source": [
    "## VADER Sentiment with Python and NLTK"
   ]
  },
  {
   "cell_type": "markdown",
   "id": "0d2b4102",
   "metadata": {},
   "source": [
    "- we don't have labels\n",
    "- vader, sentiment reasoning\n",
    "- nltk package avaiable\n",
    "- every word has a -ve and +ve score\n",
    "- understand phrase , so don't love recognized"
   ]
  },
  {
   "cell_type": "code",
   "execution_count": 89,
   "id": "36d21b90",
   "metadata": {},
   "outputs": [],
   "source": [
    "import nltk"
   ]
  },
  {
   "cell_type": "code",
   "execution_count": 90,
   "id": "59152c5c",
   "metadata": {},
   "outputs": [
    {
     "name": "stderr",
     "output_type": "stream",
     "text": [
      "[nltk_data] Downloading package vader_lexicon to\n",
      "[nltk_data]     C:\\Users\\LENOVO\\AppData\\Roaming\\nltk_data...\n"
     ]
    },
    {
     "data": {
      "text/plain": [
       "True"
      ]
     },
     "execution_count": 90,
     "metadata": {},
     "output_type": "execute_result"
    }
   ],
   "source": [
    "nltk.download('vader_lexicon')"
   ]
  },
  {
   "cell_type": "code",
   "execution_count": 91,
   "id": "b98a3d0b",
   "metadata": {},
   "outputs": [],
   "source": [
    "from nltk.sentiment.vader import SentimentIntensityAnalyzer"
   ]
  },
  {
   "cell_type": "code",
   "execution_count": 92,
   "id": "c630a922",
   "metadata": {},
   "outputs": [],
   "source": [
    "sid = SentimentIntensityAnalyzer()"
   ]
  },
  {
   "cell_type": "code",
   "execution_count": 93,
   "id": "75350344",
   "metadata": {},
   "outputs": [],
   "source": [
    "a = 'This is a good movie'"
   ]
  },
  {
   "cell_type": "code",
   "execution_count": 95,
   "id": "f45da445",
   "metadata": {},
   "outputs": [
    {
     "data": {
      "text/plain": [
       "{'neg': 0.0, 'neu': 0.508, 'pos': 0.492, 'compound': 0.4404}"
      ]
     },
     "execution_count": 95,
     "metadata": {},
     "output_type": "execute_result"
    }
   ],
   "source": [
    "sid.polarity_scores(a)"
   ]
  },
  {
   "cell_type": "code",
   "execution_count": 96,
   "id": "f92da28b",
   "metadata": {},
   "outputs": [],
   "source": [
    "a = 'this was the most awesome, best movie EVER MADE'"
   ]
  },
  {
   "cell_type": "code",
   "execution_count": 97,
   "id": "7f6b988e",
   "metadata": {},
   "outputs": [
    {
     "data": {
      "text/plain": [
       "{'neg': 0.0, 'neu': 0.441, 'pos': 0.559, 'compound': 0.8712}"
      ]
     },
     "execution_count": 97,
     "metadata": {},
     "output_type": "execute_result"
    }
   ],
   "source": [
    "sid.polarity_scores(a)"
   ]
  },
  {
   "cell_type": "code",
   "execution_count": 98,
   "id": "352e90e1",
   "metadata": {},
   "outputs": [],
   "source": [
    "a = 'this was the WORST movie that has ever disgraced the screen'"
   ]
  },
  {
   "cell_type": "code",
   "execution_count": 100,
   "id": "6e4e4338",
   "metadata": {},
   "outputs": [
    {
     "data": {
      "text/plain": [
       "{'neg': 0.465, 'neu': 0.535, 'pos': 0.0, 'compound': -0.8331}"
      ]
     },
     "execution_count": 100,
     "metadata": {},
     "output_type": "execute_result"
    }
   ],
   "source": [
    "sid.polarity_scores(a)"
   ]
  },
  {
   "cell_type": "code",
   "execution_count": null,
   "id": "da853c38",
   "metadata": {},
   "outputs": [],
   "source": []
  },
  {
   "cell_type": "code",
   "execution_count": 101,
   "id": "85a1e755",
   "metadata": {},
   "outputs": [],
   "source": [
    "\n",
    "# amazon review"
   ]
  },
  {
   "cell_type": "code",
   "execution_count": 102,
   "id": "6eb656f3",
   "metadata": {},
   "outputs": [],
   "source": [
    "import pandas as pd"
   ]
  },
  {
   "cell_type": "code",
   "execution_count": 104,
   "id": "a244808c",
   "metadata": {},
   "outputs": [],
   "source": [
    "df = pd.read_csv('resources/amazonreviews.tsv', sep='\\t')"
   ]
  },
  {
   "cell_type": "code",
   "execution_count": 105,
   "id": "d1935742",
   "metadata": {},
   "outputs": [
    {
     "data": {
      "text/html": [
       "<div>\n",
       "<style scoped>\n",
       "    .dataframe tbody tr th:only-of-type {\n",
       "        vertical-align: middle;\n",
       "    }\n",
       "\n",
       "    .dataframe tbody tr th {\n",
       "        vertical-align: top;\n",
       "    }\n",
       "\n",
       "    .dataframe thead th {\n",
       "        text-align: right;\n",
       "    }\n",
       "</style>\n",
       "<table border=\"1\" class=\"dataframe\">\n",
       "  <thead>\n",
       "    <tr style=\"text-align: right;\">\n",
       "      <th></th>\n",
       "      <th>label</th>\n",
       "      <th>review</th>\n",
       "    </tr>\n",
       "  </thead>\n",
       "  <tbody>\n",
       "    <tr>\n",
       "      <th>0</th>\n",
       "      <td>pos</td>\n",
       "      <td>Stuning even for the non-gamer: This sound tra...</td>\n",
       "    </tr>\n",
       "    <tr>\n",
       "      <th>1</th>\n",
       "      <td>pos</td>\n",
       "      <td>The best soundtrack ever to anything.: I'm rea...</td>\n",
       "    </tr>\n",
       "    <tr>\n",
       "      <th>2</th>\n",
       "      <td>pos</td>\n",
       "      <td>Amazing!: This soundtrack is my favorite music...</td>\n",
       "    </tr>\n",
       "    <tr>\n",
       "      <th>3</th>\n",
       "      <td>pos</td>\n",
       "      <td>Excellent Soundtrack: I truly like this soundt...</td>\n",
       "    </tr>\n",
       "    <tr>\n",
       "      <th>4</th>\n",
       "      <td>pos</td>\n",
       "      <td>Remember, Pull Your Jaw Off The Floor After He...</td>\n",
       "    </tr>\n",
       "  </tbody>\n",
       "</table>\n",
       "</div>"
      ],
      "text/plain": [
       "  label                                             review\n",
       "0   pos  Stuning even for the non-gamer: This sound tra...\n",
       "1   pos  The best soundtrack ever to anything.: I'm rea...\n",
       "2   pos  Amazing!: This soundtrack is my favorite music...\n",
       "3   pos  Excellent Soundtrack: I truly like this soundt...\n",
       "4   pos  Remember, Pull Your Jaw Off The Floor After He..."
      ]
     },
     "execution_count": 105,
     "metadata": {},
     "output_type": "execute_result"
    }
   ],
   "source": [
    "df.head()"
   ]
  },
  {
   "cell_type": "code",
   "execution_count": 106,
   "id": "7b424536",
   "metadata": {},
   "outputs": [
    {
     "data": {
      "text/plain": [
       "neg    5097\n",
       "pos    4903\n",
       "Name: label, dtype: int64"
      ]
     },
     "execution_count": 106,
     "metadata": {},
     "output_type": "execute_result"
    }
   ],
   "source": [
    "df['label'].value_counts()"
   ]
  },
  {
   "cell_type": "code",
   "execution_count": 107,
   "id": "7d00b80c",
   "metadata": {},
   "outputs": [],
   "source": [
    "df.dropna(inplace= True)"
   ]
  },
  {
   "cell_type": "code",
   "execution_count": 110,
   "id": "bec26e68",
   "metadata": {},
   "outputs": [],
   "source": [
    "# removing blanks\n",
    "\n",
    "blanks = []\n",
    "for i, lb, rv in df.itertuples():\n",
    "    # (index, label, review)\n",
    "    if type(rv) == str:\n",
    "        if rv.isspace():\n",
    "            blanks.append(i)"
   ]
  },
  {
   "cell_type": "code",
   "execution_count": 111,
   "id": "04956c76",
   "metadata": {},
   "outputs": [
    {
     "data": {
      "text/plain": [
       "[]"
      ]
     },
     "execution_count": 111,
     "metadata": {},
     "output_type": "execute_result"
    }
   ],
   "source": [
    "blanks"
   ]
  },
  {
   "cell_type": "code",
   "execution_count": 113,
   "id": "d662ed47",
   "metadata": {},
   "outputs": [
    {
     "data": {
      "text/plain": [
       "'Stuning even for the non-gamer: This sound track was beautiful! It paints the senery in your mind so well I would recomend it even to people who hate vid. game music! I have played the game Chrono Cross but out of all of the games I have ever played it has the best music! It backs away from crude keyboarding and takes a fresher step with grate guitars and soulful orchestras. It would impress anyone who cares to listen! ^_^'"
      ]
     },
     "execution_count": 113,
     "metadata": {},
     "output_type": "execute_result"
    }
   ],
   "source": [
    "df.iloc[0]['review']"
   ]
  },
  {
   "cell_type": "code",
   "execution_count": 114,
   "id": "aac5b240",
   "metadata": {},
   "outputs": [
    {
     "data": {
      "text/plain": [
       "{'neg': 0.088, 'neu': 0.669, 'pos': 0.243, 'compound': 0.9454}"
      ]
     },
     "execution_count": 114,
     "metadata": {},
     "output_type": "execute_result"
    }
   ],
   "source": [
    "sid.polarity_scores(df.iloc[0]['review'])"
   ]
  },
  {
   "cell_type": "code",
   "execution_count": 119,
   "id": "6c10c0b4",
   "metadata": {},
   "outputs": [],
   "source": [
    "df['scores'] = df['review'].apply(lambda review: sid.polarity_scores(review))"
   ]
  },
  {
   "cell_type": "code",
   "execution_count": 120,
   "id": "10300ab2",
   "metadata": {},
   "outputs": [
    {
     "data": {
      "text/html": [
       "<div>\n",
       "<style scoped>\n",
       "    .dataframe tbody tr th:only-of-type {\n",
       "        vertical-align: middle;\n",
       "    }\n",
       "\n",
       "    .dataframe tbody tr th {\n",
       "        vertical-align: top;\n",
       "    }\n",
       "\n",
       "    .dataframe thead th {\n",
       "        text-align: right;\n",
       "    }\n",
       "</style>\n",
       "<table border=\"1\" class=\"dataframe\">\n",
       "  <thead>\n",
       "    <tr style=\"text-align: right;\">\n",
       "      <th></th>\n",
       "      <th>label</th>\n",
       "      <th>review</th>\n",
       "      <th>scores</th>\n",
       "    </tr>\n",
       "  </thead>\n",
       "  <tbody>\n",
       "    <tr>\n",
       "      <th>0</th>\n",
       "      <td>pos</td>\n",
       "      <td>Stuning even for the non-gamer: This sound tra...</td>\n",
       "      <td>{'neg': 0.088, 'neu': 0.669, 'pos': 0.243, 'co...</td>\n",
       "    </tr>\n",
       "    <tr>\n",
       "      <th>1</th>\n",
       "      <td>pos</td>\n",
       "      <td>The best soundtrack ever to anything.: I'm rea...</td>\n",
       "      <td>{'neg': 0.018, 'neu': 0.837, 'pos': 0.145, 'co...</td>\n",
       "    </tr>\n",
       "    <tr>\n",
       "      <th>2</th>\n",
       "      <td>pos</td>\n",
       "      <td>Amazing!: This soundtrack is my favorite music...</td>\n",
       "      <td>{'neg': 0.04, 'neu': 0.692, 'pos': 0.268, 'com...</td>\n",
       "    </tr>\n",
       "    <tr>\n",
       "      <th>3</th>\n",
       "      <td>pos</td>\n",
       "      <td>Excellent Soundtrack: I truly like this soundt...</td>\n",
       "      <td>{'neg': 0.09, 'neu': 0.615, 'pos': 0.295, 'com...</td>\n",
       "    </tr>\n",
       "    <tr>\n",
       "      <th>4</th>\n",
       "      <td>pos</td>\n",
       "      <td>Remember, Pull Your Jaw Off The Floor After He...</td>\n",
       "      <td>{'neg': 0.0, 'neu': 0.746, 'pos': 0.254, 'comp...</td>\n",
       "    </tr>\n",
       "  </tbody>\n",
       "</table>\n",
       "</div>"
      ],
      "text/plain": [
       "  label                                             review  \\\n",
       "0   pos  Stuning even for the non-gamer: This sound tra...   \n",
       "1   pos  The best soundtrack ever to anything.: I'm rea...   \n",
       "2   pos  Amazing!: This soundtrack is my favorite music...   \n",
       "3   pos  Excellent Soundtrack: I truly like this soundt...   \n",
       "4   pos  Remember, Pull Your Jaw Off The Floor After He...   \n",
       "\n",
       "                                              scores  \n",
       "0  {'neg': 0.088, 'neu': 0.669, 'pos': 0.243, 'co...  \n",
       "1  {'neg': 0.018, 'neu': 0.837, 'pos': 0.145, 'co...  \n",
       "2  {'neg': 0.04, 'neu': 0.692, 'pos': 0.268, 'com...  \n",
       "3  {'neg': 0.09, 'neu': 0.615, 'pos': 0.295, 'com...  \n",
       "4  {'neg': 0.0, 'neu': 0.746, 'pos': 0.254, 'comp...  "
      ]
     },
     "execution_count": 120,
     "metadata": {},
     "output_type": "execute_result"
    }
   ],
   "source": [
    "df.head()"
   ]
  },
  {
   "cell_type": "code",
   "execution_count": 121,
   "id": "912ca290",
   "metadata": {},
   "outputs": [],
   "source": [
    "df['compound'] = df['scores'].apply(lambda d: d['compound'])"
   ]
  },
  {
   "cell_type": "code",
   "execution_count": 122,
   "id": "82d06d63",
   "metadata": {},
   "outputs": [
    {
     "data": {
      "text/html": [
       "<div>\n",
       "<style scoped>\n",
       "    .dataframe tbody tr th:only-of-type {\n",
       "        vertical-align: middle;\n",
       "    }\n",
       "\n",
       "    .dataframe tbody tr th {\n",
       "        vertical-align: top;\n",
       "    }\n",
       "\n",
       "    .dataframe thead th {\n",
       "        text-align: right;\n",
       "    }\n",
       "</style>\n",
       "<table border=\"1\" class=\"dataframe\">\n",
       "  <thead>\n",
       "    <tr style=\"text-align: right;\">\n",
       "      <th></th>\n",
       "      <th>label</th>\n",
       "      <th>review</th>\n",
       "      <th>scores</th>\n",
       "      <th>compound</th>\n",
       "    </tr>\n",
       "  </thead>\n",
       "  <tbody>\n",
       "    <tr>\n",
       "      <th>0</th>\n",
       "      <td>pos</td>\n",
       "      <td>Stuning even for the non-gamer: This sound tra...</td>\n",
       "      <td>{'neg': 0.088, 'neu': 0.669, 'pos': 0.243, 'co...</td>\n",
       "      <td>0.9454</td>\n",
       "    </tr>\n",
       "    <tr>\n",
       "      <th>1</th>\n",
       "      <td>pos</td>\n",
       "      <td>The best soundtrack ever to anything.: I'm rea...</td>\n",
       "      <td>{'neg': 0.018, 'neu': 0.837, 'pos': 0.145, 'co...</td>\n",
       "      <td>0.8957</td>\n",
       "    </tr>\n",
       "    <tr>\n",
       "      <th>2</th>\n",
       "      <td>pos</td>\n",
       "      <td>Amazing!: This soundtrack is my favorite music...</td>\n",
       "      <td>{'neg': 0.04, 'neu': 0.692, 'pos': 0.268, 'com...</td>\n",
       "      <td>0.9858</td>\n",
       "    </tr>\n",
       "    <tr>\n",
       "      <th>3</th>\n",
       "      <td>pos</td>\n",
       "      <td>Excellent Soundtrack: I truly like this soundt...</td>\n",
       "      <td>{'neg': 0.09, 'neu': 0.615, 'pos': 0.295, 'com...</td>\n",
       "      <td>0.9814</td>\n",
       "    </tr>\n",
       "    <tr>\n",
       "      <th>4</th>\n",
       "      <td>pos</td>\n",
       "      <td>Remember, Pull Your Jaw Off The Floor After He...</td>\n",
       "      <td>{'neg': 0.0, 'neu': 0.746, 'pos': 0.254, 'comp...</td>\n",
       "      <td>0.9781</td>\n",
       "    </tr>\n",
       "  </tbody>\n",
       "</table>\n",
       "</div>"
      ],
      "text/plain": [
       "  label                                             review  \\\n",
       "0   pos  Stuning even for the non-gamer: This sound tra...   \n",
       "1   pos  The best soundtrack ever to anything.: I'm rea...   \n",
       "2   pos  Amazing!: This soundtrack is my favorite music...   \n",
       "3   pos  Excellent Soundtrack: I truly like this soundt...   \n",
       "4   pos  Remember, Pull Your Jaw Off The Floor After He...   \n",
       "\n",
       "                                              scores  compound  \n",
       "0  {'neg': 0.088, 'neu': 0.669, 'pos': 0.243, 'co...    0.9454  \n",
       "1  {'neg': 0.018, 'neu': 0.837, 'pos': 0.145, 'co...    0.8957  \n",
       "2  {'neg': 0.04, 'neu': 0.692, 'pos': 0.268, 'com...    0.9858  \n",
       "3  {'neg': 0.09, 'neu': 0.615, 'pos': 0.295, 'com...    0.9814  \n",
       "4  {'neg': 0.0, 'neu': 0.746, 'pos': 0.254, 'comp...    0.9781  "
      ]
     },
     "execution_count": 122,
     "metadata": {},
     "output_type": "execute_result"
    }
   ],
   "source": [
    "df.head()"
   ]
  },
  {
   "cell_type": "code",
   "execution_count": 123,
   "id": "53f2e6e8",
   "metadata": {},
   "outputs": [],
   "source": [
    "df['comp_score'] = df['compound'].apply(lambda score: 'pos' if score >=0 else 'neg')"
   ]
  },
  {
   "cell_type": "code",
   "execution_count": 124,
   "id": "9f9cb5f0",
   "metadata": {},
   "outputs": [
    {
     "data": {
      "text/html": [
       "<div>\n",
       "<style scoped>\n",
       "    .dataframe tbody tr th:only-of-type {\n",
       "        vertical-align: middle;\n",
       "    }\n",
       "\n",
       "    .dataframe tbody tr th {\n",
       "        vertical-align: top;\n",
       "    }\n",
       "\n",
       "    .dataframe thead th {\n",
       "        text-align: right;\n",
       "    }\n",
       "</style>\n",
       "<table border=\"1\" class=\"dataframe\">\n",
       "  <thead>\n",
       "    <tr style=\"text-align: right;\">\n",
       "      <th></th>\n",
       "      <th>label</th>\n",
       "      <th>review</th>\n",
       "      <th>scores</th>\n",
       "      <th>compound</th>\n",
       "      <th>comp_score</th>\n",
       "    </tr>\n",
       "  </thead>\n",
       "  <tbody>\n",
       "    <tr>\n",
       "      <th>0</th>\n",
       "      <td>pos</td>\n",
       "      <td>Stuning even for the non-gamer: This sound tra...</td>\n",
       "      <td>{'neg': 0.088, 'neu': 0.669, 'pos': 0.243, 'co...</td>\n",
       "      <td>0.9454</td>\n",
       "      <td>pos</td>\n",
       "    </tr>\n",
       "    <tr>\n",
       "      <th>1</th>\n",
       "      <td>pos</td>\n",
       "      <td>The best soundtrack ever to anything.: I'm rea...</td>\n",
       "      <td>{'neg': 0.018, 'neu': 0.837, 'pos': 0.145, 'co...</td>\n",
       "      <td>0.8957</td>\n",
       "      <td>pos</td>\n",
       "    </tr>\n",
       "    <tr>\n",
       "      <th>2</th>\n",
       "      <td>pos</td>\n",
       "      <td>Amazing!: This soundtrack is my favorite music...</td>\n",
       "      <td>{'neg': 0.04, 'neu': 0.692, 'pos': 0.268, 'com...</td>\n",
       "      <td>0.9858</td>\n",
       "      <td>pos</td>\n",
       "    </tr>\n",
       "    <tr>\n",
       "      <th>3</th>\n",
       "      <td>pos</td>\n",
       "      <td>Excellent Soundtrack: I truly like this soundt...</td>\n",
       "      <td>{'neg': 0.09, 'neu': 0.615, 'pos': 0.295, 'com...</td>\n",
       "      <td>0.9814</td>\n",
       "      <td>pos</td>\n",
       "    </tr>\n",
       "    <tr>\n",
       "      <th>4</th>\n",
       "      <td>pos</td>\n",
       "      <td>Remember, Pull Your Jaw Off The Floor After He...</td>\n",
       "      <td>{'neg': 0.0, 'neu': 0.746, 'pos': 0.254, 'comp...</td>\n",
       "      <td>0.9781</td>\n",
       "      <td>pos</td>\n",
       "    </tr>\n",
       "  </tbody>\n",
       "</table>\n",
       "</div>"
      ],
      "text/plain": [
       "  label                                             review  \\\n",
       "0   pos  Stuning even for the non-gamer: This sound tra...   \n",
       "1   pos  The best soundtrack ever to anything.: I'm rea...   \n",
       "2   pos  Amazing!: This soundtrack is my favorite music...   \n",
       "3   pos  Excellent Soundtrack: I truly like this soundt...   \n",
       "4   pos  Remember, Pull Your Jaw Off The Floor After He...   \n",
       "\n",
       "                                              scores  compound comp_score  \n",
       "0  {'neg': 0.088, 'neu': 0.669, 'pos': 0.243, 'co...    0.9454        pos  \n",
       "1  {'neg': 0.018, 'neu': 0.837, 'pos': 0.145, 'co...    0.8957        pos  \n",
       "2  {'neg': 0.04, 'neu': 0.692, 'pos': 0.268, 'com...    0.9858        pos  \n",
       "3  {'neg': 0.09, 'neu': 0.615, 'pos': 0.295, 'com...    0.9814        pos  \n",
       "4  {'neg': 0.0, 'neu': 0.746, 'pos': 0.254, 'comp...    0.9781        pos  "
      ]
     },
     "execution_count": 124,
     "metadata": {},
     "output_type": "execute_result"
    }
   ],
   "source": [
    "df.head()"
   ]
  },
  {
   "cell_type": "code",
   "execution_count": 126,
   "id": "4d3368d2",
   "metadata": {},
   "outputs": [],
   "source": [
    "from sklearn.metrics import accuracy_score, classification_report, confusion_matrix"
   ]
  },
  {
   "cell_type": "code",
   "execution_count": 127,
   "id": "e5812841",
   "metadata": {},
   "outputs": [
    {
     "data": {
      "text/plain": [
       "0.7097"
      ]
     },
     "execution_count": 127,
     "metadata": {},
     "output_type": "execute_result"
    }
   ],
   "source": [
    "accuracy_score(df['label'], df['comp_score'])"
   ]
  },
  {
   "cell_type": "code",
   "execution_count": 128,
   "id": "798e0ee2",
   "metadata": {},
   "outputs": [
    {
     "name": "stdout",
     "output_type": "stream",
     "text": [
      "              precision    recall  f1-score   support\n",
      "\n",
      "         neg       0.86      0.52      0.64      5097\n",
      "         pos       0.64      0.91      0.75      4903\n",
      "\n",
      "    accuracy                           0.71     10000\n",
      "   macro avg       0.75      0.71      0.70     10000\n",
      "weighted avg       0.75      0.71      0.70     10000\n",
      "\n"
     ]
    }
   ],
   "source": [
    "print(classification_report(df['label'], df['comp_score']))"
   ]
  },
  {
   "cell_type": "code",
   "execution_count": 129,
   "id": "7804adc0",
   "metadata": {},
   "outputs": [
    {
     "name": "stdout",
     "output_type": "stream",
     "text": [
      "[[2629 2468]\n",
      " [ 435 4468]]\n"
     ]
    }
   ],
   "source": [
    "print(confusion_matrix(df['label'], df['comp_score']))"
   ]
  },
  {
   "cell_type": "code",
   "execution_count": null,
   "id": "1f023542",
   "metadata": {},
   "outputs": [],
   "source": [
    "\n"
   ]
  },
  {
   "cell_type": "code",
   "execution_count": null,
   "id": "2b6fd9ed",
   "metadata": {},
   "outputs": [],
   "source": []
  },
  {
   "cell_type": "markdown",
   "id": "6ed0b5c0",
   "metadata": {},
   "source": [
    "## Sentiment Analysis"
   ]
  },
  {
   "cell_type": "markdown",
   "id": "10218cbc",
   "metadata": {},
   "source": [
    "- sentiment analysis"
   ]
  },
  {
   "cell_type": "code",
   "execution_count": 149,
   "id": "7f0a32bd",
   "metadata": {},
   "outputs": [],
   "source": [
    "import numpy as np\n",
    "import pandas as pd"
   ]
  },
  {
   "cell_type": "code",
   "execution_count": 150,
   "id": "dc7656de",
   "metadata": {},
   "outputs": [],
   "source": [
    "df = pd.read_csv('resources/moviereviews.tsv', sep='\\t')"
   ]
  },
  {
   "cell_type": "code",
   "execution_count": 151,
   "id": "3f22cd87",
   "metadata": {},
   "outputs": [],
   "source": [
    "df.dropna(inplace = True)"
   ]
  },
  {
   "cell_type": "code",
   "execution_count": 152,
   "id": "e939dfeb",
   "metadata": {},
   "outputs": [
    {
     "data": {
      "text/html": [
       "<div>\n",
       "<style scoped>\n",
       "    .dataframe tbody tr th:only-of-type {\n",
       "        vertical-align: middle;\n",
       "    }\n",
       "\n",
       "    .dataframe tbody tr th {\n",
       "        vertical-align: top;\n",
       "    }\n",
       "\n",
       "    .dataframe thead th {\n",
       "        text-align: right;\n",
       "    }\n",
       "</style>\n",
       "<table border=\"1\" class=\"dataframe\">\n",
       "  <thead>\n",
       "    <tr style=\"text-align: right;\">\n",
       "      <th></th>\n",
       "      <th>label</th>\n",
       "      <th>review</th>\n",
       "    </tr>\n",
       "  </thead>\n",
       "  <tbody>\n",
       "    <tr>\n",
       "      <th>0</th>\n",
       "      <td>neg</td>\n",
       "      <td>how do films like mouse hunt get into theatres...</td>\n",
       "    </tr>\n",
       "    <tr>\n",
       "      <th>1</th>\n",
       "      <td>neg</td>\n",
       "      <td>some talented actresses are blessed with a dem...</td>\n",
       "    </tr>\n",
       "    <tr>\n",
       "      <th>2</th>\n",
       "      <td>pos</td>\n",
       "      <td>this has been an extraordinary year for austra...</td>\n",
       "    </tr>\n",
       "    <tr>\n",
       "      <th>3</th>\n",
       "      <td>pos</td>\n",
       "      <td>according to hollywood movies made in last few...</td>\n",
       "    </tr>\n",
       "    <tr>\n",
       "      <th>4</th>\n",
       "      <td>neg</td>\n",
       "      <td>my first press screening of 1998 and already i...</td>\n",
       "    </tr>\n",
       "  </tbody>\n",
       "</table>\n",
       "</div>"
      ],
      "text/plain": [
       "  label                                             review\n",
       "0   neg  how do films like mouse hunt get into theatres...\n",
       "1   neg  some talented actresses are blessed with a dem...\n",
       "2   pos  this has been an extraordinary year for austra...\n",
       "3   pos  according to hollywood movies made in last few...\n",
       "4   neg  my first press screening of 1998 and already i..."
      ]
     },
     "execution_count": 152,
     "metadata": {},
     "output_type": "execute_result"
    }
   ],
   "source": [
    "df.head()"
   ]
  },
  {
   "cell_type": "code",
   "execution_count": 153,
   "id": "f25746bb",
   "metadata": {},
   "outputs": [],
   "source": [
    "blanks = []\n",
    "index = 0\n",
    "\n",
    "for reviews in df['review']:\n",
    "    if reviews.isspace()== True:\n",
    "        blanks.append(index)\n",
    "    index = index +1 "
   ]
  },
  {
   "cell_type": "code",
   "execution_count": 154,
   "id": "fa1de572",
   "metadata": {},
   "outputs": [
    {
     "data": {
      "text/plain": [
       "[57,\n",
       " 71,\n",
       " 146,\n",
       " 150,\n",
       " 280,\n",
       " 304,\n",
       " 310,\n",
       " 320,\n",
       " 339,\n",
       " 347,\n",
       " 423,\n",
       " 496,\n",
       " 626,\n",
       " 668,\n",
       " 803,\n",
       " 838,\n",
       " 963,\n",
       " 1063,\n",
       " 1278,\n",
       " 1430,\n",
       " 1466,\n",
       " 1498,\n",
       " 1504,\n",
       " 1730,\n",
       " 1818,\n",
       " 1871,\n",
       " 1958]"
      ]
     },
     "execution_count": 154,
     "metadata": {},
     "output_type": "execute_result"
    }
   ],
   "source": [
    "blanks"
   ]
  },
  {
   "cell_type": "code",
   "execution_count": 155,
   "id": "d800ed55",
   "metadata": {},
   "outputs": [],
   "source": [
    "df.drop(index=blanks, inplace = True)"
   ]
  },
  {
   "cell_type": "code",
   "execution_count": 156,
   "id": "d2fbaa19",
   "metadata": {},
   "outputs": [
    {
     "data": {
      "text/plain": [
       "(1938, 2)"
      ]
     },
     "execution_count": 156,
     "metadata": {},
     "output_type": "execute_result"
    }
   ],
   "source": [
    "df.shape"
   ]
  },
  {
   "cell_type": "code",
   "execution_count": 157,
   "id": "698a4419",
   "metadata": {},
   "outputs": [],
   "source": [
    "from nltk.sentiment.vader import SentimentIntensityAnalyzer"
   ]
  },
  {
   "cell_type": "code",
   "execution_count": 158,
   "id": "58cab672",
   "metadata": {},
   "outputs": [],
   "source": [
    "sid = SentimentIntensityAnalyzer()"
   ]
  },
  {
   "cell_type": "code",
   "execution_count": 160,
   "id": "82c1bef4",
   "metadata": {},
   "outputs": [],
   "source": [
    "df['scores'] = df['review'].apply(lambda review: sid.polarity_scores(review))\n",
    "df['compound'] = df['scores'].apply(lambda d:d['compound'])\n",
    "df['comp_score'] =df['compound'].apply(lambda score: 'pos' if score >= 0 else 'neg')"
   ]
  },
  {
   "cell_type": "code",
   "execution_count": 161,
   "id": "746e03ab",
   "metadata": {},
   "outputs": [
    {
     "data": {
      "text/html": [
       "<div>\n",
       "<style scoped>\n",
       "    .dataframe tbody tr th:only-of-type {\n",
       "        vertical-align: middle;\n",
       "    }\n",
       "\n",
       "    .dataframe tbody tr th {\n",
       "        vertical-align: top;\n",
       "    }\n",
       "\n",
       "    .dataframe thead th {\n",
       "        text-align: right;\n",
       "    }\n",
       "</style>\n",
       "<table border=\"1\" class=\"dataframe\">\n",
       "  <thead>\n",
       "    <tr style=\"text-align: right;\">\n",
       "      <th></th>\n",
       "      <th>label</th>\n",
       "      <th>review</th>\n",
       "      <th>scores</th>\n",
       "      <th>compound</th>\n",
       "      <th>comp_score</th>\n",
       "    </tr>\n",
       "  </thead>\n",
       "  <tbody>\n",
       "    <tr>\n",
       "      <th>0</th>\n",
       "      <td>neg</td>\n",
       "      <td>how do films like mouse hunt get into theatres...</td>\n",
       "      <td>{'neg': 0.121, 'neu': 0.778, 'pos': 0.101, 'co...</td>\n",
       "      <td>-0.9125</td>\n",
       "      <td>neg</td>\n",
       "    </tr>\n",
       "    <tr>\n",
       "      <th>1</th>\n",
       "      <td>neg</td>\n",
       "      <td>some talented actresses are blessed with a dem...</td>\n",
       "      <td>{'neg': 0.12, 'neu': 0.775, 'pos': 0.105, 'com...</td>\n",
       "      <td>-0.8618</td>\n",
       "      <td>neg</td>\n",
       "    </tr>\n",
       "    <tr>\n",
       "      <th>2</th>\n",
       "      <td>pos</td>\n",
       "      <td>this has been an extraordinary year for austra...</td>\n",
       "      <td>{'neg': 0.068, 'neu': 0.781, 'pos': 0.15, 'com...</td>\n",
       "      <td>0.9951</td>\n",
       "      <td>pos</td>\n",
       "    </tr>\n",
       "    <tr>\n",
       "      <th>3</th>\n",
       "      <td>pos</td>\n",
       "      <td>according to hollywood movies made in last few...</td>\n",
       "      <td>{'neg': 0.071, 'neu': 0.782, 'pos': 0.147, 'co...</td>\n",
       "      <td>0.9972</td>\n",
       "      <td>pos</td>\n",
       "    </tr>\n",
       "    <tr>\n",
       "      <th>4</th>\n",
       "      <td>neg</td>\n",
       "      <td>my first press screening of 1998 and already i...</td>\n",
       "      <td>{'neg': 0.091, 'neu': 0.817, 'pos': 0.093, 'co...</td>\n",
       "      <td>-0.2484</td>\n",
       "      <td>neg</td>\n",
       "    </tr>\n",
       "  </tbody>\n",
       "</table>\n",
       "</div>"
      ],
      "text/plain": [
       "  label                                             review  \\\n",
       "0   neg  how do films like mouse hunt get into theatres...   \n",
       "1   neg  some talented actresses are blessed with a dem...   \n",
       "2   pos  this has been an extraordinary year for austra...   \n",
       "3   pos  according to hollywood movies made in last few...   \n",
       "4   neg  my first press screening of 1998 and already i...   \n",
       "\n",
       "                                              scores  compound comp_score  \n",
       "0  {'neg': 0.121, 'neu': 0.778, 'pos': 0.101, 'co...   -0.9125        neg  \n",
       "1  {'neg': 0.12, 'neu': 0.775, 'pos': 0.105, 'com...   -0.8618        neg  \n",
       "2  {'neg': 0.068, 'neu': 0.781, 'pos': 0.15, 'com...    0.9951        pos  \n",
       "3  {'neg': 0.071, 'neu': 0.782, 'pos': 0.147, 'co...    0.9972        pos  \n",
       "4  {'neg': 0.091, 'neu': 0.817, 'pos': 0.093, 'co...   -0.2484        neg  "
      ]
     },
     "execution_count": 161,
     "metadata": {},
     "output_type": "execute_result"
    }
   ],
   "source": [
    "df.head()"
   ]
  },
  {
   "cell_type": "code",
   "execution_count": 163,
   "id": "3877913f",
   "metadata": {},
   "outputs": [],
   "source": [
    "from sklearn.metrics import accuracy_score, classification_report, confusion_matrix"
   ]
  },
  {
   "cell_type": "code",
   "execution_count": 165,
   "id": "0a852587",
   "metadata": {},
   "outputs": [
    {
     "name": "stdout",
     "output_type": "stream",
     "text": [
      "              precision    recall  f1-score   support\n",
      "\n",
      "         neg       0.72      0.43      0.54       969\n",
      "         pos       0.59      0.83      0.69       969\n",
      "\n",
      "    accuracy                           0.63      1938\n",
      "   macro avg       0.66      0.63      0.62      1938\n",
      "weighted avg       0.66      0.63      0.62      1938\n",
      "\n"
     ]
    }
   ],
   "source": [
    "print(classification_report(df['label'], df['comp_score']))"
   ]
  },
  {
   "cell_type": "code",
   "execution_count": 166,
   "id": "0b97e2d7",
   "metadata": {},
   "outputs": [
    {
     "name": "stdout",
     "output_type": "stream",
     "text": [
      "[[419 550]\n",
      " [161 808]]\n"
     ]
    }
   ],
   "source": [
    "print(confusion_matrix(df['label'], df['comp_score']))"
   ]
  },
  {
   "cell_type": "code",
   "execution_count": null,
   "id": "79c2c745",
   "metadata": {},
   "outputs": [],
   "source": []
  },
  {
   "cell_type": "code",
   "execution_count": null,
   "id": "27dd383b",
   "metadata": {},
   "outputs": [],
   "source": []
  },
  {
   "cell_type": "markdown",
   "id": "706c3008",
   "metadata": {},
   "source": [
    "\n",
    "# Assesment"
   ]
  },
  {
   "cell_type": "code",
   "execution_count": 167,
   "id": "75a6f0f4",
   "metadata": {},
   "outputs": [],
   "source": [
    "# perform vector arthemetic on your own words"
   ]
  },
  {
   "cell_type": "code",
   "execution_count": 169,
   "id": "e50eb078",
   "metadata": {},
   "outputs": [],
   "source": [
    "import numpy as np\n",
    "import pandas as pd\n",
    "import spacy"
   ]
  },
  {
   "cell_type": "code",
   "execution_count": 170,
   "id": "1e0567a9",
   "metadata": {},
   "outputs": [],
   "source": [
    "nlp = spacy.load('en_core_web_lg')"
   ]
  },
  {
   "cell_type": "code",
   "execution_count": 178,
   "id": "7eff8172",
   "metadata": {},
   "outputs": [],
   "source": [
    "words = nlp(u'pen cold winter dessert')"
   ]
  },
  {
   "cell_type": "code",
   "execution_count": 179,
   "id": "f188bc91",
   "metadata": {},
   "outputs": [
    {
     "name": "stdout",
     "output_type": "stream",
     "text": [
      "pen pen 1.0\n",
      "pen cold 0.08533231168985367\n",
      "pen winter -0.06380052864551544\n",
      "pen dessert 0.03481709957122803\n",
      "cold pen 0.08533231168985367\n",
      "cold cold 1.0\n",
      "cold winter 0.5590035915374756\n",
      "cold dessert 0.24725329875946045\n",
      "winter pen -0.06380052864551544\n",
      "winter cold 0.5590035915374756\n",
      "winter winter 1.0\n",
      "winter dessert 0.2659265697002411\n",
      "dessert pen 0.03481709957122803\n",
      "dessert cold 0.24725329875946045\n",
      "dessert winter 0.2659265697002411\n",
      "dessert dessert 1.0\n"
     ]
    }
   ],
   "source": [
    "for token1 in words:\n",
    "    for token2 in words:\n",
    "        print(token1.text, token2.text, token1.similarity(token2))"
   ]
  },
  {
   "cell_type": "code",
   "execution_count": 180,
   "id": "b7182c68",
   "metadata": {},
   "outputs": [],
   "source": [
    "from scipy import spatial"
   ]
  },
  {
   "cell_type": "code",
   "execution_count": 204,
   "id": "e09bb3cd",
   "metadata": {},
   "outputs": [],
   "source": [
    "vec = nlp.vocab['dessert'].vector\n",
    "score =[]\n",
    "\n",
    "cosine_similarity = lambda vec1, vec2: 1-spatial.distance.cosine(vec1, vec2)\n",
    "\n",
    "\n",
    "    \n",
    "# dist = spatial.distance(vec1, vec2)"
   ]
  },
  {
   "cell_type": "code",
   "execution_count": null,
   "id": "a0b8ddeb",
   "metadata": {},
   "outputs": [],
   "source": [
    "\n"
   ]
  },
  {
   "cell_type": "code",
   "execution_count": 215,
   "id": "a2ee670e",
   "metadata": {},
   "outputs": [
    {
     "name": "stderr",
     "output_type": "stream",
     "text": [
      "C:\\Users\\LENOVO\\anaconda3\\lib\\site-packages\\scipy\\spatial\\distance.py:728: RuntimeWarning: invalid value encountered in float_scalars\n",
      "  dist = 1.0 - uv / np.sqrt(uu * vv)\n"
     ]
    }
   ],
   "source": [
    "for s in nlp.vocab.vectors:\n",
    "    vocab = nlp.vocab[s]\n",
    "\n",
    "for s in nlp.vocab:\n",
    "    if s.is_alpha:\n",
    "        sc = cosine_similarity(vec, s.vector)\n",
    "        score.append((sc, s))\n",
    "    "
   ]
  },
  {
   "cell_type": "code",
   "execution_count": 216,
   "id": "c1fe8fc9",
   "metadata": {},
   "outputs": [
    {
     "data": {
      "text/plain": [
       "[(nan, <spacy.lexeme.Lexeme at 0x23604127400>),\n",
       " (0.009182250127196312, <spacy.lexeme.Lexeme at 0x23604127480>),\n",
       " (0.04615941271185875, <spacy.lexeme.Lexeme at 0x236041273c0>),\n",
       " (-0.025823593139648438, <spacy.lexeme.Lexeme at 0x23604127540>),\n",
       " (-0.0299764946103096, <spacy.lexeme.Lexeme at 0x23604127180>),\n",
       " (nan, <spacy.lexeme.Lexeme at 0x236041275c0>),\n",
       " (nan, <spacy.lexeme.Lexeme at 0x23604127640>),\n",
       " (-0.11177358031272888, <spacy.lexeme.Lexeme at 0x23604127680>),\n",
       " (-0.015846258029341698, <spacy.lexeme.Lexeme at 0x23604127700>),\n",
       " (-0.029810747131705284, <spacy.lexeme.Lexeme at 0x23604127580>)]"
      ]
     },
     "execution_count": 216,
     "metadata": {},
     "output_type": "execute_result"
    }
   ],
   "source": [
    "score[:10]"
   ]
  },
  {
   "cell_type": "code",
   "execution_count": 217,
   "id": "58dfb459",
   "metadata": {},
   "outputs": [],
   "source": [
    "sorted_score = sorted(score, key = lambda x: -x[0])"
   ]
  },
  {
   "cell_type": "code",
   "execution_count": 219,
   "id": "9fd603dd",
   "metadata": {},
   "outputs": [
    {
     "name": "stdout",
     "output_type": "stream",
     "text": [
      "nuthin\n",
      "cheesecake\n",
      "Dessert\n",
      "savory\n",
      "delicioso\n",
      "custard\n",
      "chocolatey\n",
      "salads\n",
      "snacky\n",
      "Desserts\n"
     ]
    }
   ],
   "source": [
    "for i in range(10):\n",
    "    print(sorted_score[i][1].text)"
   ]
  },
  {
   "cell_type": "code",
   "execution_count": 221,
   "id": "d5e476ec",
   "metadata": {},
   "outputs": [],
   "source": [
    "bed = nlp.vocab['bed']\n",
    "blanket = nlp.vocab['blanket']\n",
    "light = nlp.vocab['light']\n",
    "\n",
    "vect = bed.vector+blanket.vector-light.vector"
   ]
  },
  {
   "cell_type": "code",
   "execution_count": 222,
   "id": "a2575818",
   "metadata": {},
   "outputs": [],
   "source": [
    "vec_score = []\n",
    "\n",
    "for s in nlp.vocab:\n",
    "    if s.has_vector:\n",
    "        if s.is_alpha:\n",
    "            sc = cosine_similarity(vect, s.vector)\n",
    "            vec_score.append((sc, s))\n",
    "            "
   ]
  },
  {
   "cell_type": "code",
   "execution_count": 223,
   "id": "64a27d2e",
   "metadata": {},
   "outputs": [],
   "source": [
    "sorted_score = sorted(vec_score, key = lambda x: -x[0])\n",
    "    "
   ]
  },
  {
   "cell_type": "code",
   "execution_count": 224,
   "id": "579cf573",
   "metadata": {},
   "outputs": [
    {
     "name": "stdout",
     "output_type": "stream",
     "text": [
      "bed\n",
      "couch\n",
      "cot\n",
      "pillowtop\n",
      "sofa\n",
      "crib\n",
      "Asofa\n",
      "bedste\n",
      "sofabed\n",
      "bunk\n"
     ]
    }
   ],
   "source": [
    "for i in range(10):\n",
    "    print(sorted_score[i][1].text)"
   ]
  },
  {
   "cell_type": "code",
   "execution_count": null,
   "id": "ebf57dea",
   "metadata": {},
   "outputs": [],
   "source": []
  },
  {
   "cell_type": "code",
   "execution_count": null,
   "id": "6445a4db",
   "metadata": {},
   "outputs": [],
   "source": []
  },
  {
   "cell_type": "markdown",
   "id": "63bb6e1a",
   "metadata": {},
   "source": [
    "CHALLENGE : write a function that takes 3 strings, performs a+b+c arthmetic and returns a top-ten result"
   ]
  },
  {
   "cell_type": "code",
   "execution_count": 230,
   "id": "97193683",
   "metadata": {},
   "outputs": [],
   "source": [
    "def vector_math(a,b,c):\n",
    "    bed = nlp.vocab[a]\n",
    "    blanket = nlp.vocab[b]\n",
    "    light = nlp.vocab[c]\n",
    "\n",
    "    vect = bed.vector+blanket.vector-light.vector\n",
    "    vec_score = []\n",
    "\n",
    "    for s in nlp.vocab:\n",
    "        if s.has_vector:\n",
    "            if s.is_alpha:\n",
    "                sc = cosine_similarity(vect, s.vector)\n",
    "                vec_score.append((sc, s))\n",
    "    sorted_score = sorted(vec_score, key = lambda x: -x[0])\n",
    "    for i in range(20):\n",
    "        print(sorted_score[i][1].text)\n",
    "    \n",
    "    "
   ]
  },
  {
   "cell_type": "code",
   "execution_count": 231,
   "id": "f3679026",
   "metadata": {},
   "outputs": [
    {
     "name": "stdout",
     "output_type": "stream",
     "text": [
      "king\n",
      "kings\n",
      "kingi\n",
      "kingii\n",
      "prince\n",
      "ruler\n",
      "kingly\n",
      "princes\n",
      "princeling\n",
      "princedom\n",
      "kingsize\n",
      "kingdom\n",
      "kinglink\n",
      "kingship\n",
      "kingpost\n",
      "conqueror\n",
      "knight\n",
      "princelings\n",
      "kingsnake\n",
      "kinglet\n"
     ]
    }
   ],
   "source": [
    "vector_math('king', 'man', 'woman')"
   ]
  },
  {
   "cell_type": "code",
   "execution_count": null,
   "id": "f37ec2ec",
   "metadata": {},
   "outputs": [],
   "source": []
  },
  {
   "cell_type": "code",
   "execution_count": null,
   "id": "e468ad55",
   "metadata": {},
   "outputs": [],
   "source": []
  },
  {
   "cell_type": "markdown",
   "id": "8b91c245",
   "metadata": {},
   "source": [
    "## Task #2 Perform VADER sentiment analysis"
   ]
  },
  {
   "cell_type": "markdown",
   "id": "46711754",
   "metadata": {},
   "source": [
    "write code to return a set of SentimentIntensityAnalyzer polarity scores"
   ]
  },
  {
   "cell_type": "code",
   "execution_count": 239,
   "id": "30899f48",
   "metadata": {},
   "outputs": [],
   "source": [
    "review = 'The movie was ok, the actors performed average, and the story directed descent'"
   ]
  },
  {
   "cell_type": "code",
   "execution_count": 240,
   "id": "8fb51712",
   "metadata": {},
   "outputs": [],
   "source": [
    "from nltk.sentiment.vader import SentimentIntensityAnalyzer"
   ]
  },
  {
   "cell_type": "code",
   "execution_count": 241,
   "id": "4cbe5ef2",
   "metadata": {},
   "outputs": [],
   "source": [
    "sid = SentimentIntensityAnalyzer()"
   ]
  },
  {
   "cell_type": "code",
   "execution_count": 242,
   "id": "12af3b57",
   "metadata": {},
   "outputs": [
    {
     "data": {
      "text/plain": [
       "{'neg': 0.0, 'neu': 0.845, 'pos': 0.155, 'compound': 0.296}"
      ]
     },
     "execution_count": 242,
     "metadata": {},
     "output_type": "execute_result"
    }
   ],
   "source": [
    "sid.polarity_scores(review)"
   ]
  },
  {
   "cell_type": "code",
   "execution_count": null,
   "id": "36271f6a",
   "metadata": {},
   "outputs": [],
   "source": []
  },
  {
   "cell_type": "code",
   "execution_count": null,
   "id": "98d31fdc",
   "metadata": {},
   "outputs": [],
   "source": []
  },
  {
   "cell_type": "code",
   "execution_count": 243,
   "id": "22cdfb7a",
   "metadata": {},
   "outputs": [],
   "source": [
    "# write func"
   ]
  },
  {
   "cell_type": "code",
   "execution_count": 244,
   "id": "376a14ed",
   "metadata": {},
   "outputs": [],
   "source": [
    "def review_rating(string):\n",
    "    scores = sid.polarity_scores(string)\n",
    "    if scores['pos'] > 0.2:\n",
    "        print('good')\n",
    "    else:\n",
    "        print('not good')"
   ]
  },
  {
   "cell_type": "code",
   "execution_count": 245,
   "id": "51347621",
   "metadata": {},
   "outputs": [
    {
     "name": "stdout",
     "output_type": "stream",
     "text": [
      "not good\n"
     ]
    }
   ],
   "source": [
    "review_rating(review)"
   ]
  },
  {
   "cell_type": "code",
   "execution_count": null,
   "id": "e8cbe13e",
   "metadata": {},
   "outputs": [],
   "source": []
  }
 ],
 "metadata": {
  "kernelspec": {
   "display_name": "Python 3",
   "language": "python",
   "name": "python3"
  },
  "language_info": {
   "codemirror_mode": {
    "name": "ipython",
    "version": 3
   },
   "file_extension": ".py",
   "mimetype": "text/x-python",
   "name": "python",
   "nbconvert_exporter": "python",
   "pygments_lexer": "ipython3",
   "version": "3.8.8"
  }
 },
 "nbformat": 4,
 "nbformat_minor": 5
}
