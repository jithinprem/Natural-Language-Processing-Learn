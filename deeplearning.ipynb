{
 "cells": [
  {
   "cell_type": "markdown",
   "id": "2e39a484",
   "metadata": {},
   "source": [
    "# Deep learning"
   ]
  },
  {
   "cell_type": "markdown",
   "id": "8bd67511",
   "metadata": {},
   "source": [
    "- understand LSTM and RNN\n",
    "- use LSTM to generate text from source corpus\n",
    "- create qa chatbots with python"
   ]
  },
  {
   "cell_type": "code",
   "execution_count": null,
   "id": "041f43fe",
   "metadata": {},
   "outputs": [],
   "source": []
  },
  {
   "cell_type": "markdown",
   "id": "97a03b08",
   "metadata": {},
   "source": [
    "### Artificial Neuron\n",
    "- input will be value of feature\n",
    "- inputs are multiplied by weight (random num)\n",
    "- activation function\n",
    "- bias term (remove the problem of weight being zero) "
   ]
  },
  {
   "cell_type": "markdown",
   "id": "b1bc4318",
   "metadata": {},
   "source": [
    "# $$\\sum_{i=0->n}wixi + b$$ "
   ]
  },
  {
   "cell_type": "markdown",
   "id": "bbffd5a7",
   "metadata": {},
   "source": [
    "- once we have many perceptrons in a network we'll see how we can easily extend this to a matrix form"
   ]
  },
  {
   "cell_type": "markdown",
   "id": "ee1cc907",
   "metadata": {},
   "source": [
    "- rather than using just treshold, we can use sigmoid.. gives better meaning\n",
    "- tanh is also good func, but output can be -1 to 1 -> [e^x+e^(-x)]/[e^x - e^(-x)]\n",
    "- Relu -> if greater than  zero, return what's input, else return 0"
   ]
  },
  {
   "cell_type": "code",
   "execution_count": null,
   "id": "984c16fe",
   "metadata": {},
   "outputs": [],
   "source": []
  },
  {
   "cell_type": "markdown",
   "id": "285ef570",
   "metadata": {},
   "source": [
    "# Keras"
   ]
  },
  {
   "cell_type": "code",
   "execution_count": 1,
   "id": "d3e527c2",
   "metadata": {},
   "outputs": [],
   "source": [
    "import numpy as np"
   ]
  },
  {
   "cell_type": "code",
   "execution_count": 2,
   "id": "d538a148",
   "metadata": {},
   "outputs": [],
   "source": [
    "from sklearn.datasets import load_iris"
   ]
  },
  {
   "cell_type": "code",
   "execution_count": 3,
   "id": "1719d00b",
   "metadata": {},
   "outputs": [],
   "source": [
    "iris = load_iris()"
   ]
  },
  {
   "cell_type": "code",
   "execution_count": 4,
   "id": "5ec99548",
   "metadata": {},
   "outputs": [
    {
     "data": {
      "text/plain": [
       "sklearn.utils.Bunch"
      ]
     },
     "execution_count": 4,
     "metadata": {},
     "output_type": "execute_result"
    }
   ],
   "source": [
    "type(iris)"
   ]
  },
  {
   "cell_type": "code",
   "execution_count": 6,
   "id": "dcf51548",
   "metadata": {},
   "outputs": [
    {
     "name": "stdout",
     "output_type": "stream",
     "text": [
      ".. _iris_dataset:\n",
      "\n",
      "Iris plants dataset\n",
      "--------------------\n",
      "\n",
      "**Data Set Characteristics:**\n",
      "\n",
      "    :Number of Instances: 150 (50 in each of three classes)\n",
      "    :Number of Attributes: 4 numeric, predictive attributes and the class\n",
      "    :Attribute Information:\n",
      "        - sepal length in cm\n",
      "        - sepal width in cm\n",
      "        - petal length in cm\n",
      "        - petal width in cm\n",
      "        - class:\n",
      "                - Iris-Setosa\n",
      "                - Iris-Versicolour\n",
      "                - Iris-Virginica\n",
      "                \n",
      "    :Summary Statistics:\n",
      "\n",
      "    ============== ==== ==== ======= ===== ====================\n",
      "                    Min  Max   Mean    SD   Class Correlation\n",
      "    ============== ==== ==== ======= ===== ====================\n",
      "    sepal length:   4.3  7.9   5.84   0.83    0.7826\n",
      "    sepal width:    2.0  4.4   3.05   0.43   -0.4194\n",
      "    petal length:   1.0  6.9   3.76   1.76    0.9490  (high!)\n",
      "    petal width:    0.1  2.5   1.20   0.76    0.9565  (high!)\n",
      "    ============== ==== ==== ======= ===== ====================\n",
      "\n",
      "    :Missing Attribute Values: None\n",
      "    :Class Distribution: 33.3% for each of 3 classes.\n",
      "    :Creator: R.A. Fisher\n",
      "    :Donor: Michael Marshall (MARSHALL%PLU@io.arc.nasa.gov)\n",
      "    :Date: July, 1988\n",
      "\n",
      "The famous Iris database, first used by Sir R.A. Fisher. The dataset is taken\n",
      "from Fisher's paper. Note that it's the same as in R, but not as in the UCI\n",
      "Machine Learning Repository, which has two wrong data points.\n",
      "\n",
      "This is perhaps the best known database to be found in the\n",
      "pattern recognition literature.  Fisher's paper is a classic in the field and\n",
      "is referenced frequently to this day.  (See Duda & Hart, for example.)  The\n",
      "data set contains 3 classes of 50 instances each, where each class refers to a\n",
      "type of iris plant.  One class is linearly separable from the other 2; the\n",
      "latter are NOT linearly separable from each other.\n",
      "\n",
      ".. topic:: References\n",
      "\n",
      "   - Fisher, R.A. \"The use of multiple measurements in taxonomic problems\"\n",
      "     Annual Eugenics, 7, Part II, 179-188 (1936); also in \"Contributions to\n",
      "     Mathematical Statistics\" (John Wiley, NY, 1950).\n",
      "   - Duda, R.O., & Hart, P.E. (1973) Pattern Classification and Scene Analysis.\n",
      "     (Q327.D83) John Wiley & Sons.  ISBN 0-471-22361-1.  See page 218.\n",
      "   - Dasarathy, B.V. (1980) \"Nosing Around the Neighborhood: A New System\n",
      "     Structure and Classification Rule for Recognition in Partially Exposed\n",
      "     Environments\".  IEEE Transactions on Pattern Analysis and Machine\n",
      "     Intelligence, Vol. PAMI-2, No. 1, 67-71.\n",
      "   - Gates, G.W. (1972) \"The Reduced Nearest Neighbor Rule\".  IEEE Transactions\n",
      "     on Information Theory, May 1972, 431-433.\n",
      "   - See also: 1988 MLC Proceedings, 54-64.  Cheeseman et al\"s AUTOCLASS II\n",
      "     conceptual clustering system finds 3 classes in the data.\n",
      "   - Many, many more ...\n"
     ]
    }
   ],
   "source": [
    "print(iris.DESCR)"
   ]
  },
  {
   "cell_type": "code",
   "execution_count": 9,
   "id": "8bf1e917",
   "metadata": {},
   "outputs": [],
   "source": [
    "X = iris.data"
   ]
  },
  {
   "cell_type": "code",
   "execution_count": 10,
   "id": "063f7d22",
   "metadata": {},
   "outputs": [
    {
     "data": {
      "text/plain": [
       "array([[5.1, 3.5, 1.4, 0.2],\n",
       "       [4.9, 3. , 1.4, 0.2],\n",
       "       [4.7, 3.2, 1.3, 0.2],\n",
       "       [4.6, 3.1, 1.5, 0.2],\n",
       "       [5. , 3.6, 1.4, 0.2],\n",
       "       [5.4, 3.9, 1.7, 0.4],\n",
       "       [4.6, 3.4, 1.4, 0.3],\n",
       "       [5. , 3.4, 1.5, 0.2],\n",
       "       [4.4, 2.9, 1.4, 0.2],\n",
       "       [4.9, 3.1, 1.5, 0.1],\n",
       "       [5.4, 3.7, 1.5, 0.2],\n",
       "       [4.8, 3.4, 1.6, 0.2],\n",
       "       [4.8, 3. , 1.4, 0.1],\n",
       "       [4.3, 3. , 1.1, 0.1],\n",
       "       [5.8, 4. , 1.2, 0.2],\n",
       "       [5.7, 4.4, 1.5, 0.4],\n",
       "       [5.4, 3.9, 1.3, 0.4],\n",
       "       [5.1, 3.5, 1.4, 0.3],\n",
       "       [5.7, 3.8, 1.7, 0.3],\n",
       "       [5.1, 3.8, 1.5, 0.3],\n",
       "       [5.4, 3.4, 1.7, 0.2],\n",
       "       [5.1, 3.7, 1.5, 0.4],\n",
       "       [4.6, 3.6, 1. , 0.2],\n",
       "       [5.1, 3.3, 1.7, 0.5],\n",
       "       [4.8, 3.4, 1.9, 0.2],\n",
       "       [5. , 3. , 1.6, 0.2],\n",
       "       [5. , 3.4, 1.6, 0.4],\n",
       "       [5.2, 3.5, 1.5, 0.2],\n",
       "       [5.2, 3.4, 1.4, 0.2],\n",
       "       [4.7, 3.2, 1.6, 0.2],\n",
       "       [4.8, 3.1, 1.6, 0.2],\n",
       "       [5.4, 3.4, 1.5, 0.4],\n",
       "       [5.2, 4.1, 1.5, 0.1],\n",
       "       [5.5, 4.2, 1.4, 0.2],\n",
       "       [4.9, 3.1, 1.5, 0.2],\n",
       "       [5. , 3.2, 1.2, 0.2],\n",
       "       [5.5, 3.5, 1.3, 0.2],\n",
       "       [4.9, 3.6, 1.4, 0.1],\n",
       "       [4.4, 3. , 1.3, 0.2],\n",
       "       [5.1, 3.4, 1.5, 0.2],\n",
       "       [5. , 3.5, 1.3, 0.3],\n",
       "       [4.5, 2.3, 1.3, 0.3],\n",
       "       [4.4, 3.2, 1.3, 0.2],\n",
       "       [5. , 3.5, 1.6, 0.6],\n",
       "       [5.1, 3.8, 1.9, 0.4],\n",
       "       [4.8, 3. , 1.4, 0.3],\n",
       "       [5.1, 3.8, 1.6, 0.2],\n",
       "       [4.6, 3.2, 1.4, 0.2],\n",
       "       [5.3, 3.7, 1.5, 0.2],\n",
       "       [5. , 3.3, 1.4, 0.2],\n",
       "       [7. , 3.2, 4.7, 1.4],\n",
       "       [6.4, 3.2, 4.5, 1.5],\n",
       "       [6.9, 3.1, 4.9, 1.5],\n",
       "       [5.5, 2.3, 4. , 1.3],\n",
       "       [6.5, 2.8, 4.6, 1.5],\n",
       "       [5.7, 2.8, 4.5, 1.3],\n",
       "       [6.3, 3.3, 4.7, 1.6],\n",
       "       [4.9, 2.4, 3.3, 1. ],\n",
       "       [6.6, 2.9, 4.6, 1.3],\n",
       "       [5.2, 2.7, 3.9, 1.4],\n",
       "       [5. , 2. , 3.5, 1. ],\n",
       "       [5.9, 3. , 4.2, 1.5],\n",
       "       [6. , 2.2, 4. , 1. ],\n",
       "       [6.1, 2.9, 4.7, 1.4],\n",
       "       [5.6, 2.9, 3.6, 1.3],\n",
       "       [6.7, 3.1, 4.4, 1.4],\n",
       "       [5.6, 3. , 4.5, 1.5],\n",
       "       [5.8, 2.7, 4.1, 1. ],\n",
       "       [6.2, 2.2, 4.5, 1.5],\n",
       "       [5.6, 2.5, 3.9, 1.1],\n",
       "       [5.9, 3.2, 4.8, 1.8],\n",
       "       [6.1, 2.8, 4. , 1.3],\n",
       "       [6.3, 2.5, 4.9, 1.5],\n",
       "       [6.1, 2.8, 4.7, 1.2],\n",
       "       [6.4, 2.9, 4.3, 1.3],\n",
       "       [6.6, 3. , 4.4, 1.4],\n",
       "       [6.8, 2.8, 4.8, 1.4],\n",
       "       [6.7, 3. , 5. , 1.7],\n",
       "       [6. , 2.9, 4.5, 1.5],\n",
       "       [5.7, 2.6, 3.5, 1. ],\n",
       "       [5.5, 2.4, 3.8, 1.1],\n",
       "       [5.5, 2.4, 3.7, 1. ],\n",
       "       [5.8, 2.7, 3.9, 1.2],\n",
       "       [6. , 2.7, 5.1, 1.6],\n",
       "       [5.4, 3. , 4.5, 1.5],\n",
       "       [6. , 3.4, 4.5, 1.6],\n",
       "       [6.7, 3.1, 4.7, 1.5],\n",
       "       [6.3, 2.3, 4.4, 1.3],\n",
       "       [5.6, 3. , 4.1, 1.3],\n",
       "       [5.5, 2.5, 4. , 1.3],\n",
       "       [5.5, 2.6, 4.4, 1.2],\n",
       "       [6.1, 3. , 4.6, 1.4],\n",
       "       [5.8, 2.6, 4. , 1.2],\n",
       "       [5. , 2.3, 3.3, 1. ],\n",
       "       [5.6, 2.7, 4.2, 1.3],\n",
       "       [5.7, 3. , 4.2, 1.2],\n",
       "       [5.7, 2.9, 4.2, 1.3],\n",
       "       [6.2, 2.9, 4.3, 1.3],\n",
       "       [5.1, 2.5, 3. , 1.1],\n",
       "       [5.7, 2.8, 4.1, 1.3],\n",
       "       [6.3, 3.3, 6. , 2.5],\n",
       "       [5.8, 2.7, 5.1, 1.9],\n",
       "       [7.1, 3. , 5.9, 2.1],\n",
       "       [6.3, 2.9, 5.6, 1.8],\n",
       "       [6.5, 3. , 5.8, 2.2],\n",
       "       [7.6, 3. , 6.6, 2.1],\n",
       "       [4.9, 2.5, 4.5, 1.7],\n",
       "       [7.3, 2.9, 6.3, 1.8],\n",
       "       [6.7, 2.5, 5.8, 1.8],\n",
       "       [7.2, 3.6, 6.1, 2.5],\n",
       "       [6.5, 3.2, 5.1, 2. ],\n",
       "       [6.4, 2.7, 5.3, 1.9],\n",
       "       [6.8, 3. , 5.5, 2.1],\n",
       "       [5.7, 2.5, 5. , 2. ],\n",
       "       [5.8, 2.8, 5.1, 2.4],\n",
       "       [6.4, 3.2, 5.3, 2.3],\n",
       "       [6.5, 3. , 5.5, 1.8],\n",
       "       [7.7, 3.8, 6.7, 2.2],\n",
       "       [7.7, 2.6, 6.9, 2.3],\n",
       "       [6. , 2.2, 5. , 1.5],\n",
       "       [6.9, 3.2, 5.7, 2.3],\n",
       "       [5.6, 2.8, 4.9, 2. ],\n",
       "       [7.7, 2.8, 6.7, 2. ],\n",
       "       [6.3, 2.7, 4.9, 1.8],\n",
       "       [6.7, 3.3, 5.7, 2.1],\n",
       "       [7.2, 3.2, 6. , 1.8],\n",
       "       [6.2, 2.8, 4.8, 1.8],\n",
       "       [6.1, 3. , 4.9, 1.8],\n",
       "       [6.4, 2.8, 5.6, 2.1],\n",
       "       [7.2, 3. , 5.8, 1.6],\n",
       "       [7.4, 2.8, 6.1, 1.9],\n",
       "       [7.9, 3.8, 6.4, 2. ],\n",
       "       [6.4, 2.8, 5.6, 2.2],\n",
       "       [6.3, 2.8, 5.1, 1.5],\n",
       "       [6.1, 2.6, 5.6, 1.4],\n",
       "       [7.7, 3. , 6.1, 2.3],\n",
       "       [6.3, 3.4, 5.6, 2.4],\n",
       "       [6.4, 3.1, 5.5, 1.8],\n",
       "       [6. , 3. , 4.8, 1.8],\n",
       "       [6.9, 3.1, 5.4, 2.1],\n",
       "       [6.7, 3.1, 5.6, 2.4],\n",
       "       [6.9, 3.1, 5.1, 2.3],\n",
       "       [5.8, 2.7, 5.1, 1.9],\n",
       "       [6.8, 3.2, 5.9, 2.3],\n",
       "       [6.7, 3.3, 5.7, 2.5],\n",
       "       [6.7, 3. , 5.2, 2.3],\n",
       "       [6.3, 2.5, 5. , 1.9],\n",
       "       [6.5, 3. , 5.2, 2. ],\n",
       "       [6.2, 3.4, 5.4, 2.3],\n",
       "       [5.9, 3. , 5.1, 1.8]])"
      ]
     },
     "execution_count": 10,
     "metadata": {},
     "output_type": "execute_result"
    }
   ],
   "source": [
    "X"
   ]
  },
  {
   "cell_type": "code",
   "execution_count": 11,
   "id": "9a648452",
   "metadata": {},
   "outputs": [],
   "source": [
    "y= iris.target"
   ]
  },
  {
   "cell_type": "code",
   "execution_count": 12,
   "id": "564e4d1d",
   "metadata": {},
   "outputs": [
    {
     "data": {
      "text/plain": [
       "array([0, 0, 0, 0, 0, 0, 0, 0, 0, 0, 0, 0, 0, 0, 0, 0, 0, 0, 0, 0, 0, 0,\n",
       "       0, 0, 0, 0, 0, 0, 0, 0, 0, 0, 0, 0, 0, 0, 0, 0, 0, 0, 0, 0, 0, 0,\n",
       "       0, 0, 0, 0, 0, 0, 1, 1, 1, 1, 1, 1, 1, 1, 1, 1, 1, 1, 1, 1, 1, 1,\n",
       "       1, 1, 1, 1, 1, 1, 1, 1, 1, 1, 1, 1, 1, 1, 1, 1, 1, 1, 1, 1, 1, 1,\n",
       "       1, 1, 1, 1, 1, 1, 1, 1, 1, 1, 1, 1, 2, 2, 2, 2, 2, 2, 2, 2, 2, 2,\n",
       "       2, 2, 2, 2, 2, 2, 2, 2, 2, 2, 2, 2, 2, 2, 2, 2, 2, 2, 2, 2, 2, 2,\n",
       "       2, 2, 2, 2, 2, 2, 2, 2, 2, 2, 2, 2, 2, 2, 2, 2, 2, 2])"
      ]
     },
     "execution_count": 12,
     "metadata": {},
     "output_type": "execute_result"
    }
   ],
   "source": [
    "y"
   ]
  },
  {
   "cell_type": "code",
   "execution_count": 13,
   "id": "7069c78a",
   "metadata": {},
   "outputs": [],
   "source": [
    " # doing one hot encoding"
   ]
  },
  {
   "cell_type": "code",
   "execution_count": 14,
   "id": "bbd47c14",
   "metadata": {},
   "outputs": [],
   "source": [
    "# class 0 ---> [1 0 0]\n",
    "# class 1 ---> [0 1 0]\n",
    "# class 2 ---> [0 0 1]"
   ]
  },
  {
   "cell_type": "code",
   "execution_count": 23,
   "id": "d2a9e3f8",
   "metadata": {},
   "outputs": [],
   "source": [
    "from tensorflow.keras.utils import to_categorical"
   ]
  },
  {
   "cell_type": "code",
   "execution_count": 26,
   "id": "62da1e3b",
   "metadata": {},
   "outputs": [],
   "source": [
    "y = to_categorical(y)"
   ]
  },
  {
   "cell_type": "code",
   "execution_count": 27,
   "id": "53893a50",
   "metadata": {},
   "outputs": [
    {
     "data": {
      "text/plain": [
       "(150, 3)"
      ]
     },
     "execution_count": 27,
     "metadata": {},
     "output_type": "execute_result"
    }
   ],
   "source": [
    "y.shape"
   ]
  },
  {
   "cell_type": "code",
   "execution_count": 28,
   "id": "d81a8f85",
   "metadata": {},
   "outputs": [],
   "source": [
    "from sklearn.model_selection import train_test_split"
   ]
  },
  {
   "cell_type": "code",
   "execution_count": 29,
   "id": "ebefb06f",
   "metadata": {},
   "outputs": [],
   "source": [
    "X_train, X_test, y_train, y_test = train_test_split(X, y, test_size=0.33, random_state =42)"
   ]
  },
  {
   "cell_type": "code",
   "execution_count": 30,
   "id": "f27d6691",
   "metadata": {},
   "outputs": [
    {
     "data": {
      "text/plain": [
       "array([[0., 1., 0.],\n",
       "       [1., 0., 0.],\n",
       "       [0., 0., 1.],\n",
       "       [0., 1., 0.],\n",
       "       [0., 1., 0.],\n",
       "       [1., 0., 0.],\n",
       "       [0., 1., 0.],\n",
       "       [0., 0., 1.],\n",
       "       [0., 1., 0.],\n",
       "       [0., 1., 0.],\n",
       "       [0., 0., 1.],\n",
       "       [1., 0., 0.],\n",
       "       [1., 0., 0.],\n",
       "       [1., 0., 0.],\n",
       "       [1., 0., 0.],\n",
       "       [0., 1., 0.],\n",
       "       [0., 0., 1.],\n",
       "       [0., 1., 0.],\n",
       "       [0., 1., 0.],\n",
       "       [0., 0., 1.],\n",
       "       [1., 0., 0.],\n",
       "       [0., 0., 1.],\n",
       "       [1., 0., 0.],\n",
       "       [0., 0., 1.],\n",
       "       [0., 0., 1.],\n",
       "       [0., 0., 1.],\n",
       "       [0., 0., 1.],\n",
       "       [0., 0., 1.],\n",
       "       [1., 0., 0.],\n",
       "       [1., 0., 0.],\n",
       "       [1., 0., 0.],\n",
       "       [1., 0., 0.],\n",
       "       [0., 1., 0.],\n",
       "       [1., 0., 0.],\n",
       "       [1., 0., 0.],\n",
       "       [0., 0., 1.],\n",
       "       [0., 1., 0.],\n",
       "       [1., 0., 0.],\n",
       "       [1., 0., 0.],\n",
       "       [1., 0., 0.],\n",
       "       [0., 0., 1.],\n",
       "       [0., 1., 0.],\n",
       "       [0., 1., 0.],\n",
       "       [1., 0., 0.],\n",
       "       [1., 0., 0.],\n",
       "       [0., 1., 0.],\n",
       "       [0., 0., 1.],\n",
       "       [0., 0., 1.],\n",
       "       [0., 1., 0.],\n",
       "       [0., 0., 1.]], dtype=float32)"
      ]
     },
     "execution_count": 30,
     "metadata": {},
     "output_type": "execute_result"
    }
   ],
   "source": [
    "y_test"
   ]
  },
  {
   "cell_type": "code",
   "execution_count": 32,
   "id": "f605f9ff",
   "metadata": {},
   "outputs": [],
   "source": [
    "from sklearn.preprocessing import MinMaxScaler"
   ]
  },
  {
   "cell_type": "code",
   "execution_count": 35,
   "id": "3388392a",
   "metadata": {},
   "outputs": [],
   "source": [
    "scaler_object = MinMaxScaler()"
   ]
  },
  {
   "cell_type": "code",
   "execution_count": 36,
   "id": "842741cf",
   "metadata": {},
   "outputs": [
    {
     "data": {
      "text/plain": [
       "MinMaxScaler()"
      ]
     },
     "execution_count": 36,
     "metadata": {},
     "output_type": "execute_result"
    }
   ],
   "source": [
    "scaler_object.fit(X_train)"
   ]
  },
  {
   "cell_type": "code",
   "execution_count": 37,
   "id": "d0f3082d",
   "metadata": {},
   "outputs": [],
   "source": [
    "scaled_X_train = scaler_object.transform(X_train)"
   ]
  },
  {
   "cell_type": "code",
   "execution_count": 38,
   "id": "7f2bb4aa",
   "metadata": {},
   "outputs": [],
   "source": [
    "scaled_X_test = scaler_object.transform(X_test)"
   ]
  },
  {
   "cell_type": "code",
   "execution_count": null,
   "id": "0dcc4da1",
   "metadata": {},
   "outputs": [],
   "source": [
    "\n"
   ]
  },
  {
   "cell_type": "code",
   "execution_count": 39,
   "id": "4c2c7fa6",
   "metadata": {},
   "outputs": [],
   "source": [
    "# scaled_X_train"
   ]
  },
  {
   "cell_type": "code",
   "execution_count": null,
   "id": "43c4c1a0",
   "metadata": {},
   "outputs": [],
   "source": []
  },
  {
   "cell_type": "code",
   "execution_count": 40,
   "id": "b89b1dbd",
   "metadata": {},
   "outputs": [],
   "source": [
    "from tensorflow.keras.models import Sequential"
   ]
  },
  {
   "cell_type": "code",
   "execution_count": 41,
   "id": "2156b4e6",
   "metadata": {},
   "outputs": [],
   "source": [
    "from keras.layers import Dense"
   ]
  },
  {
   "cell_type": "code",
   "execution_count": 42,
   "id": "e09ae1f4",
   "metadata": {},
   "outputs": [],
   "source": [
    "model = Sequential()"
   ]
  },
  {
   "cell_type": "code",
   "execution_count": 44,
   "id": "2e1bd4c0",
   "metadata": {},
   "outputs": [],
   "source": [
    "model.add(Dense(8, input_dim=4, activation= 'relu'))\n",
    "model.add(Dense(8, input_dim=4, activation= 'relu'))\n",
    "model.add(Dense(3, activation='softmax')) # each have a prob of which it belongs\n",
    "model.compile(loss = 'categorical_crossentropy', optimizer= 'adam', metrics = ['accuracy'])"
   ]
  },
  {
   "cell_type": "code",
   "execution_count": 45,
   "id": "5c5fbe2e",
   "metadata": {},
   "outputs": [
    {
     "name": "stdout",
     "output_type": "stream",
     "text": [
      "Model: \"sequential\"\n",
      "_________________________________________________________________\n",
      " Layer (type)                Output Shape              Param #   \n",
      "=================================================================\n",
      " dense (Dense)               (None, 8)                 40        \n",
      "                                                                 \n",
      " dense_1 (Dense)             (None, 8)                 72        \n",
      "                                                                 \n",
      " dense_2 (Dense)             (None, 3)                 27        \n",
      "                                                                 \n",
      "=================================================================\n",
      "Total params: 139\n",
      "Trainable params: 139\n",
      "Non-trainable params: 0\n",
      "_________________________________________________________________\n"
     ]
    }
   ],
   "source": [
    "model.summary()"
   ]
  },
  {
   "cell_type": "code",
   "execution_count": 46,
   "id": "d3661d29",
   "metadata": {},
   "outputs": [
    {
     "name": "stdout",
     "output_type": "stream",
     "text": [
      "Epoch 1/150\n",
      "4/4 - 1s - loss: 1.0717 - accuracy: 0.6500 - 531ms/epoch - 133ms/step\n",
      "Epoch 2/150\n",
      "4/4 - 0s - loss: 1.0609 - accuracy: 0.6600 - 11ms/epoch - 3ms/step\n",
      "Epoch 3/150\n",
      "4/4 - 0s - loss: 1.0524 - accuracy: 0.6200 - 11ms/epoch - 3ms/step\n",
      "Epoch 4/150\n",
      "4/4 - 0s - loss: 1.0433 - accuracy: 0.6100 - 12ms/epoch - 3ms/step\n",
      "Epoch 5/150\n",
      "4/4 - 0s - loss: 1.0361 - accuracy: 0.6300 - 11ms/epoch - 3ms/step\n",
      "Epoch 6/150\n",
      "4/4 - 0s - loss: 1.0281 - accuracy: 0.7200 - 9ms/epoch - 2ms/step\n",
      "Epoch 7/150\n",
      "4/4 - 0s - loss: 1.0205 - accuracy: 0.6700 - 9ms/epoch - 2ms/step\n",
      "Epoch 8/150\n",
      "4/4 - 0s - loss: 1.0132 - accuracy: 0.6600 - 11ms/epoch - 3ms/step\n",
      "Epoch 9/150\n",
      "4/4 - 0s - loss: 1.0064 - accuracy: 0.6700 - 11ms/epoch - 3ms/step\n",
      "Epoch 10/150\n",
      "4/4 - 0s - loss: 0.9999 - accuracy: 0.6700 - 11ms/epoch - 3ms/step\n",
      "Epoch 11/150\n",
      "4/4 - 0s - loss: 0.9929 - accuracy: 0.6600 - 9ms/epoch - 2ms/step\n",
      "Epoch 12/150\n",
      "4/4 - 0s - loss: 0.9860 - accuracy: 0.6500 - 11ms/epoch - 3ms/step\n",
      "Epoch 13/150\n",
      "4/4 - 0s - loss: 0.9795 - accuracy: 0.6500 - 12ms/epoch - 3ms/step\n",
      "Epoch 14/150\n",
      "4/4 - 0s - loss: 0.9728 - accuracy: 0.6500 - 10ms/epoch - 2ms/step\n",
      "Epoch 15/150\n",
      "4/4 - 0s - loss: 0.9664 - accuracy: 0.6500 - 8ms/epoch - 2ms/step\n",
      "Epoch 16/150\n",
      "4/4 - 0s - loss: 0.9599 - accuracy: 0.6400 - 9ms/epoch - 2ms/step\n",
      "Epoch 17/150\n",
      "4/4 - 0s - loss: 0.9537 - accuracy: 0.6400 - 10ms/epoch - 2ms/step\n",
      "Epoch 18/150\n",
      "4/4 - 0s - loss: 0.9470 - accuracy: 0.6400 - 10ms/epoch - 2ms/step\n",
      "Epoch 19/150\n",
      "4/4 - 0s - loss: 0.9407 - accuracy: 0.6400 - 8ms/epoch - 2ms/step\n",
      "Epoch 20/150\n",
      "4/4 - 0s - loss: 0.9342 - accuracy: 0.6400 - 9ms/epoch - 2ms/step\n",
      "Epoch 21/150\n",
      "4/4 - 0s - loss: 0.9279 - accuracy: 0.6400 - 10ms/epoch - 3ms/step\n",
      "Epoch 22/150\n",
      "4/4 - 0s - loss: 0.9213 - accuracy: 0.6400 - 10ms/epoch - 2ms/step\n",
      "Epoch 23/150\n",
      "4/4 - 0s - loss: 0.9150 - accuracy: 0.6400 - 9ms/epoch - 2ms/step\n",
      "Epoch 24/150\n",
      "4/4 - 0s - loss: 0.9081 - accuracy: 0.6400 - 10ms/epoch - 3ms/step\n",
      "Epoch 25/150\n",
      "4/4 - 0s - loss: 0.9016 - accuracy: 0.6400 - 11ms/epoch - 3ms/step\n",
      "Epoch 26/150\n",
      "4/4 - 0s - loss: 0.8951 - accuracy: 0.6400 - 12ms/epoch - 3ms/step\n",
      "Epoch 27/150\n",
      "4/4 - 0s - loss: 0.8884 - accuracy: 0.6400 - 11ms/epoch - 3ms/step\n",
      "Epoch 28/150\n",
      "4/4 - 0s - loss: 0.8817 - accuracy: 0.6400 - 11ms/epoch - 3ms/step\n",
      "Epoch 29/150\n",
      "4/4 - 0s - loss: 0.8750 - accuracy: 0.6400 - 10ms/epoch - 2ms/step\n",
      "Epoch 30/150\n",
      "4/4 - 0s - loss: 0.8681 - accuracy: 0.6400 - 9ms/epoch - 2ms/step\n",
      "Epoch 31/150\n",
      "4/4 - 0s - loss: 0.8614 - accuracy: 0.6400 - 11ms/epoch - 3ms/step\n",
      "Epoch 32/150\n",
      "4/4 - 0s - loss: 0.8544 - accuracy: 0.6400 - 11ms/epoch - 3ms/step\n",
      "Epoch 33/150\n",
      "4/4 - 0s - loss: 0.8472 - accuracy: 0.6400 - 9ms/epoch - 2ms/step\n",
      "Epoch 34/150\n",
      "4/4 - 0s - loss: 0.8401 - accuracy: 0.6400 - 10ms/epoch - 2ms/step\n",
      "Epoch 35/150\n",
      "4/4 - 0s - loss: 0.8330 - accuracy: 0.6400 - 15ms/epoch - 4ms/step\n",
      "Epoch 36/150\n",
      "4/4 - 0s - loss: 0.8258 - accuracy: 0.6400 - 14ms/epoch - 3ms/step\n",
      "Epoch 37/150\n",
      "4/4 - 0s - loss: 0.8193 - accuracy: 0.6400 - 12ms/epoch - 3ms/step\n",
      "Epoch 38/150\n",
      "4/4 - 0s - loss: 0.8122 - accuracy: 0.6400 - 11ms/epoch - 3ms/step\n",
      "Epoch 39/150\n",
      "4/4 - 0s - loss: 0.8052 - accuracy: 0.6500 - 11ms/epoch - 3ms/step\n",
      "Epoch 40/150\n",
      "4/4 - 0s - loss: 0.7979 - accuracy: 0.6500 - 23ms/epoch - 6ms/step\n",
      "Epoch 41/150\n",
      "4/4 - 0s - loss: 0.7901 - accuracy: 0.6500 - 14ms/epoch - 3ms/step\n",
      "Epoch 42/150\n",
      "4/4 - 0s - loss: 0.7826 - accuracy: 0.6500 - 11ms/epoch - 3ms/step\n",
      "Epoch 43/150\n",
      "4/4 - 0s - loss: 0.7756 - accuracy: 0.6600 - 11ms/epoch - 3ms/step\n",
      "Epoch 44/150\n",
      "4/4 - 0s - loss: 0.7686 - accuracy: 0.6700 - 12ms/epoch - 3ms/step\n",
      "Epoch 45/150\n",
      "4/4 - 0s - loss: 0.7613 - accuracy: 0.6800 - 10ms/epoch - 2ms/step\n",
      "Epoch 46/150\n",
      "4/4 - 0s - loss: 0.7542 - accuracy: 0.6700 - 11ms/epoch - 3ms/step\n",
      "Epoch 47/150\n",
      "4/4 - 0s - loss: 0.7458 - accuracy: 0.6700 - 11ms/epoch - 3ms/step\n",
      "Epoch 48/150\n",
      "4/4 - 0s - loss: 0.7383 - accuracy: 0.6700 - 12ms/epoch - 3ms/step\n",
      "Epoch 49/150\n",
      "4/4 - 0s - loss: 0.7307 - accuracy: 0.6800 - 10ms/epoch - 2ms/step\n",
      "Epoch 50/150\n",
      "4/4 - 0s - loss: 0.7231 - accuracy: 0.6700 - 12ms/epoch - 3ms/step\n",
      "Epoch 51/150\n",
      "4/4 - 0s - loss: 0.7163 - accuracy: 0.6500 - 11ms/epoch - 3ms/step\n",
      "Epoch 52/150\n",
      "4/4 - 0s - loss: 0.7097 - accuracy: 0.6500 - 9ms/epoch - 2ms/step\n",
      "Epoch 53/150\n",
      "4/4 - 0s - loss: 0.7019 - accuracy: 0.6500 - 13ms/epoch - 3ms/step\n",
      "Epoch 54/150\n",
      "4/4 - 0s - loss: 0.6950 - accuracy: 0.6500 - 9ms/epoch - 2ms/step\n",
      "Epoch 55/150\n",
      "4/4 - 0s - loss: 0.6878 - accuracy: 0.6500 - 10ms/epoch - 2ms/step\n",
      "Epoch 56/150\n",
      "4/4 - 0s - loss: 0.6804 - accuracy: 0.6600 - 10ms/epoch - 2ms/step\n",
      "Epoch 57/150\n",
      "4/4 - 0s - loss: 0.6736 - accuracy: 0.6700 - 11ms/epoch - 3ms/step\n",
      "Epoch 58/150\n",
      "4/4 - 0s - loss: 0.6668 - accuracy: 0.6900 - 8ms/epoch - 2ms/step\n",
      "Epoch 59/150\n",
      "4/4 - 0s - loss: 0.6597 - accuracy: 0.6900 - 8ms/epoch - 2ms/step\n",
      "Epoch 60/150\n",
      "4/4 - 0s - loss: 0.6527 - accuracy: 0.6900 - 8ms/epoch - 2ms/step\n",
      "Epoch 61/150\n",
      "4/4 - 0s - loss: 0.6464 - accuracy: 0.7200 - 7ms/epoch - 2ms/step\n",
      "Epoch 62/150\n",
      "4/4 - 0s - loss: 0.6393 - accuracy: 0.7300 - 8ms/epoch - 2ms/step\n",
      "Epoch 63/150\n",
      "4/4 - 0s - loss: 0.6321 - accuracy: 0.6900 - 8ms/epoch - 2ms/step\n",
      "Epoch 64/150\n",
      "4/4 - 0s - loss: 0.6262 - accuracy: 0.6700 - 9ms/epoch - 2ms/step\n",
      "Epoch 65/150\n",
      "4/4 - 0s - loss: 0.6201 - accuracy: 0.6600 - 9ms/epoch - 2ms/step\n",
      "Epoch 66/150\n",
      "4/4 - 0s - loss: 0.6147 - accuracy: 0.6500 - 164ms/epoch - 41ms/step\n",
      "Epoch 67/150\n",
      "4/4 - 0s - loss: 0.6094 - accuracy: 0.6500 - 14ms/epoch - 3ms/step\n",
      "Epoch 68/150\n",
      "4/4 - 0s - loss: 0.6039 - accuracy: 0.6500 - 13ms/epoch - 3ms/step\n",
      "Epoch 69/150\n",
      "4/4 - 0s - loss: 0.5980 - accuracy: 0.6500 - 10ms/epoch - 2ms/step\n",
      "Epoch 70/150\n",
      "4/4 - 0s - loss: 0.5917 - accuracy: 0.6500 - 12ms/epoch - 3ms/step\n",
      "Epoch 71/150\n",
      "4/4 - 0s - loss: 0.5848 - accuracy: 0.6600 - 11ms/epoch - 3ms/step\n",
      "Epoch 72/150\n",
      "4/4 - 0s - loss: 0.5787 - accuracy: 0.6700 - 12ms/epoch - 3ms/step\n",
      "Epoch 73/150\n",
      "4/4 - 0s - loss: 0.5729 - accuracy: 0.6800 - 10ms/epoch - 2ms/step\n",
      "Epoch 74/150\n",
      "4/4 - 0s - loss: 0.5671 - accuracy: 0.6800 - 11ms/epoch - 3ms/step\n",
      "Epoch 75/150\n",
      "4/4 - 0s - loss: 0.5610 - accuracy: 0.7100 - 11ms/epoch - 3ms/step\n",
      "Epoch 76/150\n",
      "4/4 - 0s - loss: 0.5559 - accuracy: 0.7100 - 11ms/epoch - 3ms/step\n",
      "Epoch 77/150\n",
      "4/4 - 0s - loss: 0.5506 - accuracy: 0.7100 - 14ms/epoch - 3ms/step\n",
      "Epoch 78/150\n",
      "4/4 - 0s - loss: 0.5459 - accuracy: 0.7400 - 12ms/epoch - 3ms/step\n",
      "Epoch 79/150\n",
      "4/4 - 0s - loss: 0.5407 - accuracy: 0.7800 - 11ms/epoch - 3ms/step\n",
      "Epoch 80/150\n",
      "4/4 - 0s - loss: 0.5366 - accuracy: 0.8200 - 11ms/epoch - 3ms/step\n",
      "Epoch 81/150\n",
      "4/4 - 0s - loss: 0.5318 - accuracy: 0.8300 - 12ms/epoch - 3ms/step\n",
      "Epoch 82/150\n",
      "4/4 - 0s - loss: 0.5274 - accuracy: 0.8300 - 12ms/epoch - 3ms/step\n",
      "Epoch 83/150\n",
      "4/4 - 0s - loss: 0.5231 - accuracy: 0.8500 - 12ms/epoch - 3ms/step\n",
      "Epoch 84/150\n",
      "4/4 - 0s - loss: 0.5189 - accuracy: 0.8600 - 12ms/epoch - 3ms/step\n",
      "Epoch 85/150\n",
      "4/4 - 0s - loss: 0.5149 - accuracy: 0.8400 - 11ms/epoch - 3ms/step\n",
      "Epoch 86/150\n",
      "4/4 - 0s - loss: 0.5108 - accuracy: 0.8200 - 11ms/epoch - 3ms/step\n",
      "Epoch 87/150\n",
      "4/4 - 0s - loss: 0.5068 - accuracy: 0.8200 - 12ms/epoch - 3ms/step\n",
      "Epoch 88/150\n",
      "4/4 - 0s - loss: 0.5032 - accuracy: 0.8100 - 11ms/epoch - 3ms/step\n",
      "Epoch 89/150\n",
      "4/4 - 0s - loss: 0.4996 - accuracy: 0.7900 - 11ms/epoch - 3ms/step\n",
      "Epoch 90/150\n",
      "4/4 - 0s - loss: 0.4960 - accuracy: 0.7700 - 11ms/epoch - 3ms/step\n",
      "Epoch 91/150\n",
      "4/4 - 0s - loss: 0.4938 - accuracy: 0.7500 - 13ms/epoch - 3ms/step\n",
      "Epoch 92/150\n",
      "4/4 - 0s - loss: 0.4894 - accuracy: 0.7400 - 14ms/epoch - 3ms/step\n",
      "Epoch 93/150\n",
      "4/4 - 0s - loss: 0.4850 - accuracy: 0.8000 - 12ms/epoch - 3ms/step\n",
      "Epoch 94/150\n",
      "4/4 - 0s - loss: 0.4814 - accuracy: 0.8200 - 14ms/epoch - 3ms/step\n",
      "Epoch 95/150\n",
      "4/4 - 0s - loss: 0.4781 - accuracy: 0.8500 - 14ms/epoch - 3ms/step\n",
      "Epoch 96/150\n",
      "4/4 - 0s - loss: 0.4754 - accuracy: 0.8900 - 12ms/epoch - 3ms/step\n",
      "Epoch 97/150\n",
      "4/4 - 0s - loss: 0.4719 - accuracy: 0.9200 - 15ms/epoch - 4ms/step\n",
      "Epoch 98/150\n",
      "4/4 - 0s - loss: 0.4690 - accuracy: 0.9300 - 13ms/epoch - 3ms/step\n",
      "Epoch 99/150\n",
      "4/4 - 0s - loss: 0.4663 - accuracy: 0.9400 - 14ms/epoch - 3ms/step\n",
      "Epoch 100/150\n",
      "4/4 - 0s - loss: 0.4640 - accuracy: 0.9400 - 12ms/epoch - 3ms/step\n",
      "Epoch 101/150\n",
      "4/4 - 0s - loss: 0.4612 - accuracy: 0.9400 - 11ms/epoch - 3ms/step\n",
      "Epoch 102/150\n",
      "4/4 - 0s - loss: 0.4577 - accuracy: 0.9400 - 11ms/epoch - 3ms/step\n",
      "Epoch 103/150\n",
      "4/4 - 0s - loss: 0.4544 - accuracy: 0.9300 - 10ms/epoch - 2ms/step\n"
     ]
    },
    {
     "name": "stdout",
     "output_type": "stream",
     "text": [
      "Epoch 104/150\n",
      "4/4 - 0s - loss: 0.4511 - accuracy: 0.9300 - 9ms/epoch - 2ms/step\n",
      "Epoch 105/150\n",
      "4/4 - 0s - loss: 0.4483 - accuracy: 0.9300 - 10ms/epoch - 2ms/step\n",
      "Epoch 106/150\n",
      "4/4 - 0s - loss: 0.4452 - accuracy: 0.9300 - 11ms/epoch - 3ms/step\n",
      "Epoch 107/150\n",
      "4/4 - 0s - loss: 0.4426 - accuracy: 0.8900 - 9ms/epoch - 2ms/step\n",
      "Epoch 108/150\n",
      "4/4 - 0s - loss: 0.4408 - accuracy: 0.8600 - 9ms/epoch - 2ms/step\n",
      "Epoch 109/150\n",
      "4/4 - 0s - loss: 0.4383 - accuracy: 0.8600 - 8ms/epoch - 2ms/step\n",
      "Epoch 110/150\n",
      "4/4 - 0s - loss: 0.4353 - accuracy: 0.8600 - 10ms/epoch - 2ms/step\n",
      "Epoch 111/150\n",
      "4/4 - 0s - loss: 0.4336 - accuracy: 0.8400 - 11ms/epoch - 3ms/step\n",
      "Epoch 112/150\n",
      "4/4 - 0s - loss: 0.4310 - accuracy: 0.8400 - 10ms/epoch - 2ms/step\n",
      "Epoch 113/150\n",
      "4/4 - 0s - loss: 0.4279 - accuracy: 0.8600 - 8ms/epoch - 2ms/step\n",
      "Epoch 114/150\n",
      "4/4 - 0s - loss: 0.4251 - accuracy: 0.8900 - 10ms/epoch - 2ms/step\n",
      "Epoch 115/150\n",
      "4/4 - 0s - loss: 0.4219 - accuracy: 0.9000 - 11ms/epoch - 3ms/step\n",
      "Epoch 116/150\n",
      "4/4 - 0s - loss: 0.4193 - accuracy: 0.9200 - 9ms/epoch - 2ms/step\n",
      "Epoch 117/150\n",
      "4/4 - 0s - loss: 0.4169 - accuracy: 0.9200 - 8ms/epoch - 2ms/step\n",
      "Epoch 118/150\n",
      "4/4 - 0s - loss: 0.4145 - accuracy: 0.9300 - 9ms/epoch - 2ms/step\n",
      "Epoch 119/150\n",
      "4/4 - 0s - loss: 0.4116 - accuracy: 0.9300 - 9ms/epoch - 2ms/step\n",
      "Epoch 120/150\n",
      "4/4 - 0s - loss: 0.4090 - accuracy: 0.9300 - 9ms/epoch - 2ms/step\n",
      "Epoch 121/150\n",
      "4/4 - 0s - loss: 0.4068 - accuracy: 0.9300 - 8ms/epoch - 2ms/step\n",
      "Epoch 122/150\n",
      "4/4 - 0s - loss: 0.4043 - accuracy: 0.9400 - 9ms/epoch - 2ms/step\n",
      "Epoch 123/150\n",
      "4/4 - 0s - loss: 0.4020 - accuracy: 0.9400 - 11ms/epoch - 3ms/step\n",
      "Epoch 124/150\n",
      "4/4 - 0s - loss: 0.3997 - accuracy: 0.9300 - 8ms/epoch - 2ms/step\n",
      "Epoch 125/150\n",
      "4/4 - 0s - loss: 0.3971 - accuracy: 0.9300 - 9ms/epoch - 2ms/step\n",
      "Epoch 126/150\n",
      "4/4 - 0s - loss: 0.3950 - accuracy: 0.9300 - 10ms/epoch - 3ms/step\n",
      "Epoch 127/150\n",
      "4/4 - 0s - loss: 0.3930 - accuracy: 0.9300 - 10ms/epoch - 2ms/step\n",
      "Epoch 128/150\n",
      "4/4 - 0s - loss: 0.3909 - accuracy: 0.9300 - 14ms/epoch - 3ms/step\n",
      "Epoch 129/150\n",
      "4/4 - 0s - loss: 0.3879 - accuracy: 0.9300 - 14ms/epoch - 3ms/step\n",
      "Epoch 130/150\n",
      "4/4 - 0s - loss: 0.3852 - accuracy: 0.9400 - 14ms/epoch - 3ms/step\n",
      "Epoch 131/150\n",
      "4/4 - 0s - loss: 0.3829 - accuracy: 0.9500 - 16ms/epoch - 4ms/step\n",
      "Epoch 132/150\n",
      "4/4 - 0s - loss: 0.3803 - accuracy: 0.9500 - 13ms/epoch - 3ms/step\n",
      "Epoch 133/150\n",
      "4/4 - 0s - loss: 0.3787 - accuracy: 0.9600 - 13ms/epoch - 3ms/step\n",
      "Epoch 134/150\n",
      "4/4 - 0s - loss: 0.3786 - accuracy: 0.9700 - 14ms/epoch - 3ms/step\n",
      "Epoch 135/150\n",
      "4/4 - 0s - loss: 0.3772 - accuracy: 0.9600 - 14ms/epoch - 3ms/step\n",
      "Epoch 136/150\n",
      "4/4 - 0s - loss: 0.3747 - accuracy: 0.9600 - 15ms/epoch - 4ms/step\n",
      "Epoch 137/150\n",
      "4/4 - 0s - loss: 0.3703 - accuracy: 0.9600 - 13ms/epoch - 3ms/step\n",
      "Epoch 138/150\n",
      "4/4 - 0s - loss: 0.3671 - accuracy: 0.9600 - 14ms/epoch - 3ms/step\n",
      "Epoch 139/150\n",
      "4/4 - 0s - loss: 0.3654 - accuracy: 0.9500 - 11ms/epoch - 3ms/step\n",
      "Epoch 140/150\n",
      "4/4 - 0s - loss: 0.3623 - accuracy: 0.9500 - 12ms/epoch - 3ms/step\n",
      "Epoch 141/150\n",
      "4/4 - 0s - loss: 0.3598 - accuracy: 0.9500 - 10ms/epoch - 3ms/step\n",
      "Epoch 142/150\n",
      "4/4 - 0s - loss: 0.3578 - accuracy: 0.9500 - 9ms/epoch - 2ms/step\n",
      "Epoch 143/150\n",
      "4/4 - 0s - loss: 0.3563 - accuracy: 0.9300 - 11ms/epoch - 3ms/step\n",
      "Epoch 144/150\n",
      "4/4 - 0s - loss: 0.3541 - accuracy: 0.9300 - 10ms/epoch - 2ms/step\n",
      "Epoch 145/150\n",
      "4/4 - 0s - loss: 0.3518 - accuracy: 0.9300 - 11ms/epoch - 3ms/step\n",
      "Epoch 146/150\n",
      "4/4 - 0s - loss: 0.3487 - accuracy: 0.9500 - 12ms/epoch - 3ms/step\n",
      "Epoch 147/150\n",
      "4/4 - 0s - loss: 0.3465 - accuracy: 0.9500 - 13ms/epoch - 3ms/step\n",
      "Epoch 148/150\n",
      "4/4 - 0s - loss: 0.3443 - accuracy: 0.9500 - 10ms/epoch - 2ms/step\n",
      "Epoch 149/150\n",
      "4/4 - 0s - loss: 0.3427 - accuracy: 0.9500 - 8ms/epoch - 2ms/step\n",
      "Epoch 150/150\n",
      "4/4 - 0s - loss: 0.3400 - accuracy: 0.9500 - 9ms/epoch - 2ms/step\n"
     ]
    },
    {
     "data": {
      "text/plain": [
       "<keras.callbacks.History at 0x1ee95a00d30>"
      ]
     },
     "execution_count": 46,
     "metadata": {},
     "output_type": "execute_result"
    }
   ],
   "source": [
    "model.fit(scaled_X_train, y_train, epochs=150, verbose=2)"
   ]
  },
  {
   "cell_type": "code",
   "execution_count": 64,
   "id": "ce142ba2",
   "metadata": {},
   "outputs": [
    {
     "data": {
      "text/plain": [
       "array([[ 0.52941176,  0.36363636,  0.64285714,  0.45833333],\n",
       "       [ 0.41176471,  0.81818182,  0.10714286,  0.08333333],\n",
       "       [ 1.        ,  0.27272727,  1.03571429,  0.91666667],\n",
       "       [ 0.5       ,  0.40909091,  0.60714286,  0.58333333],\n",
       "       [ 0.73529412,  0.36363636,  0.66071429,  0.54166667],\n",
       "       [ 0.32352941,  0.63636364,  0.07142857,  0.125     ],\n",
       "       [ 0.38235294,  0.40909091,  0.44642857,  0.5       ],\n",
       "       [ 0.76470588,  0.5       ,  0.71428571,  0.91666667],\n",
       "       [ 0.55882353,  0.09090909,  0.60714286,  0.58333333],\n",
       "       [ 0.44117647,  0.31818182,  0.5       ,  0.45833333],\n",
       "       [ 0.64705882,  0.54545455,  0.71428571,  0.79166667],\n",
       "       [ 0.14705882,  0.45454545,  0.05357143,  0.        ],\n",
       "       [ 0.35294118,  0.68181818,  0.03571429,  0.04166667],\n",
       "       [ 0.17647059,  0.5       ,  0.07142857,  0.        ],\n",
       "       [ 0.23529412,  0.81818182,  0.07142857,  0.08333333],\n",
       "       [ 0.58823529,  0.59090909,  0.64285714,  0.625     ],\n",
       "       [ 0.64705882,  0.45454545,  0.83928571,  0.875     ],\n",
       "       [ 0.38235294,  0.22727273,  0.5       ,  0.41666667],\n",
       "       [ 0.41176471,  0.36363636,  0.60714286,  0.5       ],\n",
       "       [ 0.61764706,  0.36363636,  0.80357143,  0.875     ],\n",
       "       [ 0.11764706,  0.54545455,  0.08928571,  0.04166667],\n",
       "       [ 0.52941176,  0.45454545,  0.67857143,  0.70833333],\n",
       "       [ 0.20588235,  0.63636364,  0.08928571,  0.125     ],\n",
       "       [ 0.61764706,  0.36363636,  0.80357143,  0.83333333],\n",
       "       [ 1.05882353,  0.81818182,  0.94642857,  0.79166667],\n",
       "       [ 0.70588235,  0.45454545,  0.73214286,  0.91666667],\n",
       "       [ 0.70588235,  0.22727273,  0.83928571,  0.70833333],\n",
       "       [ 0.73529412,  0.54545455,  0.85714286,  0.91666667],\n",
       "       [ 0.14705882,  0.45454545,  0.05357143,  0.08333333],\n",
       "       [ 0.14705882,  0.5       ,  0.08928571,  0.04166667],\n",
       "       [ 0.08823529,  0.72727273, -0.01785714,  0.04166667],\n",
       "       [ 0.41176471,  1.09090909,  0.07142857,  0.125     ],\n",
       "       [ 0.70588235,  0.5       ,  0.58928571,  0.54166667],\n",
       "       [ 0.14705882,  0.63636364,  0.08928571,  0.04166667],\n",
       "       [ 0.02941176,  0.54545455,  0.03571429,  0.04166667],\n",
       "       [ 0.58823529,  0.22727273,  0.69642857,  0.75      ],\n",
       "       [ 0.61764706,  0.54545455,  0.60714286,  0.58333333],\n",
       "       [ 0.26470588,  0.68181818,  0.07142857,  0.04166667],\n",
       "       [ 0.20588235,  0.72727273,  0.05357143,  0.04166667],\n",
       "       [ 0.26470588,  0.95454545,  0.07142857,  0.        ],\n",
       "       [ 0.44117647,  0.31818182,  0.71428571,  0.75      ],\n",
       "       [ 0.5       ,  0.63636364,  0.60714286,  0.625     ],\n",
       "       [ 0.70588235,  0.5       ,  0.64285714,  0.58333333],\n",
       "       [ 0.32352941,  0.86363636,  0.03571429,  0.125     ],\n",
       "       [ 0.32352941,  0.77272727,  0.07142857,  0.04166667],\n",
       "       [ 0.35294118,  0.18181818,  0.46428571,  0.375     ],\n",
       "       [ 0.58823529,  0.36363636,  0.71428571,  0.58333333],\n",
       "       [ 0.61764706,  0.5       ,  0.78571429,  0.70833333],\n",
       "       [ 0.67647059,  0.45454545,  0.58928571,  0.54166667],\n",
       "       [ 0.85294118,  0.72727273,  0.89285714,  1.        ]])"
      ]
     },
     "execution_count": 64,
     "metadata": {},
     "output_type": "execute_result"
    }
   ],
   "source": [
    "scaled_X_test"
   ]
  },
  {
   "cell_type": "code",
   "execution_count": 74,
   "id": "e9f2dbf9",
   "metadata": {},
   "outputs": [
    {
     "name": "stdout",
     "output_type": "stream",
     "text": [
      "2/2 [==============================] - 0s 3ms/step\n"
     ]
    }
   ],
   "source": [
    "predicted = model.predict(scaled_X_test)"
   ]
  },
  {
   "cell_type": "code",
   "execution_count": 75,
   "id": "a2baec33",
   "metadata": {},
   "outputs": [],
   "source": [
    "classes_x=np.argmax(predicted,axis=1)"
   ]
  },
  {
   "cell_type": "code",
   "execution_count": 76,
   "id": "294f7b44",
   "metadata": {},
   "outputs": [
    {
     "data": {
      "text/plain": [
       "array([1, 0, 2, 1, 1, 0, 1, 2, 2, 1, 2, 0, 0, 0, 0, 1, 2, 1, 1, 2, 0, 2,\n",
       "       0, 2, 2, 2, 2, 2, 0, 0, 0, 0, 1, 0, 0, 2, 1, 0, 0, 0, 2, 1, 1, 0,\n",
       "       0, 1, 2, 2, 1, 2], dtype=int64)"
      ]
     },
     "execution_count": 76,
     "metadata": {},
     "output_type": "execute_result"
    }
   ],
   "source": [
    "classes_x"
   ]
  },
  {
   "cell_type": "code",
   "execution_count": 77,
   "id": "98b6de4c",
   "metadata": {},
   "outputs": [
    {
     "data": {
      "text/plain": [
       "array([[0., 1., 0.],\n",
       "       [1., 0., 0.],\n",
       "       [0., 0., 1.],\n",
       "       [0., 1., 0.],\n",
       "       [0., 1., 0.],\n",
       "       [1., 0., 0.],\n",
       "       [0., 1., 0.],\n",
       "       [0., 0., 1.],\n",
       "       [0., 1., 0.],\n",
       "       [0., 1., 0.],\n",
       "       [0., 0., 1.],\n",
       "       [1., 0., 0.],\n",
       "       [1., 0., 0.],\n",
       "       [1., 0., 0.],\n",
       "       [1., 0., 0.],\n",
       "       [0., 1., 0.],\n",
       "       [0., 0., 1.],\n",
       "       [0., 1., 0.],\n",
       "       [0., 1., 0.],\n",
       "       [0., 0., 1.],\n",
       "       [1., 0., 0.],\n",
       "       [0., 0., 1.],\n",
       "       [1., 0., 0.],\n",
       "       [0., 0., 1.],\n",
       "       [0., 0., 1.],\n",
       "       [0., 0., 1.],\n",
       "       [0., 0., 1.],\n",
       "       [0., 0., 1.],\n",
       "       [1., 0., 0.],\n",
       "       [1., 0., 0.],\n",
       "       [1., 0., 0.],\n",
       "       [1., 0., 0.],\n",
       "       [0., 1., 0.],\n",
       "       [1., 0., 0.],\n",
       "       [1., 0., 0.],\n",
       "       [0., 0., 1.],\n",
       "       [0., 1., 0.],\n",
       "       [1., 0., 0.],\n",
       "       [1., 0., 0.],\n",
       "       [1., 0., 0.],\n",
       "       [0., 0., 1.],\n",
       "       [0., 1., 0.],\n",
       "       [0., 1., 0.],\n",
       "       [1., 0., 0.],\n",
       "       [1., 0., 0.],\n",
       "       [0., 1., 0.],\n",
       "       [0., 0., 1.],\n",
       "       [0., 0., 1.],\n",
       "       [0., 1., 0.],\n",
       "       [0., 0., 1.]], dtype=float32)"
      ]
     },
     "execution_count": 77,
     "metadata": {},
     "output_type": "execute_result"
    }
   ],
   "source": [
    "y_test"
   ]
  },
  {
   "cell_type": "code",
   "execution_count": 78,
   "id": "faad5408",
   "metadata": {},
   "outputs": [],
   "source": [
    "# now we need to see how well we performed"
   ]
  },
  {
   "cell_type": "code",
   "execution_count": 79,
   "id": "2d07b4b8",
   "metadata": {},
   "outputs": [],
   "source": [
    "y_test_mod = y_test.argmax(axis =1)"
   ]
  },
  {
   "cell_type": "code",
   "execution_count": 80,
   "id": "e8f42dfd",
   "metadata": {},
   "outputs": [],
   "source": [
    "from sklearn.metrics import confusion_matrix, classification_report"
   ]
  },
  {
   "cell_type": "code",
   "execution_count": 81,
   "id": "5ac57b4d",
   "metadata": {},
   "outputs": [
    {
     "data": {
      "text/plain": [
       "array([[19,  0,  0],\n",
       "       [ 0, 14,  1],\n",
       "       [ 0,  0, 16]], dtype=int64)"
      ]
     },
     "execution_count": 81,
     "metadata": {},
     "output_type": "execute_result"
    }
   ],
   "source": [
    "confusion_matrix(y_test_mod, classes_x)"
   ]
  },
  {
   "cell_type": "code",
   "execution_count": 82,
   "id": "002384aa",
   "metadata": {},
   "outputs": [
    {
     "name": "stdout",
     "output_type": "stream",
     "text": [
      "              precision    recall  f1-score   support\n",
      "\n",
      "           0       1.00      1.00      1.00        19\n",
      "           1       1.00      0.93      0.97        15\n",
      "           2       0.94      1.00      0.97        16\n",
      "\n",
      "    accuracy                           0.98        50\n",
      "   macro avg       0.98      0.98      0.98        50\n",
      "weighted avg       0.98      0.98      0.98        50\n",
      "\n"
     ]
    }
   ],
   "source": [
    "print(classification_report(y_test.argmax(axis=1), classes_x))"
   ]
  },
  {
   "cell_type": "code",
   "execution_count": null,
   "id": "a43029c3",
   "metadata": {},
   "outputs": [],
   "source": []
  },
  {
   "cell_type": "code",
   "execution_count": 83,
   "id": "c70a1545",
   "metadata": {},
   "outputs": [],
   "source": [
    "model.save('myfirstmodel.h5')"
   ]
  },
  {
   "cell_type": "code",
   "execution_count": 84,
   "id": "3c9669cd",
   "metadata": {},
   "outputs": [],
   "source": [
    "# load our model"
   ]
  },
  {
   "cell_type": "code",
   "execution_count": 85,
   "id": "f2abfd2b",
   "metadata": {},
   "outputs": [],
   "source": [
    "from tensorflow.keras.models import load_model"
   ]
  },
  {
   "cell_type": "code",
   "execution_count": 86,
   "id": "67ac2a85",
   "metadata": {},
   "outputs": [],
   "source": [
    "new_model = load_model('myfirstmodel.h5')"
   ]
  },
  {
   "cell_type": "code",
   "execution_count": null,
   "id": "7da2d81d",
   "metadata": {},
   "outputs": [],
   "source": []
  },
  {
   "cell_type": "code",
   "execution_count": null,
   "id": "dfcfcb93",
   "metadata": {},
   "outputs": [],
   "source": []
  },
  {
   "cell_type": "markdown",
   "id": "b41c1651",
   "metadata": {},
   "source": [
    "# Recurrent Neural Network"
   ]
  },
  {
   "cell_type": "markdown",
   "id": "28795334",
   "metadata": {},
   "source": [
    "\n",
    "- modelled to work with sequence data\n",
    " - time series\n",
    " - sentences\n",
    " - audio\n",
    " - car trajectories\n",
    " - music"
   ]
  },
  {
   "cell_type": "markdown",
   "id": "48e18f9f",
   "metadata": {},
   "source": [
    "## Recrrunt neuron\n",
    "- sends output back to itself\n",
    "- if we unroll it over time , the t-1 output is t input, and t output is t+1 input with input at that step\n"
   ]
  },
  {
   "cell_type": "markdown",
   "id": "25025e63",
   "metadata": {},
   "source": [
    "- it gives a peception of the neurons having some form of memory   \n",
    "- sequence to sequence (sales)\n",
    "- sequence to vector   (movie review)\n",
    "- vector to sequence   (hello -> hellow, how are you)\n",
    "-"
   ]
  },
  {
   "cell_type": "code",
   "execution_count": null,
   "id": "df53cc6e",
   "metadata": {},
   "outputs": [],
   "source": []
  },
  {
   "cell_type": "markdown",
   "id": "24cd10e5",
   "metadata": {},
   "source": [
    "## LSTM , GRU and TextGeneration"
   ]
  },
  {
   "cell_type": "code",
   "execution_count": 87,
   "id": "9097f482",
   "metadata": {},
   "outputs": [],
   "source": [
    "# issue with RNN is forgetting old trained\n",
    "# LSTM(long short term memory) solve this\n",
    "# h(t) used to denote the output of each neuron\n",
    "# Keras have a api that makes lstm and rnn to work easily\n",
    "# "
   ]
  },
  {
   "cell_type": "code",
   "execution_count": null,
   "id": "063f9e77",
   "metadata": {},
   "outputs": [],
   "source": []
  },
  {
   "cell_type": "markdown",
   "id": "2d58e688",
   "metadata": {},
   "source": [
    "## TextGeneration\n",
    "part 1"
   ]
  },
  {
   "cell_type": "code",
   "execution_count": null,
   "id": "edfee6e5",
   "metadata": {},
   "outputs": [],
   "source": []
  },
  {
   "cell_type": "code",
   "execution_count": 88,
   "id": "5b6616b4",
   "metadata": {},
   "outputs": [],
   "source": [
    "def read_file(filepath):\n",
    "    with open(filepath) as f:\n",
    "        str_text = f.read()\n",
    "    return str_text"
   ]
  },
  {
   "cell_type": "code",
   "execution_count": null,
   "id": "65426f65",
   "metadata": {},
   "outputs": [],
   "source": []
  },
  {
   "cell_type": "code",
   "execution_count": 90,
   "id": "ad259c6f",
   "metadata": {},
   "outputs": [],
   "source": [
    "# tokenization and cleaning\n",
    "# we can use spcy"
   ]
  },
  {
   "cell_type": "code",
   "execution_count": 91,
   "id": "aac9ec0f",
   "metadata": {},
   "outputs": [],
   "source": [
    "import spacy"
   ]
  },
  {
   "cell_type": "code",
   "execution_count": 102,
   "id": "234f1208",
   "metadata": {},
   "outputs": [],
   "source": [
    "nlp = spacy.load('en_core_web_lg', disable= ['parser', 'tagger', 'ner'])"
   ]
  },
  {
   "cell_type": "code",
   "execution_count": 103,
   "id": "5ef74508",
   "metadata": {},
   "outputs": [],
   "source": [
    "nlp.max_length = 1198623"
   ]
  },
  {
   "cell_type": "code",
   "execution_count": 104,
   "id": "32b3d75a",
   "metadata": {},
   "outputs": [],
   "source": [
    "def separate_punc(doc_text):\n",
    "    return [token.text.lower() for token in nlp(doc_text) if token.text not in '\\n\\n \\n\\n\\n!\"-#$%&()--.*+,-/:;<=>?@[\\\\]^_`{|}~\\t\\n ']"
   ]
  },
  {
   "cell_type": "code",
   "execution_count": 105,
   "id": "231b430d",
   "metadata": {},
   "outputs": [],
   "source": [
    "d = read_file('resources/moby_dick_four_chapters.txt')"
   ]
  },
  {
   "cell_type": "code",
   "execution_count": 106,
   "id": "d4257755",
   "metadata": {},
   "outputs": [],
   "source": [
    "tokens = separate_punc(d)"
   ]
  },
  {
   "cell_type": "code",
   "execution_count": 107,
   "id": "250c8e0d",
   "metadata": {},
   "outputs": [
    {
     "data": {
      "text/plain": [
       "11338"
      ]
     },
     "execution_count": 107,
     "metadata": {},
     "output_type": "execute_result"
    }
   ],
   "source": [
    "len(tokens)"
   ]
  },
  {
   "cell_type": "code",
   "execution_count": 109,
   "id": "fbfd4c16",
   "metadata": {},
   "outputs": [],
   "source": [
    "# we are gonna pass 25 words and let our neural network predict the 26th word"
   ]
  },
  {
   "cell_type": "code",
   "execution_count": 110,
   "id": "e807658d",
   "metadata": {},
   "outputs": [],
   "source": [
    "train_len = 25 + 1\n",
    "text_sequences = []\n",
    "for i in range(train_len, len(tokens)):\n",
    "    seq = tokens[i-train_len:i]\n",
    "    \n",
    "    text_sequences.append(seq)"
   ]
  },
  {
   "cell_type": "code",
   "execution_count": 111,
   "id": "df30da6f",
   "metadata": {},
   "outputs": [
    {
     "data": {
      "text/plain": [
       "list"
      ]
     },
     "execution_count": 111,
     "metadata": {},
     "output_type": "execute_result"
    }
   ],
   "source": [
    "type(text_sequences)"
   ]
  },
  {
   "cell_type": "code",
   "execution_count": 117,
   "id": "4b0d9a05",
   "metadata": {},
   "outputs": [
    {
     "data": {
      "text/plain": [
       "'call me ishmael some years ago never mind how long precisely having little or no money in my purse and nothing particular to interest me on'"
      ]
     },
     "execution_count": 117,
     "metadata": {},
     "output_type": "execute_result"
    }
   ],
   "source": [
    "' '.join(text_sequences[0])"
   ]
  },
  {
   "cell_type": "code",
   "execution_count": 116,
   "id": "dbd8b4cb",
   "metadata": {},
   "outputs": [
    {
     "data": {
      "text/plain": [
       "'me ishmael some years ago never mind how long precisely having little or no money in my purse and nothing particular to interest me on shore'"
      ]
     },
     "execution_count": 116,
     "metadata": {},
     "output_type": "execute_result"
    }
   ],
   "source": [
    "' '.join(text_sequences[1])"
   ]
  },
  {
   "cell_type": "code",
   "execution_count": 118,
   "id": "3ba1542c",
   "metadata": {},
   "outputs": [
    {
     "data": {
      "text/plain": [
       "'ishmael some years ago never mind how long precisely having little or no money in my purse and nothing particular to interest me on shore i'"
      ]
     },
     "execution_count": 118,
     "metadata": {},
     "output_type": "execute_result"
    }
   ],
   "source": [
    "' '.join(text_sequences[2])"
   ]
  },
  {
   "cell_type": "code",
   "execution_count": 119,
   "id": "dbd3fcc7",
   "metadata": {},
   "outputs": [],
   "source": [
    "from tensorflow.keras.preprocessing.text import Tokenizer"
   ]
  },
  {
   "cell_type": "code",
   "execution_count": 120,
   "id": "15ae8e86",
   "metadata": {},
   "outputs": [],
   "source": [
    "tokenizer = Tokenizer()"
   ]
  },
  {
   "cell_type": "code",
   "execution_count": 121,
   "id": "a0b06701",
   "metadata": {},
   "outputs": [],
   "source": [
    "tokenizer.fit_on_texts(text_sequences)"
   ]
  },
  {
   "cell_type": "code",
   "execution_count": 122,
   "id": "b3763753",
   "metadata": {},
   "outputs": [],
   "source": [
    "sequences = tokenizer.texts_to_sequences(text_sequences)"
   ]
  },
  {
   "cell_type": "code",
   "execution_count": 123,
   "id": "2213fe2e",
   "metadata": {},
   "outputs": [],
   "source": [
    "# sequences[1]"
   ]
  },
  {
   "cell_type": "code",
   "execution_count": 124,
   "id": "6432caf5",
   "metadata": {},
   "outputs": [
    {
     "name": "stdout",
     "output_type": "stream",
     "text": [
      "956 : call\n",
      "14 : me\n",
      "263 : ishmael\n",
      "51 : some\n",
      "261 : years\n",
      "408 : ago\n",
      "87 : never\n",
      "219 : mind\n",
      "129 : how\n",
      "111 : long\n",
      "954 : precisely\n",
      "260 : having\n",
      "50 : little\n",
      "43 : or\n",
      "38 : no\n",
      "314 : money\n",
      "7 : in\n",
      "23 : my\n",
      "546 : purse\n",
      "3 : and\n",
      "150 : nothing\n",
      "259 : particular\n",
      "6 : to\n",
      "2713 : interest\n",
      "14 : me\n",
      "24 : on\n"
     ]
    }
   ],
   "source": [
    "for i in sequences[0]:\n",
    "    print(f'{i} : {tokenizer.index_word[i]}')"
   ]
  },
  {
   "cell_type": "code",
   "execution_count": 125,
   "id": "61f1a455",
   "metadata": {},
   "outputs": [],
   "source": [
    " import numpy as np"
   ]
  },
  {
   "cell_type": "code",
   "execution_count": 126,
   "id": "124b441a",
   "metadata": {},
   "outputs": [],
   "source": [
    "sequences = np.array(sequences)"
   ]
  },
  {
   "cell_type": "code",
   "execution_count": 127,
   "id": "33c8915d",
   "metadata": {},
   "outputs": [
    {
     "data": {
      "text/plain": [
       "array([[ 956,   14,  263, ..., 2713,   14,   24],\n",
       "       [  14,  263,   51, ...,   14,   24,  957],\n",
       "       [ 263,   51,  261, ...,   24,  957,    5],\n",
       "       ...,\n",
       "       [ 952,   12,  166, ...,  262,   53,    2],\n",
       "       [  12,  166, 2712, ...,   53,    2, 2718],\n",
       "       [ 166, 2712,    3, ...,    2, 2718,   26]])"
      ]
     },
     "execution_count": 127,
     "metadata": {},
     "output_type": "execute_result"
    }
   ],
   "source": [
    "sequences"
   ]
  },
  {
   "cell_type": "code",
   "execution_count": 136,
   "id": "671148f9",
   "metadata": {},
   "outputs": [
    {
     "data": {
      "text/plain": [
       "2718"
      ]
     },
     "execution_count": 136,
     "metadata": {},
     "output_type": "execute_result"
    }
   ],
   "source": [
    "vocabulary_size = len(tokenizer.word_counts)\n",
    "vocabulary_size"
   ]
  },
  {
   "cell_type": "markdown",
   "id": "1f8e4005",
   "metadata": {},
   "source": [
    "## Text Generation with Python and Keras"
   ]
  },
  {
   "cell_type": "markdown",
   "id": "4d57c65a",
   "metadata": {},
   "source": [
    "- create the LSTM based Model\n",
    "- split the data into features and labels\n",
    " - x features (first n words of sequence)\n",
    " - y label (next word after sequence)\n",
    "- fit the model"
   ]
  },
  {
   "cell_type": "code",
   "execution_count": 128,
   "id": "2aea5401",
   "metadata": {},
   "outputs": [],
   "source": [
    "# split the data "
   ]
  },
  {
   "cell_type": "code",
   "execution_count": 129,
   "id": "13e98063",
   "metadata": {},
   "outputs": [],
   "source": [
    "from tensorflow.keras.utils import to_categorical"
   ]
  },
  {
   "cell_type": "code",
   "execution_count": 132,
   "id": "69fb23ba",
   "metadata": {},
   "outputs": [],
   "source": [
    "X = sequences[:, :-1]"
   ]
  },
  {
   "cell_type": "code",
   "execution_count": 133,
   "id": "37af40f9",
   "metadata": {},
   "outputs": [],
   "source": [
    "y= sequences[:, -1]"
   ]
  },
  {
   "cell_type": "code",
   "execution_count": 137,
   "id": "e3e261b2",
   "metadata": {},
   "outputs": [],
   "source": [
    "y = to_categorical(y, num_classes= vocabulary_size+1)"
   ]
  },
  {
   "cell_type": "code",
   "execution_count": 144,
   "id": "31a69656",
   "metadata": {},
   "outputs": [
    {
     "data": {
      "text/plain": [
       "25"
      ]
     },
     "execution_count": 144,
     "metadata": {},
     "output_type": "execute_result"
    }
   ],
   "source": [
    "seq_len = X.shape[1]\n",
    "seq_len"
   ]
  },
  {
   "cell_type": "code",
   "execution_count": 139,
   "id": "2517080c",
   "metadata": {},
   "outputs": [
    {
     "data": {
      "text/plain": [
       "(11312, 25)"
      ]
     },
     "execution_count": 139,
     "metadata": {},
     "output_type": "execute_result"
    }
   ],
   "source": [
    "X.shape"
   ]
  },
  {
   "cell_type": "code",
   "execution_count": 141,
   "id": "f81b2cd3",
   "metadata": {},
   "outputs": [
    {
     "data": {
      "text/plain": [
       "(11312, 2719)"
      ]
     },
     "execution_count": 141,
     "metadata": {},
     "output_type": "execute_result"
    }
   ],
   "source": [
    "y.shape"
   ]
  },
  {
   "cell_type": "code",
   "execution_count": 143,
   "id": "98363242",
   "metadata": {},
   "outputs": [],
   "source": [
    "# LSTM layer for sequences and embedding layer to deal with vocabulary\n",
    "\n",
    "from tensorflow.keras.models import Sequential\n",
    "from tensorflow.keras.layers import Dense, LSTM, Embedding"
   ]
  },
  {
   "cell_type": "code",
   "execution_count": 145,
   "id": "c75b7324",
   "metadata": {},
   "outputs": [],
   "source": [
    "# Turns positive integers (indexes) into dense vectors of fixed size\n",
    "\n",
    "def create_model(vocabulary_size, seq_len):\n",
    "    model = Sequential()\n",
    "    model.add(Embedding(vocabulary_size, seq_len, input_length= seq_len))\n",
    "    model.add(LSTM(50, return_sequences= True))\n",
    "    model.add(LSTM(50))\n",
    "    model.add(Dense(50, activation='relu'))\n",
    "    \n",
    "    model.add(Dense(vocabulary_size, activation= 'softmax'))\n",
    "    \n",
    "    model.compile(loss ='categorical_crossentropy', optimizer= 'adam', metrics=['accuracy'])\n",
    "    model.summary()\n",
    "    return model"
   ]
  },
  {
   "cell_type": "code",
   "execution_count": 146,
   "id": "b644b6c4",
   "metadata": {},
   "outputs": [
    {
     "name": "stdout",
     "output_type": "stream",
     "text": [
      "Model: \"sequential_1\"\n",
      "_________________________________________________________________\n",
      " Layer (type)                Output Shape              Param #   \n",
      "=================================================================\n",
      " embedding (Embedding)       (None, 25, 25)            67975     \n",
      "                                                                 \n",
      " lstm (LSTM)                 (None, 25, 50)            15200     \n",
      "                                                                 \n",
      " lstm_1 (LSTM)               (None, 50)                20200     \n",
      "                                                                 \n",
      " dense_3 (Dense)             (None, 50)                2550      \n",
      "                                                                 \n",
      " dense_4 (Dense)             (None, 2719)              138669    \n",
      "                                                                 \n",
      "=================================================================\n",
      "Total params: 244,594\n",
      "Trainable params: 244,594\n",
      "Non-trainable params: 0\n",
      "_________________________________________________________________\n"
     ]
    }
   ],
   "source": [
    "model = create_model(vocabulary_size+1, seq_len)"
   ]
  },
  {
   "cell_type": "code",
   "execution_count": 147,
   "id": "13a28f62",
   "metadata": {},
   "outputs": [],
   "source": [
    "from pickle import dump, load"
   ]
  },
  {
   "cell_type": "code",
   "execution_count": 148,
   "id": "e3f6f362",
   "metadata": {},
   "outputs": [
    {
     "name": "stdout",
     "output_type": "stream",
     "text": [
      "Epoch 1/2\n",
      "89/89 [==============================] - 15s 62ms/step - loss: 6.9740 - accuracy: 0.0493\n",
      "Epoch 2/2\n",
      "89/89 [==============================] - 6s 64ms/step - loss: 6.3744 - accuracy: 0.0529\n"
     ]
    },
    {
     "data": {
      "text/plain": [
       "<keras.callbacks.History at 0x1eea57a16d0>"
      ]
     },
     "execution_count": 148,
     "metadata": {},
     "output_type": "execute_result"
    }
   ],
   "source": [
    "model.fit(X, y, batch_size = 128, epochs=2, verbose=1)"
   ]
  },
  {
   "cell_type": "code",
   "execution_count": 149,
   "id": "77e58cb4",
   "metadata": {},
   "outputs": [],
   "source": [
    "model.save('my_mobydick_model.h5')"
   ]
  },
  {
   "cell_type": "code",
   "execution_count": 150,
   "id": "133b05f8",
   "metadata": {},
   "outputs": [],
   "source": [
    "dump(tokenizer, open('my_simpletokenizer', 'wb'))"
   ]
  },
  {
   "cell_type": "code",
   "execution_count": 151,
   "id": "cd385989",
   "metadata": {},
   "outputs": [],
   "source": [
    "## Generate new text"
   ]
  },
  {
   "cell_type": "code",
   "execution_count": 153,
   "id": "663430c0",
   "metadata": {},
   "outputs": [],
   "source": [
    "from tensorflow.keras.preprocessing.sequence import pad_sequences"
   ]
  },
  {
   "cell_type": "code",
   "execution_count": 205,
   "id": "c71e36cf",
   "metadata": {},
   "outputs": [],
   "source": [
    "def generate_text(model, tokenizer, seq_len, seed_text, num_gen_words):\n",
    "    output_text = []\n",
    "    input_text = seed_text\n",
    "    \n",
    "    for i in range(num_gen_words):\n",
    "        encoded_text = tokenizer.texts_to_sequences([input_text])[0]\n",
    "        pad_encoded = pad_sequences([encoded_text], maxlen = seq_len, truncating='pre')\n",
    "        \n",
    "        \n",
    "        predict_x=model.predict(pad_encoded)[0]\n",
    "        pred_word_ind=np.argmax(predict_x)\n",
    "        \n",
    "        \n",
    "        pred_word = tokenizer.index_word[pred_word_ind]\n",
    "        \n",
    "        input_text += ' '+ pred_word\n",
    "        output_text.append(pred_word)\n",
    "    return ' '.join(output_text)"
   ]
  },
  {
   "cell_type": "code",
   "execution_count": 206,
   "id": "2aac04f0",
   "metadata": {},
   "outputs": [
    {
     "data": {
      "text/plain": [
       "['call',\n",
       " 'me',\n",
       " 'ishmael',\n",
       " 'some',\n",
       " 'years',\n",
       " 'ago',\n",
       " 'never',\n",
       " 'mind',\n",
       " 'how',\n",
       " 'long',\n",
       " 'precisely',\n",
       " 'having',\n",
       " 'little',\n",
       " 'or',\n",
       " 'no',\n",
       " 'money',\n",
       " 'in',\n",
       " 'my',\n",
       " 'purse',\n",
       " 'and',\n",
       " 'nothing',\n",
       " 'particular',\n",
       " 'to',\n",
       " 'interest',\n",
       " 'me',\n",
       " 'on']"
      ]
     },
     "execution_count": 206,
     "metadata": {},
     "output_type": "execute_result"
    }
   ],
   "source": [
    "text_sequences[0]"
   ]
  },
  {
   "cell_type": "code",
   "execution_count": 207,
   "id": "d891295b",
   "metadata": {},
   "outputs": [],
   "source": [
    "import random \n",
    "random.seed(101)\n",
    "random_pick = random.randint(0, len(text_sequences))"
   ]
  },
  {
   "cell_type": "code",
   "execution_count": 208,
   "id": "f46e3ee5",
   "metadata": {},
   "outputs": [],
   "source": [
    "random_seed_text = text_sequences[random_pick]"
   ]
  },
  {
   "cell_type": "code",
   "execution_count": 209,
   "id": "a7f2c138",
   "metadata": {},
   "outputs": [
    {
     "data": {
      "text/plain": [
       "['thought',\n",
       " 'i',\n",
       " 'to',\n",
       " 'myself',\n",
       " 'the',\n",
       " 'man',\n",
       " \"'s\",\n",
       " 'a',\n",
       " 'human',\n",
       " 'being',\n",
       " 'just',\n",
       " 'as',\n",
       " 'i',\n",
       " 'am',\n",
       " 'he',\n",
       " 'has',\n",
       " 'just',\n",
       " 'as',\n",
       " 'much',\n",
       " 'reason',\n",
       " 'to',\n",
       " 'fear',\n",
       " 'me',\n",
       " 'as',\n",
       " 'i',\n",
       " 'have']"
      ]
     },
     "execution_count": 209,
     "metadata": {},
     "output_type": "execute_result"
    }
   ],
   "source": [
    "random_seed_text"
   ]
  },
  {
   "cell_type": "code",
   "execution_count": 210,
   "id": "9c3ab9bc",
   "metadata": {},
   "outputs": [],
   "source": [
    "seed_txt = ' '.join(random_seed_text)"
   ]
  },
  {
   "cell_type": "code",
   "execution_count": 211,
   "id": "ab27054d",
   "metadata": {},
   "outputs": [
    {
     "data": {
      "text/plain": [
       "\"thought i to myself the man 's a human being just as i am he has just as much reason to fear me as i have\""
      ]
     },
     "execution_count": 211,
     "metadata": {},
     "output_type": "execute_result"
    }
   ],
   "source": [
    "seed_txt"
   ]
  },
  {
   "cell_type": "code",
   "execution_count": 212,
   "id": "17f104df",
   "metadata": {},
   "outputs": [
    {
     "name": "stdout",
     "output_type": "stream",
     "text": [
      "1/1 [==============================] - 0s 28ms/step\n",
      "1/1 [==============================] - 0s 31ms/step\n",
      "1/1 [==============================] - 0s 27ms/step\n",
      "1/1 [==============================] - 0s 25ms/step\n",
      "1/1 [==============================] - 0s 28ms/step\n",
      "1/1 [==============================] - 0s 27ms/step\n",
      "1/1 [==============================] - 0s 35ms/step\n",
      "1/1 [==============================] - 0s 31ms/step\n",
      "1/1 [==============================] - 0s 27ms/step\n",
      "1/1 [==============================] - 0s 48ms/step\n",
      "1/1 [==============================] - 0s 29ms/step\n",
      "1/1 [==============================] - 0s 82ms/step\n",
      "1/1 [==============================] - 0s 33ms/step\n",
      "1/1 [==============================] - 0s 26ms/step\n",
      "1/1 [==============================] - 0s 50ms/step\n",
      "1/1 [==============================] - 0s 38ms/step\n",
      "1/1 [==============================] - 0s 34ms/step\n",
      "1/1 [==============================] - 0s 50ms/step\n",
      "1/1 [==============================] - 0s 54ms/step\n",
      "1/1 [==============================] - 0s 25ms/step\n",
      "1/1 [==============================] - 0s 28ms/step\n",
      "1/1 [==============================] - 0s 27ms/step\n",
      "1/1 [==============================] - 0s 63ms/step\n",
      "1/1 [==============================] - 0s 29ms/step\n",
      "1/1 [==============================] - 0s 52ms/step\n"
     ]
    },
    {
     "data": {
      "text/plain": [
       "'the the the the the the the the the the the the the the the the the the the the the the the the the'"
      ]
     },
     "execution_count": 212,
     "metadata": {},
     "output_type": "execute_result"
    }
   ],
   "source": [
    "generate_text(model, tokenizer, seq_len, seed_text=seed_txt, num_gen_words=25)"
   ]
  },
  {
   "cell_type": "code",
   "execution_count": null,
   "id": "9de9c849",
   "metadata": {},
   "outputs": [],
   "source": []
  },
  {
   "cell_type": "code",
   "execution_count": null,
   "id": "c1b96b14",
   "metadata": {},
   "outputs": [],
   "source": []
  },
  {
   "cell_type": "code",
   "execution_count": null,
   "id": "adad29d6",
   "metadata": {},
   "outputs": [],
   "source": []
  }
 ],
 "metadata": {
  "kernelspec": {
   "display_name": "Python 3",
   "language": "python",
   "name": "python3"
  },
  "language_info": {
   "codemirror_mode": {
    "name": "ipython",
    "version": 3
   },
   "file_extension": ".py",
   "mimetype": "text/x-python",
   "name": "python",
   "nbconvert_exporter": "python",
   "pygments_lexer": "ipython3",
   "version": "3.8.8"
  }
 },
 "nbformat": 4,
 "nbformat_minor": 5
}
